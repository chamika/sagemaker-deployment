{
 "cells": [
  {
   "cell_type": "markdown",
   "metadata": {},
   "source": [
    "# Sentiment Analysis Web App\n",
    "\n",
    "_Deep Learning Nanodegree Program | Deployment_\n",
    "\n",
    "---\n",
    "\n",
    "In this notebook we will use Amazon's SageMaker service to construct a random tree model to predict the sentiment of a movie review. In addition, we will deploy this model to an endpoint and construct a very simple web app which will interact with our model's deployed endpoint.\n",
    "\n",
    "## General Outline\n",
    "\n",
    "Typically, when using a notebook instance with SageMaker, you will proceed through the following steps. Of course, not every step will need to be done with each project. Also, there is quite a lot of room for variation in many of the steps, as you will see throughout these lessons.\n",
    "\n",
    "1. Download or otherwise retrieve the data.\n",
    "2. Process / Prepare the data.\n",
    "3. Upload the processed data to S3.\n",
    "4. Train a chosen model.\n",
    "5. Test the trained model (typically using a batch transform job).\n",
    "6. Deploy the trained model.\n",
    "7. Use the deployed model.\n",
    "\n",
    "In this notebook we will progress through each of the steps above. We will also see that the final step, using the deployed model, can be quite challenging."
   ]
  },
  {
   "cell_type": "markdown",
   "metadata": {},
   "source": [
    "## Step 1: Downloading the data\n",
    "\n",
    "The dataset we are going to use is very popular among researchers in Natural Language Processing, usually referred to as the [IMDb dataset](http://ai.stanford.edu/~amaas/data/sentiment/). It consists of movie reviews from the website [imdb.com](http://www.imdb.com/), each labeled as either '**pos**itive', if the reviewer enjoyed the film, or '**neg**ative' otherwise.\n",
    "\n",
    "> Maas, Andrew L., et al. [Learning Word Vectors for Sentiment Analysis](http://ai.stanford.edu/~amaas/data/sentiment/). In _Proceedings of the 49th Annual Meeting of the Association for Computational Linguistics: Human Language Technologies_. Association for Computational Linguistics, 2011.\n",
    "\n",
    "We begin by using some Jupyter Notebook magic to download and extract the dataset."
   ]
  },
  {
   "cell_type": "code",
   "execution_count": 1,
   "metadata": {},
   "outputs": [
    {
     "name": "stdout",
     "output_type": "stream",
     "text": [
      "mkdir: cannot create directory ‘../data’: File exists\n",
      "--2019-12-21 21:18:41--  http://ai.stanford.edu/~amaas/data/sentiment/aclImdb_v1.tar.gz\n",
      "Resolving ai.stanford.edu (ai.stanford.edu)... 171.64.68.10\n",
      "Connecting to ai.stanford.edu (ai.stanford.edu)|171.64.68.10|:80... connected.\n",
      "HTTP request sent, awaiting response... 200 OK\n",
      "Length: 84125825 (80M) [application/x-gzip]\n",
      "Saving to: ‘../data/aclImdb_v1.tar.gz’\n",
      "\n",
      "../data/aclImdb_v1. 100%[===================>]  80.23M  10.6MB/s    in 9.2s    \n",
      "\n",
      "2019-12-21 21:18:50 (8.74 MB/s) - ‘../data/aclImdb_v1.tar.gz’ saved [84125825/84125825]\n",
      "\n"
     ]
    }
   ],
   "source": [
    "%mkdir ../data\n",
    "!wget -O ../data/aclImdb_v1.tar.gz http://ai.stanford.edu/~amaas/data/sentiment/aclImdb_v1.tar.gz\n",
    "!tar -zxf ../data/aclImdb_v1.tar.gz -C ../data"
   ]
  },
  {
   "cell_type": "markdown",
   "metadata": {},
   "source": [
    "## Step 2: Preparing and Processing the data\n",
    "\n",
    "The data we have downloaded is split into various files, each of which contains a single review. It will be much easier going forward if we combine these individual files into two large files, one for training and one for testing."
   ]
  },
  {
   "cell_type": "code",
   "execution_count": 1,
   "metadata": {},
   "outputs": [],
   "source": [
    "import os\n",
    "import glob\n",
    "\n",
    "def read_imdb_data(data_dir='../data/aclImdb'):\n",
    "    data = {}\n",
    "    labels = {}\n",
    "    \n",
    "    for data_type in ['train', 'test']:\n",
    "        data[data_type] = {}\n",
    "        labels[data_type] = {}\n",
    "        \n",
    "        for sentiment in ['pos', 'neg']:\n",
    "            data[data_type][sentiment] = []\n",
    "            labels[data_type][sentiment] = []\n",
    "            \n",
    "            path = os.path.join(data_dir, data_type, sentiment, '*.txt')\n",
    "            files = glob.glob(path)\n",
    "            \n",
    "            for f in files:\n",
    "                with open(f) as review:\n",
    "                    data[data_type][sentiment].append(review.read())\n",
    "                    # Here we represent a positive review by '1' and a negative review by '0'\n",
    "                    labels[data_type][sentiment].append(1 if sentiment == 'pos' else 0)\n",
    "                    \n",
    "            assert len(data[data_type][sentiment]) == len(labels[data_type][sentiment]), \\\n",
    "                    \"{}/{} data size does not match labels size\".format(data_type, sentiment)\n",
    "                \n",
    "    return data, labels"
   ]
  },
  {
   "cell_type": "code",
   "execution_count": 3,
   "metadata": {},
   "outputs": [
    {
     "name": "stdout",
     "output_type": "stream",
     "text": [
      "IMDB reviews: train = 12500 pos / 12500 neg, test = 12500 pos / 12500 neg\n"
     ]
    }
   ],
   "source": [
    "data, labels = read_imdb_data()\n",
    "print(\"IMDB reviews: train = {} pos / {} neg, test = {} pos / {} neg\".format(\n",
    "            len(data['train']['pos']), len(data['train']['neg']),\n",
    "            len(data['test']['pos']), len(data['test']['neg'])))"
   ]
  },
  {
   "cell_type": "code",
   "execution_count": 4,
   "metadata": {},
   "outputs": [],
   "source": [
    "from sklearn.utils import shuffle\n",
    "\n",
    "def prepare_imdb_data(data, labels):\n",
    "    \"\"\"Prepare training and test sets from IMDb movie reviews.\"\"\"\n",
    "    \n",
    "    #Combine positive and negative reviews and labels\n",
    "    data_train = data['train']['pos'] + data['train']['neg']\n",
    "    data_test = data['test']['pos'] + data['test']['neg']\n",
    "    labels_train = labels['train']['pos'] + labels['train']['neg']\n",
    "    labels_test = labels['test']['pos'] + labels['test']['neg']\n",
    "    \n",
    "    #Shuffle reviews and corresponding labels within training and test sets\n",
    "    data_train, labels_train = shuffle(data_train, labels_train)\n",
    "    data_test, labels_test = shuffle(data_test, labels_test)\n",
    "    \n",
    "    # Return a unified training data, test data, training labels, test labets\n",
    "    return data_train, data_test, labels_train, labels_test"
   ]
  },
  {
   "cell_type": "code",
   "execution_count": 5,
   "metadata": {},
   "outputs": [
    {
     "name": "stdout",
     "output_type": "stream",
     "text": [
      "IMDb reviews (combined): train = 25000, test = 25000\n"
     ]
    }
   ],
   "source": [
    "train_X, test_X, train_y, test_y = prepare_imdb_data(data, labels)\n",
    "print(\"IMDb reviews (combined): train = {}, test = {}\".format(len(train_X), len(test_X)))"
   ]
  },
  {
   "cell_type": "code",
   "execution_count": 6,
   "metadata": {},
   "outputs": [
    {
     "data": {
      "text/plain": [
       "\"Sometime in 1998, Saban had acquired the rights to produce a brand-new Ninja Turtles live-action series. Naturally, being a fan of the TMNT back in the day, this obviously peaked my interest. So when I started watching the show... to say I was disappointed by the end result is an understatement. Some time later (more like recently), I got a chance to revisit the series.<br /><br />First off, let's talk about some of the positives. They managed to re-create the Turtles' lair as it was last seen in the movies fairly well given the limited budget they threw in with this. There tends to be this darker atmosphere overall in terms of the sets and whatnot. And the Turtle suits, while not the greatest piece of puppetry and whatnot, were functional and seemed pretty sturdy for most of the action stuff that would follow in the series.<br /><br />People tend to complain about getting rid of Shredder quickly and replacing him with these original villains who could have easily been used in a Power Rangers show. But you can only have Shredder get beat so many times before it gets boring and undermines his worth as a villain... and besides, most fans don't realize or don't remember or just plain ignore the fact that in the original comic, the Shredder was offed in the very first issue! Never mind the countless resurrections that would follow. So on a personal standpoint, I was sort of glad they got rid of Shredder because then the anticipation would build to the point where they would eventually bring him back in a later episode. I find that Shredder in small quantities work best because then his encounters with the Turtles are all the more memorable.<br /><br />Unfortunately, they end up replacing him with these original villains who, as stated, seemed more fit for a Power Rangers show than a Ninja Turtles show. And with these new magic-wielding generics comes a new female magic-wielding turtle, the infamous Venus De Milo. I'll be honest; I never got comfortable with her. I'm not against the idea of a female turtle; I'm just against the idea of one who uses magic and thus sticks out like a sore sight among a clan of ninja turtles who seem somewhat out of their domain. I almost get the impression that this could have easily been the Venus De Milo show dealing with her make-believe enemies and the TMNT are just there to provide the star power (or whatever was left considering the timeframe this was released). Fortunately, they all share the spotlight together.<br /><br />Next Mutation was canned after a season on the air and the creators were more than happy to ignore it. Given time and maybe another season, I really believe this live iteration of the TMNT could have been something and might have gotten a chance at greatness. But while the idea was sound, the execution was flawed (although there are a couple good episodes in this series). As it stands, Next Mutation is one of those oddities in Turtledom that is best left buried and forgotten.\""
      ]
     },
     "execution_count": 6,
     "metadata": {},
     "output_type": "execute_result"
    }
   ],
   "source": [
    "train_X[100]"
   ]
  },
  {
   "cell_type": "markdown",
   "metadata": {},
   "source": [
    "## Processing the data\n",
    "\n",
    "Now that we have our training and testing datasets merged and ready to use, we need to start processing the raw data into something that will be useable by our machine learning algorithm. To begin with, we remove any html formatting and any non-alpha numeric characters that may appear in the reviews. We will do this in a very simplistic way using Python's regular expression module. We will discuss the reason for this rather simplistic pre-processing later on."
   ]
  },
  {
   "cell_type": "code",
   "execution_count": 7,
   "metadata": {},
   "outputs": [],
   "source": [
    "import re\n",
    "\n",
    "REPLACE_NO_SPACE = re.compile(\"(\\.)|(\\;)|(\\:)|(\\!)|(\\')|(\\?)|(\\,)|(\\\")|(\\()|(\\))|(\\[)|(\\])\")\n",
    "REPLACE_WITH_SPACE = re.compile(\"(<br\\s*/><br\\s*/>)|(\\-)|(\\/)\")\n",
    "\n",
    "def review_to_words(review):\n",
    "    words = REPLACE_NO_SPACE.sub(\"\", review.lower())\n",
    "    words = REPLACE_WITH_SPACE.sub(\" \", words)\n",
    "    return words"
   ]
  },
  {
   "cell_type": "code",
   "execution_count": 8,
   "metadata": {},
   "outputs": [
    {
     "data": {
      "text/plain": [
       "'sometime in 1998 saban had acquired the rights to produce a brand new ninja turtles live action series naturally being a fan of the tmnt back in the day this obviously peaked my interest so when i started watching the show to say i was disappointed by the end result is an understatement some time later more like recently i got a chance to revisit the series first off lets talk about some of the positives they managed to re create the turtles lair as it was last seen in the movies fairly well given the limited budget they threw in with this there tends to be this darker atmosphere overall in terms of the sets and whatnot and the turtle suits while not the greatest piece of puppetry and whatnot were functional and seemed pretty sturdy for most of the action stuff that would follow in the series people tend to complain about getting rid of shredder quickly and replacing him with these original villains who could have easily been used in a power rangers show but you can only have shredder get beat so many times before it gets boring and undermines his worth as a villain and besides most fans dont realize or dont remember or just plain ignore the fact that in the original comic the shredder was offed in the very first issue never mind the countless resurrections that would follow so on a personal standpoint i was sort of glad they got rid of shredder because then the anticipation would build to the point where they would eventually bring him back in a later episode i find that shredder in small quantities work best because then his encounters with the turtles are all the more memorable unfortunately they end up replacing him with these original villains who as stated seemed more fit for a power rangers show than a ninja turtles show and with these new magic wielding generics comes a new female magic wielding turtle the infamous venus de milo ill be honest i never got comfortable with her im not against the idea of a female turtle im just against the idea of one who uses magic and thus sticks out like a sore sight among a clan of ninja turtles who seem somewhat out of their domain i almost get the impression that this could have easily been the venus de milo show dealing with her make believe enemies and the tmnt are just there to provide the star power or whatever was left considering the timeframe this was released fortunately they all share the spotlight together next mutation was canned after a season on the air and the creators were more than happy to ignore it given time and maybe another season i really believe this live iteration of the tmnt could have been something and might have gotten a chance at greatness but while the idea was sound the execution was flawed although there are a couple good episodes in this series as it stands next mutation is one of those oddities in turtledom that is best left buried and forgotten'"
      ]
     },
     "execution_count": 8,
     "metadata": {},
     "output_type": "execute_result"
    }
   ],
   "source": [
    "review_to_words(train_X[100])"
   ]
  },
  {
   "cell_type": "code",
   "execution_count": 9,
   "metadata": {},
   "outputs": [],
   "source": [
    "import pickle\n",
    "\n",
    "cache_dir = os.path.join(\"../cache\", \"sentiment_web_app\")  # where to store cache files\n",
    "os.makedirs(cache_dir, exist_ok=True)  # ensure cache directory exists\n",
    "\n",
    "def preprocess_data(data_train, data_test, labels_train, labels_test,\n",
    "                    cache_dir=cache_dir, cache_file=\"preprocessed_data.pkl\"):\n",
    "    \"\"\"Convert each review to words; read from cache if available.\"\"\"\n",
    "\n",
    "    # If cache_file is not None, try to read from it first\n",
    "    cache_data = None\n",
    "    if cache_file is not None:\n",
    "        try:\n",
    "            with open(os.path.join(cache_dir, cache_file), \"rb\") as f:\n",
    "                cache_data = pickle.load(f)\n",
    "            print(\"Read preprocessed data from cache file:\", cache_file)\n",
    "        except:\n",
    "            pass  # unable to read from cache, but that's okay\n",
    "    \n",
    "    # If cache is missing, then do the heavy lifting\n",
    "    if cache_data is None:\n",
    "        # Preprocess training and test data to obtain words for each review\n",
    "        #words_train = list(map(review_to_words, data_train))\n",
    "        #words_test = list(map(review_to_words, data_test))\n",
    "        words_train = [review_to_words(review) for review in data_train]\n",
    "        words_test = [review_to_words(review) for review in data_test]\n",
    "        \n",
    "        # Write to cache file for future runs\n",
    "        if cache_file is not None:\n",
    "            cache_data = dict(words_train=words_train, words_test=words_test,\n",
    "                              labels_train=labels_train, labels_test=labels_test)\n",
    "            with open(os.path.join(cache_dir, cache_file), \"wb\") as f:\n",
    "                pickle.dump(cache_data, f)\n",
    "            print(\"Wrote preprocessed data to cache file:\", cache_file)\n",
    "    else:\n",
    "        # Unpack data loaded from cache file\n",
    "        words_train, words_test, labels_train, labels_test = (cache_data['words_train'],\n",
    "                cache_data['words_test'], cache_data['labels_train'], cache_data['labels_test'])\n",
    "    \n",
    "    return words_train, words_test, labels_train, labels_test"
   ]
  },
  {
   "cell_type": "code",
   "execution_count": 10,
   "metadata": {},
   "outputs": [
    {
     "name": "stdout",
     "output_type": "stream",
     "text": [
      "Read preprocessed data from cache file: preprocessed_data.pkl\n"
     ]
    }
   ],
   "source": [
    "# Preprocess data\n",
    "train_X, test_X, train_y, test_y = preprocess_data(train_X, test_X, train_y, test_y)"
   ]
  },
  {
   "cell_type": "markdown",
   "metadata": {},
   "source": [
    "### Extract Bag-of-Words features\n",
    "\n",
    "For the model we will be implementing, rather than using the reviews directly, we are going to transform each review into a Bag-of-Words feature representation. Keep in mind that 'in the wild' we will only have access to the training set so our transformer can only use the training set to construct a representation."
   ]
  },
  {
   "cell_type": "code",
   "execution_count": 11,
   "metadata": {},
   "outputs": [],
   "source": [
    "import numpy as np\n",
    "from sklearn.feature_extraction.text import CountVectorizer\n",
    "from sklearn.externals import joblib\n",
    "# joblib is an enhanced version of pickle that is more efficient for storing NumPy arrays\n",
    "\n",
    "def extract_BoW_features(words_train, words_test, vocabulary_size=5000,\n",
    "                         cache_dir=cache_dir, cache_file=\"bow_features.pkl\"):\n",
    "    \"\"\"Extract Bag-of-Words for a given set of documents, already preprocessed into words.\"\"\"\n",
    "    \n",
    "    # If cache_file is not None, try to read from it first\n",
    "    cache_data = None\n",
    "    if cache_file is not None:\n",
    "        try:\n",
    "            with open(os.path.join(cache_dir, cache_file), \"rb\") as f:\n",
    "                cache_data = joblib.load(f)\n",
    "            print(\"Read features from cache file:\", cache_file)\n",
    "        except:\n",
    "            pass  # unable to read from cache, but that's okay\n",
    "    \n",
    "    # If cache is missing, then do the heavy lifting\n",
    "    if cache_data is None:\n",
    "        # Fit a vectorizer to training documents and use it to transform them\n",
    "        # NOTE: Training documents have already been preprocessed and tokenized into words;\n",
    "        #       pass in dummy functions to skip those steps, e.g. preprocessor=lambda x: x\n",
    "        vectorizer = CountVectorizer(max_features=vocabulary_size)\n",
    "        features_train = vectorizer.fit_transform(words_train).toarray()\n",
    "\n",
    "        # Apply the same vectorizer to transform the test documents (ignore unknown words)\n",
    "        features_test = vectorizer.transform(words_test).toarray()\n",
    "        \n",
    "        # NOTE: Remember to convert the features using .toarray() for a compact representation\n",
    "        \n",
    "        # Write to cache file for future runs (store vocabulary as well)\n",
    "        if cache_file is not None:\n",
    "            vocabulary = vectorizer.vocabulary_\n",
    "            cache_data = dict(features_train=features_train, features_test=features_test,\n",
    "                             vocabulary=vocabulary)\n",
    "            with open(os.path.join(cache_dir, cache_file), \"wb\") as f:\n",
    "                joblib.dump(cache_data, f)\n",
    "            print(\"Wrote features to cache file:\", cache_file)\n",
    "    else:\n",
    "        # Unpack data loaded from cache file\n",
    "        features_train, features_test, vocabulary = (cache_data['features_train'],\n",
    "                cache_data['features_test'], cache_data['vocabulary'])\n",
    "    \n",
    "    # Return both the extracted features as well as the vocabulary\n",
    "    return features_train, features_test, vocabulary"
   ]
  },
  {
   "cell_type": "code",
   "execution_count": 12,
   "metadata": {},
   "outputs": [
    {
     "name": "stdout",
     "output_type": "stream",
     "text": [
      "Read features from cache file: bow_features.pkl\n"
     ]
    }
   ],
   "source": [
    "# Extract Bag of Words features for both training and test datasets\n",
    "train_X, test_X, vocabulary = extract_BoW_features(train_X, test_X)"
   ]
  },
  {
   "cell_type": "code",
   "execution_count": 13,
   "metadata": {},
   "outputs": [
    {
     "data": {
      "text/plain": [
       "5000"
      ]
     },
     "execution_count": 13,
     "metadata": {},
     "output_type": "execute_result"
    }
   ],
   "source": [
    "len(train_X[100])"
   ]
  },
  {
   "cell_type": "markdown",
   "metadata": {},
   "source": [
    "## Step 3: Upload data to S3\n",
    "\n",
    "Now that we have created the feature representation of our training (and testing) data, it is time to start setting up and using the XGBoost classifier provided by SageMaker.\n",
    "\n",
    "### Writing the datasets\n",
    "\n",
    "The XGBoost classifier that we will be using requires the dataset to be written to a file and stored using Amazon S3. To do this, we will start by splitting the training dataset into two parts, the data we will train the model with and a validation set. Then, we will write those datasets to a file locally and then upload the files to S3. In addition, we will write the test set to a file and upload that file to S3. This is so that we can use SageMakers Batch Transform functionality to test our model once we've fit it."
   ]
  },
  {
   "cell_type": "code",
   "execution_count": 14,
   "metadata": {},
   "outputs": [],
   "source": [
    "import pandas as pd\n",
    "\n",
    "# Earlier we shuffled the training dataset so to make things simple we can just assign\n",
    "# the first 10 000 reviews to the validation set and use the remaining reviews for training.\n",
    "val_X = pd.DataFrame(train_X[:10000])\n",
    "train_X = pd.DataFrame(train_X[10000:])\n",
    "\n",
    "val_y = pd.DataFrame(train_y[:10000])\n",
    "train_y = pd.DataFrame(train_y[10000:])"
   ]
  },
  {
   "cell_type": "markdown",
   "metadata": {},
   "source": [
    "The documentation for the XGBoost algorithm in SageMaker requires that the training and validation datasets should contain no headers or index and that the label should occur first for each sample.\n",
    "\n",
    "For more information about this and other algorithms, the SageMaker developer documentation can be found on __[Amazon's website.](https://docs.aws.amazon.com/sagemaker/latest/dg/)__"
   ]
  },
  {
   "cell_type": "code",
   "execution_count": 15,
   "metadata": {},
   "outputs": [],
   "source": [
    "# First we make sure that the local directory in which we'd like to store the training and validation csv files exists.\n",
    "data_dir = '../data/sentiment_web_app'\n",
    "if not os.path.exists(data_dir):\n",
    "    os.makedirs(data_dir)"
   ]
  },
  {
   "cell_type": "code",
   "execution_count": 16,
   "metadata": {},
   "outputs": [],
   "source": [
    "pd.DataFrame(test_X).to_csv(os.path.join(data_dir, 'test.csv'), header=False, index=False)\n",
    "\n",
    "pd.concat([val_y, val_X], axis=1).to_csv(os.path.join(data_dir, 'validation.csv'), header=False, index=False)\n",
    "pd.concat([train_y, train_X], axis=1).to_csv(os.path.join(data_dir, 'train.csv'), header=False, index=False)"
   ]
  },
  {
   "cell_type": "code",
   "execution_count": 17,
   "metadata": {},
   "outputs": [],
   "source": [
    "# To save a bit of memory we can set text_X, train_X, val_X, train_y and val_y to None.\n",
    "\n",
    "test_X = train_X = val_X = train_y = val_y = None"
   ]
  },
  {
   "cell_type": "markdown",
   "metadata": {},
   "source": [
    "### Uploading Training / Validation files to S3\n",
    "\n",
    "Amazon's S3 service allows us to store files that can be accessed by both the built-in training models such as the XGBoost model we will be using as well as custom models such as the one we will see a little later.\n",
    "\n",
    "For this and most other tasks we will be doing using SageMaker, there are two methods we could use. The first is to use the low level functionality of SageMaker which requires knowing each of the objects involved in the SageMaker environment. The second is to use the high level functionality in which certain choices have been made on the user's behalf. The low level approach benefits from allowing the user a great deal of flexibility while the high level approach makes development much quicker. For our purposes we will opt to use the high level approach although using the low-level approach is certainly an option.\n",
    "\n",
    "Recall the method `upload_data()` which is a member of the object representing our current SageMaker session. What this method does is upload the data to the default bucket (which is created if it does not exist) into the path described by the key_prefix variable. To see this for yourself, once you have uploaded the data files, go to the S3 console and look to see where the files have been uploaded.\n",
    "\n",
    "For additional resources, see the __[SageMaker API documentation](http://sagemaker.readthedocs.io/en/latest/)__ and in addition the __[SageMaker Developer Guide.](https://docs.aws.amazon.com/sagemaker/latest/dg/)__"
   ]
  },
  {
   "cell_type": "code",
   "execution_count": 18,
   "metadata": {},
   "outputs": [],
   "source": [
    "import sagemaker\n",
    "\n",
    "session = sagemaker.Session() # Store the current SageMaker session\n",
    "\n",
    "# S3 prefix (which folder will we use)\n",
    "prefix = 'sentiment-web-app'\n",
    "\n",
    "test_location = session.upload_data(os.path.join(data_dir, 'test.csv'), key_prefix=prefix)\n",
    "val_location = session.upload_data(os.path.join(data_dir, 'validation.csv'), key_prefix=prefix)\n",
    "train_location = session.upload_data(os.path.join(data_dir, 'train.csv'), key_prefix=prefix)"
   ]
  },
  {
   "cell_type": "markdown",
   "metadata": {},
   "source": [
    "## Step 4: Creating the XGBoost model\n",
    "\n",
    "Now that the data has been uploaded it is time to create the XGBoost model. To begin with, we need to do some setup. At this point it is worth discussing what a model is in SageMaker. It is easiest to think of a model of comprising three different objects in the SageMaker ecosystem, which interact with one another.\n",
    "\n",
    "- Model Artifacts\n",
    "- Training Code (Container)\n",
    "- Inference Code (Container)\n",
    "\n",
    "The Model Artifacts are what you might think of as the actual model itself. For example, if you were building a neural network, the model artifacts would be the weights of the various layers. In our case, for an XGBoost model, the artifacts are the actual trees that are created during training.\n",
    "\n",
    "The other two objects, the training code and the inference code are then used to manipulate the training artifacts. More precisely, the training code uses the training data that is provided and creates the model artifacts, while the inference code uses the model artifacts to make predictions on new data.\n",
    "\n",
    "The way that SageMaker runs the training and inference code is by making use of Docker containers. For now, think of a container as being a way of packaging code up so that dependencies aren't an issue."
   ]
  },
  {
   "cell_type": "code",
   "execution_count": 19,
   "metadata": {},
   "outputs": [],
   "source": [
    "from sagemaker import get_execution_role\n",
    "\n",
    "# Our current execution role is required when creating the model as the training\n",
    "# and inference code will need to access the model artifacts.\n",
    "role = get_execution_role()"
   ]
  },
  {
   "cell_type": "code",
   "execution_count": 20,
   "metadata": {},
   "outputs": [
    {
     "name": "stderr",
     "output_type": "stream",
     "text": [
      "WARNING:root:There is a more up to date SageMaker XGBoost image. To use the newer image, please set 'repo_version'='0.90-1'. For example:\n",
      "\tget_image_uri(region, 'xgboost', '0.90-1').\n"
     ]
    }
   ],
   "source": [
    "# We need to retrieve the location of the container which is provided by Amazon for using XGBoost.\n",
    "# As a matter of convenience, the training and inference code both use the same container.\n",
    "from sagemaker.amazon.amazon_estimator import get_image_uri\n",
    "\n",
    "container = get_image_uri(session.boto_region_name, 'xgboost')"
   ]
  },
  {
   "cell_type": "code",
   "execution_count": 21,
   "metadata": {},
   "outputs": [],
   "source": [
    "# First we create a SageMaker estimator object for our model.\n",
    "xgb = sagemaker.estimator.Estimator(container, # The location of the container we wish to use\n",
    "                                    role,                                    # What is our current IAM Role\n",
    "                                    train_instance_count=1,                  # How many compute instances\n",
    "                                    train_instance_type='ml.m4.xlarge',      # What kind of compute instances\n",
    "                                    output_path='s3://{}/{}/output'.format(session.default_bucket(), prefix),\n",
    "                                    sagemaker_session=session)\n",
    "\n",
    "# And then set the algorithm specific parameters.\n",
    "xgb.set_hyperparameters(max_depth=5,\n",
    "                        eta=0.2,\n",
    "                        gamma=4,\n",
    "                        min_child_weight=6,\n",
    "                        subsample=0.8,\n",
    "                        silent=0,\n",
    "                        objective='binary:logistic',\n",
    "                        early_stopping_rounds=10,\n",
    "                        num_round=500)"
   ]
  },
  {
   "cell_type": "markdown",
   "metadata": {},
   "source": [
    "### Fit the XGBoost model\n",
    "\n",
    "Now that our model has been set up we simply need to attach the training and validation datasets and then ask SageMaker to set up the computation."
   ]
  },
  {
   "cell_type": "code",
   "execution_count": 22,
   "metadata": {},
   "outputs": [],
   "source": [
    "s3_input_train = sagemaker.s3_input(s3_data=train_location, content_type='csv')\n",
    "s3_input_validation = sagemaker.s3_input(s3_data=val_location, content_type='csv')"
   ]
  },
  {
   "cell_type": "code",
   "execution_count": 23,
   "metadata": {},
   "outputs": [
    {
     "name": "stdout",
     "output_type": "stream",
     "text": [
      "2019-12-21 21:24:36 Starting - Starting the training job...\n",
      "2019-12-21 21:24:37 Starting - Launching requested ML instances...\n",
      "2019-12-21 21:25:37 Starting - Preparing the instances for training......\n",
      "2019-12-21 21:26:24 Downloading - Downloading input data...\n",
      "2019-12-21 21:27:00 Training - Training image download completed. Training in progress.\u001b[34mArguments: train\u001b[0m\n",
      "\u001b[34m[2019-12-21:21:27:01:INFO] Running standalone xgboost training.\u001b[0m\n",
      "\u001b[34m[2019-12-21:21:27:01:INFO] File size need to be processed in the node: 238.5mb. Available memory size in the node: 8510.23mb\u001b[0m\n",
      "\u001b[34m[2019-12-21:21:27:01:INFO] Determined delimiter of CSV input is ','\u001b[0m\n",
      "\u001b[34m[21:27:01] S3DistributionType set as FullyReplicated\u001b[0m\n",
      "\u001b[34m[21:27:03] 15000x5000 matrix with 75000000 entries loaded from /opt/ml/input/data/train?format=csv&label_column=0&delimiter=,\u001b[0m\n",
      "\u001b[34m[2019-12-21:21:27:03:INFO] Determined delimiter of CSV input is ','\u001b[0m\n",
      "\u001b[34m[21:27:03] S3DistributionType set as FullyReplicated\u001b[0m\n",
      "\u001b[34m[21:27:04] 10000x5000 matrix with 50000000 entries loaded from /opt/ml/input/data/validation?format=csv&label_column=0&delimiter=,\u001b[0m\n",
      "\u001b[34m[21:27:07] src/tree/updater_prune.cc:74: tree pruning end, 1 roots, 40 extra nodes, 6 pruned nodes, max_depth=5\u001b[0m\n",
      "\u001b[34m[0]#011train-error:0.302933#011validation-error:0.3119\u001b[0m\n",
      "\u001b[34mMultiple eval metrics have been passed: 'validation-error' will be used for early stopping.\n",
      "\u001b[0m\n",
      "\u001b[34mWill train until validation-error hasn't improved in 10 rounds.\u001b[0m\n",
      "\u001b[34m[21:27:09] src/tree/updater_prune.cc:74: tree pruning end, 1 roots, 38 extra nodes, 6 pruned nodes, max_depth=5\u001b[0m\n",
      "\u001b[34m[1]#011train-error:0.291067#011validation-error:0.2984\u001b[0m\n",
      "\u001b[34m[21:27:10] src/tree/updater_prune.cc:74: tree pruning end, 1 roots, 34 extra nodes, 12 pruned nodes, max_depth=5\u001b[0m\n",
      "\u001b[34m[2]#011train-error:0.2896#011validation-error:0.2977\u001b[0m\n",
      "\u001b[34m[21:27:11] src/tree/updater_prune.cc:74: tree pruning end, 1 roots, 38 extra nodes, 6 pruned nodes, max_depth=5\u001b[0m\n",
      "\u001b[34m[3]#011train-error:0.272#011validation-error:0.2817\u001b[0m\n",
      "\u001b[34m[21:27:13] src/tree/updater_prune.cc:74: tree pruning end, 1 roots, 34 extra nodes, 2 pruned nodes, max_depth=5\u001b[0m\n",
      "\u001b[34m[4]#011train-error:0.269467#011validation-error:0.2753\u001b[0m\n",
      "\u001b[34m[21:27:14] src/tree/updater_prune.cc:74: tree pruning end, 1 roots, 28 extra nodes, 6 pruned nodes, max_depth=5\u001b[0m\n",
      "\u001b[34m[5]#011train-error:0.257733#011validation-error:0.2674\u001b[0m\n",
      "\u001b[34m[21:27:16] src/tree/updater_prune.cc:74: tree pruning end, 1 roots, 34 extra nodes, 6 pruned nodes, max_depth=5\u001b[0m\n",
      "\u001b[34m[6]#011train-error:0.251867#011validation-error:0.2612\u001b[0m\n",
      "\u001b[34m[21:27:17] src/tree/updater_prune.cc:74: tree pruning end, 1 roots, 40 extra nodes, 6 pruned nodes, max_depth=5\u001b[0m\n",
      "\u001b[34m[7]#011train-error:0.242933#011validation-error:0.2516\u001b[0m\n",
      "\u001b[34m[21:27:18] src/tree/updater_prune.cc:74: tree pruning end, 1 roots, 28 extra nodes, 8 pruned nodes, max_depth=5\u001b[0m\n",
      "\u001b[34m[8]#011train-error:0.2394#011validation-error:0.2486\u001b[0m\n",
      "\u001b[34m[21:27:19] src/tree/updater_prune.cc:74: tree pruning end, 1 roots, 30 extra nodes, 8 pruned nodes, max_depth=5\u001b[0m\n",
      "\u001b[34m[9]#011train-error:0.232733#011validation-error:0.2431\u001b[0m\n",
      "\u001b[34m[21:27:21] src/tree/updater_prune.cc:74: tree pruning end, 1 roots, 34 extra nodes, 8 pruned nodes, max_depth=5\u001b[0m\n",
      "\u001b[34m[10]#011train-error:0.230467#011validation-error:0.2442\u001b[0m\n",
      "\u001b[34m[21:27:22] src/tree/updater_prune.cc:74: tree pruning end, 1 roots, 24 extra nodes, 12 pruned nodes, max_depth=5\u001b[0m\n",
      "\u001b[34m[11]#011train-error:0.223133#011validation-error:0.2385\u001b[0m\n",
      "\u001b[34m[21:27:23] src/tree/updater_prune.cc:74: tree pruning end, 1 roots, 34 extra nodes, 6 pruned nodes, max_depth=5\u001b[0m\n",
      "\u001b[34m[12]#011train-error:0.216467#011validation-error:0.2332\u001b[0m\n",
      "\u001b[34m[21:27:24] src/tree/updater_prune.cc:74: tree pruning end, 1 roots, 28 extra nodes, 10 pruned nodes, max_depth=5\u001b[0m\n",
      "\u001b[34m[13]#011train-error:0.2122#011validation-error:0.23\u001b[0m\n",
      "\u001b[34m[21:27:26] src/tree/updater_prune.cc:74: tree pruning end, 1 roots, 40 extra nodes, 4 pruned nodes, max_depth=5\u001b[0m\n",
      "\u001b[34m[14]#011train-error:0.208867#011validation-error:0.2265\u001b[0m\n",
      "\u001b[34m[21:27:27] src/tree/updater_prune.cc:74: tree pruning end, 1 roots, 30 extra nodes, 12 pruned nodes, max_depth=5\u001b[0m\n",
      "\u001b[34m[15]#011train-error:0.2062#011validation-error:0.223\u001b[0m\n",
      "\u001b[34m[21:27:28] src/tree/updater_prune.cc:74: tree pruning end, 1 roots, 22 extra nodes, 6 pruned nodes, max_depth=5\u001b[0m\n",
      "\u001b[34m[16]#011train-error:0.2022#011validation-error:0.2207\u001b[0m\n",
      "\u001b[34m[21:27:29] src/tree/updater_prune.cc:74: tree pruning end, 1 roots, 28 extra nodes, 10 pruned nodes, max_depth=5\u001b[0m\n",
      "\u001b[34m[17]#011train-error:0.201333#011validation-error:0.2183\u001b[0m\n",
      "\u001b[34m[21:27:31] src/tree/updater_prune.cc:74: tree pruning end, 1 roots, 32 extra nodes, 4 pruned nodes, max_depth=5\u001b[0m\n",
      "\u001b[34m[18]#011train-error:0.1966#011validation-error:0.2145\u001b[0m\n",
      "\u001b[34m[21:27:32] src/tree/updater_prune.cc:74: tree pruning end, 1 roots, 34 extra nodes, 8 pruned nodes, max_depth=5\u001b[0m\n",
      "\u001b[34m[19]#011train-error:0.1926#011validation-error:0.2131\u001b[0m\n",
      "\u001b[34m[21:27:33] src/tree/updater_prune.cc:74: tree pruning end, 1 roots, 26 extra nodes, 8 pruned nodes, max_depth=5\u001b[0m\n",
      "\u001b[34m[20]#011train-error:0.189333#011validation-error:0.2109\u001b[0m\n",
      "\u001b[34m[21:27:34] src/tree/updater_prune.cc:74: tree pruning end, 1 roots, 32 extra nodes, 4 pruned nodes, max_depth=5\u001b[0m\n",
      "\u001b[34m[21]#011train-error:0.186933#011validation-error:0.2082\u001b[0m\n",
      "\u001b[34m[21:27:36] src/tree/updater_prune.cc:74: tree pruning end, 1 roots, 20 extra nodes, 8 pruned nodes, max_depth=5\u001b[0m\n",
      "\u001b[34m[22]#011train-error:0.184867#011validation-error:0.2049\u001b[0m\n",
      "\u001b[34m[21:27:37] src/tree/updater_prune.cc:74: tree pruning end, 1 roots, 32 extra nodes, 12 pruned nodes, max_depth=5\u001b[0m\n",
      "\u001b[34m[23]#011train-error:0.182733#011validation-error:0.2065\u001b[0m\n",
      "\u001b[34m[21:27:38] src/tree/updater_prune.cc:74: tree pruning end, 1 roots, 24 extra nodes, 8 pruned nodes, max_depth=5\u001b[0m\n",
      "\u001b[34m[24]#011train-error:0.180067#011validation-error:0.2068\u001b[0m\n",
      "\u001b[34m[21:27:39] src/tree/updater_prune.cc:74: tree pruning end, 1 roots, 42 extra nodes, 6 pruned nodes, max_depth=5\u001b[0m\n",
      "\u001b[34m[25]#011train-error:0.1774#011validation-error:0.2035\u001b[0m\n",
      "\u001b[34m[21:27:41] src/tree/updater_prune.cc:74: tree pruning end, 1 roots, 18 extra nodes, 6 pruned nodes, max_depth=5\u001b[0m\n",
      "\u001b[34m[26]#011train-error:0.1758#011validation-error:0.1998\u001b[0m\n",
      "\u001b[34m[21:27:42] src/tree/updater_prune.cc:74: tree pruning end, 1 roots, 24 extra nodes, 6 pruned nodes, max_depth=5\u001b[0m\n",
      "\u001b[34m[27]#011train-error:0.173533#011validation-error:0.1983\u001b[0m\n",
      "\u001b[34m[21:27:43] src/tree/updater_prune.cc:74: tree pruning end, 1 roots, 24 extra nodes, 10 pruned nodes, max_depth=5\u001b[0m\n",
      "\u001b[34m[28]#011train-error:0.172133#011validation-error:0.1971\u001b[0m\n",
      "\u001b[34m[21:27:45] src/tree/updater_prune.cc:74: tree pruning end, 1 roots, 30 extra nodes, 8 pruned nodes, max_depth=5\u001b[0m\n",
      "\u001b[34m[29]#011train-error:0.169333#011validation-error:0.195\u001b[0m\n",
      "\u001b[34m[21:27:46] src/tree/updater_prune.cc:74: tree pruning end, 1 roots, 24 extra nodes, 14 pruned nodes, max_depth=5\u001b[0m\n",
      "\u001b[34m[30]#011train-error:0.167733#011validation-error:0.1947\u001b[0m\n",
      "\u001b[34m[21:27:47] src/tree/updater_prune.cc:74: tree pruning end, 1 roots, 40 extra nodes, 6 pruned nodes, max_depth=5\u001b[0m\n",
      "\u001b[34m[31]#011train-error:0.1674#011validation-error:0.1923\u001b[0m\n",
      "\u001b[34m[21:27:48] src/tree/updater_prune.cc:74: tree pruning end, 1 roots, 30 extra nodes, 6 pruned nodes, max_depth=5\u001b[0m\n",
      "\u001b[34m[32]#011train-error:0.164267#011validation-error:0.1912\u001b[0m\n",
      "\u001b[34m[21:27:49] src/tree/updater_prune.cc:74: tree pruning end, 1 roots, 36 extra nodes, 6 pruned nodes, max_depth=5\u001b[0m\n",
      "\u001b[34m[33]#011train-error:0.1632#011validation-error:0.1908\u001b[0m\n",
      "\u001b[34m[21:27:51] src/tree/updater_prune.cc:74: tree pruning end, 1 roots, 22 extra nodes, 10 pruned nodes, max_depth=5\u001b[0m\n",
      "\u001b[34m[34]#011train-error:0.1622#011validation-error:0.1921\u001b[0m\n",
      "\u001b[34m[21:27:52] src/tree/updater_prune.cc:74: tree pruning end, 1 roots, 20 extra nodes, 6 pruned nodes, max_depth=5\u001b[0m\n",
      "\u001b[34m[35]#011train-error:0.161#011validation-error:0.1905\u001b[0m\n",
      "\u001b[34m[21:27:53] src/tree/updater_prune.cc:74: tree pruning end, 1 roots, 28 extra nodes, 6 pruned nodes, max_depth=5\u001b[0m\n",
      "\u001b[34m[36]#011train-error:0.159267#011validation-error:0.1884\u001b[0m\n",
      "\u001b[34m[21:27:55] src/tree/updater_prune.cc:74: tree pruning end, 1 roots, 18 extra nodes, 6 pruned nodes, max_depth=5\u001b[0m\n",
      "\u001b[34m[37]#011train-error:0.1584#011validation-error:0.1868\u001b[0m\n",
      "\u001b[34m[21:27:56] src/tree/updater_prune.cc:74: tree pruning end, 1 roots, 30 extra nodes, 8 pruned nodes, max_depth=5\u001b[0m\n",
      "\u001b[34m[38]#011train-error:0.155933#011validation-error:0.1857\u001b[0m\n",
      "\u001b[34m[21:27:57] src/tree/updater_prune.cc:74: tree pruning end, 1 roots, 24 extra nodes, 6 pruned nodes, max_depth=5\u001b[0m\n",
      "\u001b[34m[39]#011train-error:0.155333#011validation-error:0.1831\u001b[0m\n",
      "\u001b[34m[21:27:58] src/tree/updater_prune.cc:74: tree pruning end, 1 roots, 28 extra nodes, 8 pruned nodes, max_depth=5\u001b[0m\n",
      "\u001b[34m[40]#011train-error:0.1524#011validation-error:0.1834\u001b[0m\n",
      "\u001b[34m[21:28:00] src/tree/updater_prune.cc:74: tree pruning end, 1 roots, 20 extra nodes, 16 pruned nodes, max_depth=5\u001b[0m\n",
      "\u001b[34m[41]#011train-error:0.151867#011validation-error:0.1821\u001b[0m\n",
      "\u001b[34m[21:28:01] src/tree/updater_prune.cc:74: tree pruning end, 1 roots, 26 extra nodes, 2 pruned nodes, max_depth=5\u001b[0m\n",
      "\u001b[34m[42]#011train-error:0.149667#011validation-error:0.18\u001b[0m\n",
      "\u001b[34m[21:28:02] src/tree/updater_prune.cc:74: tree pruning end, 1 roots, 26 extra nodes, 12 pruned nodes, max_depth=5\u001b[0m\n",
      "\u001b[34m[43]#011train-error:0.147533#011validation-error:0.1797\u001b[0m\n"
     ]
    },
    {
     "name": "stdout",
     "output_type": "stream",
     "text": [
      "\u001b[34m[21:28:03] src/tree/updater_prune.cc:74: tree pruning end, 1 roots, 24 extra nodes, 8 pruned nodes, max_depth=5\u001b[0m\n",
      "\u001b[34m[44]#011train-error:0.147133#011validation-error:0.18\u001b[0m\n",
      "\u001b[34m[21:28:05] src/tree/updater_prune.cc:74: tree pruning end, 1 roots, 12 extra nodes, 8 pruned nodes, max_depth=5\u001b[0m\n",
      "\u001b[34m[45]#011train-error:0.1462#011validation-error:0.1787\u001b[0m\n",
      "\u001b[34m[21:28:06] src/tree/updater_prune.cc:74: tree pruning end, 1 roots, 16 extra nodes, 8 pruned nodes, max_depth=5\u001b[0m\n",
      "\u001b[34m[46]#011train-error:0.146133#011validation-error:0.178\u001b[0m\n",
      "\u001b[34m[21:28:07] src/tree/updater_prune.cc:74: tree pruning end, 1 roots, 18 extra nodes, 14 pruned nodes, max_depth=5\u001b[0m\n",
      "\u001b[34m[47]#011train-error:0.144467#011validation-error:0.177\u001b[0m\n",
      "\u001b[34m[21:28:08] src/tree/updater_prune.cc:74: tree pruning end, 1 roots, 26 extra nodes, 4 pruned nodes, max_depth=5\u001b[0m\n",
      "\u001b[34m[48]#011train-error:0.143#011validation-error:0.1749\u001b[0m\n",
      "\u001b[34m[21:28:10] src/tree/updater_prune.cc:74: tree pruning end, 1 roots, 18 extra nodes, 4 pruned nodes, max_depth=5\u001b[0m\n",
      "\u001b[34m[49]#011train-error:0.141267#011validation-error:0.175\u001b[0m\n",
      "\u001b[34m[21:28:11] src/tree/updater_prune.cc:74: tree pruning end, 1 roots, 42 extra nodes, 6 pruned nodes, max_depth=5\u001b[0m\n",
      "\u001b[34m[50]#011train-error:0.1402#011validation-error:0.1744\u001b[0m\n",
      "\u001b[34m[21:28:12] src/tree/updater_prune.cc:74: tree pruning end, 1 roots, 24 extra nodes, 4 pruned nodes, max_depth=5\u001b[0m\n",
      "\u001b[34m[51]#011train-error:0.140067#011validation-error:0.175\u001b[0m\n",
      "\u001b[34m[21:28:13] src/tree/updater_prune.cc:74: tree pruning end, 1 roots, 22 extra nodes, 8 pruned nodes, max_depth=5\u001b[0m\n",
      "\u001b[34m[52]#011train-error:0.138733#011validation-error:0.1745\u001b[0m\n",
      "\u001b[34m[21:28:15] src/tree/updater_prune.cc:74: tree pruning end, 1 roots, 26 extra nodes, 6 pruned nodes, max_depth=5\u001b[0m\n",
      "\u001b[34m[53]#011train-error:0.138467#011validation-error:0.1744\u001b[0m\n",
      "\u001b[34m[21:28:16] src/tree/updater_prune.cc:74: tree pruning end, 1 roots, 20 extra nodes, 6 pruned nodes, max_depth=5\u001b[0m\n",
      "\u001b[34m[54]#011train-error:0.136667#011validation-error:0.1721\u001b[0m\n",
      "\u001b[34m[21:28:17] src/tree/updater_prune.cc:74: tree pruning end, 1 roots, 22 extra nodes, 8 pruned nodes, max_depth=5\u001b[0m\n",
      "\u001b[34m[55]#011train-error:0.1362#011validation-error:0.1715\u001b[0m\n",
      "\u001b[34m[21:28:18] src/tree/updater_prune.cc:74: tree pruning end, 1 roots, 22 extra nodes, 6 pruned nodes, max_depth=5\u001b[0m\n",
      "\u001b[34m[56]#011train-error:0.135133#011validation-error:0.1711\u001b[0m\n",
      "\u001b[34m[21:28:20] src/tree/updater_prune.cc:74: tree pruning end, 1 roots, 16 extra nodes, 10 pruned nodes, max_depth=5\u001b[0m\n",
      "\u001b[34m[57]#011train-error:0.1342#011validation-error:0.1702\u001b[0m\n",
      "\u001b[34m[21:28:21] src/tree/updater_prune.cc:74: tree pruning end, 1 roots, 36 extra nodes, 4 pruned nodes, max_depth=5\u001b[0m\n",
      "\u001b[34m[58]#011train-error:0.133#011validation-error:0.1693\u001b[0m\n",
      "\u001b[34m[21:28:22] src/tree/updater_prune.cc:74: tree pruning end, 1 roots, 18 extra nodes, 14 pruned nodes, max_depth=5\u001b[0m\n",
      "\u001b[34m[59]#011train-error:0.132467#011validation-error:0.1688\u001b[0m\n",
      "\u001b[34m[21:28:23] src/tree/updater_prune.cc:74: tree pruning end, 1 roots, 16 extra nodes, 22 pruned nodes, max_depth=5\u001b[0m\n",
      "\u001b[34m[60]#011train-error:0.132267#011validation-error:0.1682\u001b[0m\n",
      "\u001b[34m[21:28:25] src/tree/updater_prune.cc:74: tree pruning end, 1 roots, 20 extra nodes, 8 pruned nodes, max_depth=5\u001b[0m\n",
      "\u001b[34m[61]#011train-error:0.131667#011validation-error:0.168\u001b[0m\n",
      "\u001b[34m[21:28:26] src/tree/updater_prune.cc:74: tree pruning end, 1 roots, 16 extra nodes, 10 pruned nodes, max_depth=5\u001b[0m\n",
      "\u001b[34m[62]#011train-error:0.130933#011validation-error:0.1687\u001b[0m\n",
      "\u001b[34m[21:28:27] src/tree/updater_prune.cc:74: tree pruning end, 1 roots, 28 extra nodes, 10 pruned nodes, max_depth=5\u001b[0m\n",
      "\u001b[34m[63]#011train-error:0.13#011validation-error:0.1672\u001b[0m\n",
      "\u001b[34m[21:28:28] src/tree/updater_prune.cc:74: tree pruning end, 1 roots, 26 extra nodes, 8 pruned nodes, max_depth=5\u001b[0m\n",
      "\u001b[34m[64]#011train-error:0.1286#011validation-error:0.1669\u001b[0m\n",
      "\u001b[34m[21:28:30] src/tree/updater_prune.cc:74: tree pruning end, 1 roots, 12 extra nodes, 14 pruned nodes, max_depth=5\u001b[0m\n",
      "\u001b[34m[65]#011train-error:0.128067#011validation-error:0.1665\u001b[0m\n",
      "\u001b[34m[21:28:31] src/tree/updater_prune.cc:74: tree pruning end, 1 roots, 20 extra nodes, 8 pruned nodes, max_depth=5\u001b[0m\n",
      "\u001b[34m[66]#011train-error:0.1282#011validation-error:0.1656\u001b[0m\n",
      "\u001b[34m[21:28:32] src/tree/updater_prune.cc:74: tree pruning end, 1 roots, 16 extra nodes, 4 pruned nodes, max_depth=5\u001b[0m\n",
      "\u001b[34m[67]#011train-error:0.127467#011validation-error:0.1661\u001b[0m\n",
      "\u001b[34m[21:28:33] src/tree/updater_prune.cc:74: tree pruning end, 1 roots, 24 extra nodes, 8 pruned nodes, max_depth=5\u001b[0m\n",
      "\u001b[34m[68]#011train-error:0.1266#011validation-error:0.1643\u001b[0m\n",
      "\u001b[34m[21:28:35] src/tree/updater_prune.cc:74: tree pruning end, 1 roots, 18 extra nodes, 2 pruned nodes, max_depth=5\u001b[0m\n",
      "\u001b[34m[69]#011train-error:0.125733#011validation-error:0.1645\u001b[0m\n",
      "\u001b[34m[21:28:36] src/tree/updater_prune.cc:74: tree pruning end, 1 roots, 28 extra nodes, 12 pruned nodes, max_depth=5\u001b[0m\n",
      "\u001b[34m[70]#011train-error:0.125533#011validation-error:0.1635\u001b[0m\n",
      "\u001b[34m[21:28:37] src/tree/updater_prune.cc:74: tree pruning end, 1 roots, 40 extra nodes, 8 pruned nodes, max_depth=5\u001b[0m\n",
      "\u001b[34m[71]#011train-error:0.123733#011validation-error:0.1631\u001b[0m\n",
      "\u001b[34m[21:28:38] src/tree/updater_prune.cc:74: tree pruning end, 1 roots, 12 extra nodes, 4 pruned nodes, max_depth=5\u001b[0m\n",
      "\u001b[34m[72]#011train-error:0.122933#011validation-error:0.1618\u001b[0m\n",
      "\u001b[34m[21:28:40] src/tree/updater_prune.cc:74: tree pruning end, 1 roots, 20 extra nodes, 6 pruned nodes, max_depth=5\u001b[0m\n",
      "\u001b[34m[73]#011train-error:0.122667#011validation-error:0.1614\u001b[0m\n",
      "\u001b[34m[21:28:41] src/tree/updater_prune.cc:74: tree pruning end, 1 roots, 30 extra nodes, 6 pruned nodes, max_depth=5\u001b[0m\n",
      "\u001b[34m[74]#011train-error:0.121933#011validation-error:0.1607\u001b[0m\n",
      "\u001b[34m[21:28:42] src/tree/updater_prune.cc:74: tree pruning end, 1 roots, 24 extra nodes, 14 pruned nodes, max_depth=5\u001b[0m\n",
      "\u001b[34m[75]#011train-error:0.120733#011validation-error:0.1598\u001b[0m\n",
      "\u001b[34m[21:28:43] src/tree/updater_prune.cc:74: tree pruning end, 1 roots, 12 extra nodes, 6 pruned nodes, max_depth=5\u001b[0m\n",
      "\u001b[34m[76]#011train-error:0.1196#011validation-error:0.1594\u001b[0m\n",
      "\u001b[34m[21:28:45] src/tree/updater_prune.cc:74: tree pruning end, 1 roots, 18 extra nodes, 10 pruned nodes, max_depth=5\u001b[0m\n",
      "\u001b[34m[77]#011train-error:0.119467#011validation-error:0.1583\u001b[0m\n",
      "\u001b[34m[21:28:46] src/tree/updater_prune.cc:74: tree pruning end, 1 roots, 16 extra nodes, 8 pruned nodes, max_depth=5\u001b[0m\n",
      "\u001b[34m[78]#011train-error:0.119133#011validation-error:0.1588\u001b[0m\n",
      "\u001b[34m[21:28:47] src/tree/updater_prune.cc:74: tree pruning end, 1 roots, 14 extra nodes, 14 pruned nodes, max_depth=5\u001b[0m\n",
      "\u001b[34m[79]#011train-error:0.118267#011validation-error:0.1582\u001b[0m\n",
      "\u001b[34m[21:28:48] src/tree/updater_prune.cc:74: tree pruning end, 1 roots, 14 extra nodes, 8 pruned nodes, max_depth=5\u001b[0m\n",
      "\u001b[34m[80]#011train-error:0.1162#011validation-error:0.1579\u001b[0m\n",
      "\u001b[34m[21:28:50] src/tree/updater_prune.cc:74: tree pruning end, 1 roots, 46 extra nodes, 6 pruned nodes, max_depth=5\u001b[0m\n",
      "\u001b[34m[81]#011train-error:0.114133#011validation-error:0.1577\u001b[0m\n",
      "\u001b[34m[21:28:51] src/tree/updater_prune.cc:74: tree pruning end, 1 roots, 16 extra nodes, 10 pruned nodes, max_depth=5\u001b[0m\n",
      "\u001b[34m[82]#011train-error:0.113267#011validation-error:0.1566\u001b[0m\n",
      "\u001b[34m[21:28:52] src/tree/updater_prune.cc:74: tree pruning end, 1 roots, 20 extra nodes, 6 pruned nodes, max_depth=5\u001b[0m\n",
      "\u001b[34m[83]#011train-error:0.1136#011validation-error:0.1572\u001b[0m\n",
      "\u001b[34m[21:28:53] src/tree/updater_prune.cc:74: tree pruning end, 1 roots, 16 extra nodes, 14 pruned nodes, max_depth=5\u001b[0m\n",
      "\u001b[34m[84]#011train-error:0.1128#011validation-error:0.1565\u001b[0m\n",
      "\u001b[34m[21:28:55] src/tree/updater_prune.cc:74: tree pruning end, 1 roots, 10 extra nodes, 6 pruned nodes, max_depth=5\u001b[0m\n",
      "\u001b[34m[85]#011train-error:0.112533#011validation-error:0.1562\u001b[0m\n",
      "\u001b[34m[21:28:56] src/tree/updater_prune.cc:74: tree pruning end, 1 roots, 16 extra nodes, 12 pruned nodes, max_depth=5\u001b[0m\n",
      "\u001b[34m[86]#011train-error:0.112467#011validation-error:0.1564\u001b[0m\n",
      "\u001b[34m[21:28:57] src/tree/updater_prune.cc:74: tree pruning end, 1 roots, 38 extra nodes, 8 pruned nodes, max_depth=5\u001b[0m\n",
      "\u001b[34m[87]#011train-error:0.1108#011validation-error:0.1575\u001b[0m\n",
      "\u001b[34m[21:28:58] src/tree/updater_prune.cc:74: tree pruning end, 1 roots, 18 extra nodes, 6 pruned nodes, max_depth=5\u001b[0m\n",
      "\u001b[34m[88]#011train-error:0.110733#011validation-error:0.1573\u001b[0m\n",
      "\u001b[34m[21:29:00] src/tree/updater_prune.cc:74: tree pruning end, 1 roots, 10 extra nodes, 10 pruned nodes, max_depth=5\u001b[0m\n",
      "\u001b[34m[89]#011train-error:0.1106#011validation-error:0.1577\u001b[0m\n",
      "\u001b[34m[21:29:01] src/tree/updater_prune.cc:74: tree pruning end, 1 roots, 12 extra nodes, 8 pruned nodes, max_depth=5\u001b[0m\n",
      "\u001b[34m[90]#011train-error:0.110267#011validation-error:0.1572\u001b[0m\n",
      "\u001b[34m[21:29:02] src/tree/updater_prune.cc:74: tree pruning end, 1 roots, 28 extra nodes, 2 pruned nodes, max_depth=5\u001b[0m\n",
      "\u001b[34m[91]#011train-error:0.109933#011validation-error:0.1585\u001b[0m\n"
     ]
    },
    {
     "name": "stdout",
     "output_type": "stream",
     "text": [
      "\u001b[34m[21:29:03] src/tree/updater_prune.cc:74: tree pruning end, 1 roots, 22 extra nodes, 2 pruned nodes, max_depth=5\u001b[0m\n",
      "\u001b[34m[92]#011train-error:0.1094#011validation-error:0.1584\u001b[0m\n",
      "\u001b[34m[21:29:05] src/tree/updater_prune.cc:74: tree pruning end, 1 roots, 14 extra nodes, 8 pruned nodes, max_depth=5\u001b[0m\n",
      "\u001b[34m[93]#011train-error:0.1096#011validation-error:0.1578\u001b[0m\n",
      "\u001b[34m[21:29:06] src/tree/updater_prune.cc:74: tree pruning end, 1 roots, 18 extra nodes, 16 pruned nodes, max_depth=5\u001b[0m\n",
      "\u001b[34m[94]#011train-error:0.1088#011validation-error:0.1575\u001b[0m\n",
      "\u001b[34m[21:29:07] src/tree/updater_prune.cc:74: tree pruning end, 1 roots, 20 extra nodes, 12 pruned nodes, max_depth=5\u001b[0m\n",
      "\u001b[34m[95]#011train-error:0.1084#011validation-error:0.1573\u001b[0m\n",
      "\u001b[34mStopping. Best iteration:\u001b[0m\n",
      "\u001b[34m[85]#011train-error:0.112533#011validation-error:0.1562\n",
      "\u001b[0m\n",
      "\n",
      "2019-12-21 21:29:19 Uploading - Uploading generated training model\n",
      "2019-12-21 21:29:19 Completed - Training job completed\n",
      "Training seconds: 175\n",
      "Billable seconds: 175\n"
     ]
    }
   ],
   "source": [
    "xgb.fit({'train': s3_input_train, 'validation': s3_input_validation})"
   ]
  },
  {
   "cell_type": "markdown",
   "metadata": {},
   "source": [
    "## Step 5: Testing the model\n",
    "\n",
    "Now that we've fit our XGBoost model, it's time to see how well it performs. To do this we will use SageMakers Batch Transform functionality. Batch Transform is a convenient way to perform inference on a large dataset in a way that is not realtime. That is, we don't necessarily need to use our model's results immediately and instead we can perform inference on a large number of samples. An example of this in industry might be performing an end of month report. This method of inference can also be useful to us as it means that we can perform inference on our entire test set. \n",
    "\n",
    "To perform a Batch Transformation we need to first create a transformer objects from our trained estimator object."
   ]
  },
  {
   "cell_type": "code",
   "execution_count": 24,
   "metadata": {},
   "outputs": [],
   "source": [
    "xgb_transformer = xgb.transformer(instance_count = 1, instance_type = 'ml.m4.xlarge')"
   ]
  },
  {
   "cell_type": "markdown",
   "metadata": {},
   "source": [
    "Next we actually perform the transform job. When doing so we need to make sure to specify the type of data we are sending so that it is serialized correctly in the background. In our case we are providing our model with csv data so we specify `text/csv`. Also, if the test data that we have provided is too large to process all at once then we need to specify how the data file should be split up. Since each line is a single entry in our data set we tell SageMaker that it can split the input on each line."
   ]
  },
  {
   "cell_type": "code",
   "execution_count": 25,
   "metadata": {},
   "outputs": [],
   "source": [
    "xgb_transformer.transform(test_location, content_type='text/csv', split_type='Line')"
   ]
  },
  {
   "cell_type": "markdown",
   "metadata": {},
   "source": [
    "Currently the transform job is running but it is doing so in the background. Since we wish to wait until the transform job is done and we would like a bit of feedback we can run the `wait()` method."
   ]
  },
  {
   "cell_type": "code",
   "execution_count": 26,
   "metadata": {},
   "outputs": [
    {
     "name": "stdout",
     "output_type": "stream",
     "text": [
      ".....................\u001b[34mArguments: serve\u001b[0m\n",
      "\u001b[34m[2019-12-21 21:32:57 +0000] [1] [INFO] Starting gunicorn 19.7.1\u001b[0m\n",
      "\u001b[34m[2019-12-21 21:32:57 +0000] [1] [INFO] Listening at: http://0.0.0.0:8080 (1)\u001b[0m\n",
      "\u001b[34m[2019-12-21 21:32:57 +0000] [1] [INFO] Using worker: gevent\u001b[0m\n",
      "\u001b[34m[2019-12-21 21:32:57 +0000] [38] [INFO] Booting worker with pid: 38\u001b[0m\n",
      "\u001b[34m[2019-12-21 21:32:57 +0000] [39] [INFO] Booting worker with pid: 39\u001b[0m\n",
      "\u001b[34m[2019-12-21 21:32:57 +0000] [40] [INFO] Booting worker with pid: 40\u001b[0m\n",
      "\u001b[34m[2019-12-21 21:32:57 +0000] [41] [INFO] Booting worker with pid: 41\u001b[0m\n",
      "\u001b[34m[2019-12-21:21:32:58:INFO] Model loaded successfully for worker : 38\u001b[0m\n",
      "\u001b[34m[2019-12-21:21:32:58:INFO] Model loaded successfully for worker : 39\u001b[0m\n",
      "\u001b[34m[2019-12-21:21:32:58:INFO] Model loaded successfully for worker : 40\u001b[0m\n",
      "\u001b[34m[2019-12-21:21:32:58:INFO] Model loaded successfully for worker : 41\u001b[0m\n",
      "\u001b[32m2019-12-21T21:33:17.414:[sagemaker logs]: MaxConcurrentTransforms=4, MaxPayloadInMB=6, BatchStrategy=MULTI_RECORD\u001b[0m\n",
      "\u001b[34m[2019-12-21:21:33:20:INFO] Sniff delimiter as ','\u001b[0m\n",
      "\u001b[34m[2019-12-21:21:33:20:INFO] Determined delimiter of CSV input is ','\u001b[0m\n",
      "\u001b[34m[2019-12-21:21:33:20:INFO] Sniff delimiter as ','\u001b[0m\n",
      "\u001b[34m[2019-12-21:21:33:20:INFO] Determined delimiter of CSV input is ','\u001b[0m\n",
      "\u001b[34m[2019-12-21:21:33:20:INFO] Sniff delimiter as ','\u001b[0m\n",
      "\u001b[34m[2019-12-21:21:33:20:INFO] Determined delimiter of CSV input is ','\u001b[0m\n",
      "\u001b[35m[2019-12-21:21:33:20:INFO] Sniff delimiter as ','\u001b[0m\n",
      "\u001b[35m[2019-12-21:21:33:20:INFO] Determined delimiter of CSV input is ','\u001b[0m\n",
      "\u001b[35m[2019-12-21:21:33:20:INFO] Sniff delimiter as ','\u001b[0m\n",
      "\u001b[35m[2019-12-21:21:33:20:INFO] Determined delimiter of CSV input is ','\u001b[0m\n",
      "\u001b[35m[2019-12-21:21:33:20:INFO] Sniff delimiter as ','\u001b[0m\n",
      "\u001b[35m[2019-12-21:21:33:20:INFO] Determined delimiter of CSV input is ','\u001b[0m\n",
      "\u001b[34m[2019-12-21:21:33:20:INFO] Sniff delimiter as ','\u001b[0m\n",
      "\u001b[34m[2019-12-21:21:33:20:INFO] Determined delimiter of CSV input is ','\u001b[0m\n",
      "\u001b[35m[2019-12-21:21:33:20:INFO] Sniff delimiter as ','\u001b[0m\n",
      "\u001b[35m[2019-12-21:21:33:20:INFO] Determined delimiter of CSV input is ','\u001b[0m\n",
      "\u001b[34m[2019-12-21:21:33:23:INFO] Sniff delimiter as ','\u001b[0m\n",
      "\u001b[34m[2019-12-21:21:33:23:INFO] Determined delimiter of CSV input is ','\u001b[0m\n",
      "\u001b[34m[2019-12-21:21:33:23:INFO] Sniff delimiter as ','\u001b[0m\n",
      "\u001b[34m[2019-12-21:21:33:23:INFO] Determined delimiter of CSV input is ','\u001b[0m\n",
      "\u001b[35m[2019-12-21:21:33:23:INFO] Sniff delimiter as ','\u001b[0m\n",
      "\u001b[35m[2019-12-21:21:33:23:INFO] Determined delimiter of CSV input is ','\u001b[0m\n",
      "\u001b[35m[2019-12-21:21:33:23:INFO] Sniff delimiter as ','\u001b[0m\n",
      "\u001b[35m[2019-12-21:21:33:23:INFO] Determined delimiter of CSV input is ','\u001b[0m\n",
      "\u001b[34m[2019-12-21:21:33:23:INFO] Sniff delimiter as ','\u001b[0m\n",
      "\u001b[34m[2019-12-21:21:33:23:INFO] Determined delimiter of CSV input is ','\u001b[0m\n",
      "\u001b[34m[2019-12-21:21:33:23:INFO] Sniff delimiter as ','\u001b[0m\n",
      "\u001b[34m[2019-12-21:21:33:23:INFO] Determined delimiter of CSV input is ','\u001b[0m\n",
      "\u001b[35m[2019-12-21:21:33:23:INFO] Sniff delimiter as ','\u001b[0m\n",
      "\u001b[35m[2019-12-21:21:33:23:INFO] Determined delimiter of CSV input is ','\u001b[0m\n",
      "\u001b[35m[2019-12-21:21:33:23:INFO] Sniff delimiter as ','\u001b[0m\n",
      "\u001b[35m[2019-12-21:21:33:23:INFO] Determined delimiter of CSV input is ','\u001b[0m\n",
      "\u001b[34m[2019-12-21:21:33:25:INFO] Sniff delimiter as ','\u001b[0m\n",
      "\u001b[34m[2019-12-21:21:33:25:INFO] Determined delimiter of CSV input is ','\u001b[0m\n",
      "\u001b[34m[2019-12-21:21:33:25:INFO] Sniff delimiter as ','\u001b[0m\n",
      "\u001b[34m[2019-12-21:21:33:25:INFO] Determined delimiter of CSV input is ','\u001b[0m\n",
      "\u001b[35m[2019-12-21:21:33:25:INFO] Sniff delimiter as ','\u001b[0m\n",
      "\u001b[35m[2019-12-21:21:33:25:INFO] Determined delimiter of CSV input is ','\u001b[0m\n",
      "\u001b[35m[2019-12-21:21:33:25:INFO] Sniff delimiter as ','\u001b[0m\n",
      "\u001b[35m[2019-12-21:21:33:25:INFO] Determined delimiter of CSV input is ','\u001b[0m\n",
      "\u001b[34m[2019-12-21:21:33:27:INFO] Sniff delimiter as ','\u001b[0m\n",
      "\u001b[35m[2019-12-21:21:33:27:INFO] Sniff delimiter as ','\u001b[0m\n",
      "\u001b[34m[2019-12-21:21:33:27:INFO] Determined delimiter of CSV input is ','\u001b[0m\n",
      "\u001b[34m[2019-12-21:21:33:27:INFO] Sniff delimiter as ','\u001b[0m\n",
      "\u001b[34m[2019-12-21:21:33:27:INFO] Determined delimiter of CSV input is ','\u001b[0m\n",
      "\u001b[34m[2019-12-21:21:33:28:INFO] Sniff delimiter as ','\u001b[0m\n",
      "\u001b[34m[2019-12-21:21:33:28:INFO] Determined delimiter of CSV input is ','\u001b[0m\n",
      "\u001b[34m[2019-12-21:21:33:28:INFO] Sniff delimiter as ','\u001b[0m\n",
      "\u001b[34m[2019-12-21:21:33:28:INFO] Determined delimiter of CSV input is ','\u001b[0m\n",
      "\u001b[35m[2019-12-21:21:33:27:INFO] Determined delimiter of CSV input is ','\u001b[0m\n",
      "\u001b[35m[2019-12-21:21:33:27:INFO] Sniff delimiter as ','\u001b[0m\n",
      "\u001b[35m[2019-12-21:21:33:27:INFO] Determined delimiter of CSV input is ','\u001b[0m\n",
      "\u001b[35m[2019-12-21:21:33:28:INFO] Sniff delimiter as ','\u001b[0m\n",
      "\u001b[35m[2019-12-21:21:33:28:INFO] Determined delimiter of CSV input is ','\u001b[0m\n",
      "\u001b[35m[2019-12-21:21:33:28:INFO] Sniff delimiter as ','\u001b[0m\n",
      "\u001b[35m[2019-12-21:21:33:28:INFO] Determined delimiter of CSV input is ','\u001b[0m\n",
      "\u001b[34m[2019-12-21:21:33:30:INFO] Sniff delimiter as ','\u001b[0m\n",
      "\u001b[34m[2019-12-21:21:33:30:INFO] Determined delimiter of CSV input is ','\u001b[0m\n",
      "\u001b[35m[2019-12-21:21:33:30:INFO] Sniff delimiter as ','\u001b[0m\n",
      "\u001b[35m[2019-12-21:21:33:30:INFO] Determined delimiter of CSV input is ','\u001b[0m\n",
      "\u001b[34m[2019-12-21:21:33:30:INFO] Sniff delimiter as ','\u001b[0m\n",
      "\u001b[34m[2019-12-21:21:33:30:INFO] Determined delimiter of CSV input is ','\u001b[0m\n",
      "\u001b[34m[2019-12-21:21:33:30:INFO] Sniff delimiter as ','\u001b[0m\n",
      "\u001b[34m[2019-12-21:21:33:30:INFO] Determined delimiter of CSV input is ','\u001b[0m\n",
      "\u001b[35m[2019-12-21:21:33:30:INFO] Sniff delimiter as ','\u001b[0m\n",
      "\u001b[35m[2019-12-21:21:33:30:INFO] Determined delimiter of CSV input is ','\u001b[0m\n",
      "\u001b[35m[2019-12-21:21:33:30:INFO] Sniff delimiter as ','\u001b[0m\n",
      "\u001b[35m[2019-12-21:21:33:30:INFO] Determined delimiter of CSV input is ','\u001b[0m\n",
      "\u001b[34m[2019-12-21:21:33:30:INFO] Sniff delimiter as ','\u001b[0m\n",
      "\u001b[34m[2019-12-21:21:33:30:INFO] Determined delimiter of CSV input is ','\u001b[0m\n",
      "\u001b[35m[2019-12-21:21:33:30:INFO] Sniff delimiter as ','\u001b[0m\n",
      "\u001b[35m[2019-12-21:21:33:30:INFO] Determined delimiter of CSV input is ','\u001b[0m\n",
      "\u001b[34m[2019-12-21:21:33:32:INFO] Sniff delimiter as ','\u001b[0m\n",
      "\u001b[34m[2019-12-21:21:33:32:INFO] Determined delimiter of CSV input is ','\u001b[0m\n",
      "\u001b[34m[2019-12-21:21:33:32:INFO] Sniff delimiter as ','\u001b[0m\n",
      "\u001b[35m[2019-12-21:21:33:32:INFO] Sniff delimiter as ','\u001b[0m\n",
      "\u001b[35m[2019-12-21:21:33:32:INFO] Determined delimiter of CSV input is ','\u001b[0m\n",
      "\u001b[35m[2019-12-21:21:33:32:INFO] Sniff delimiter as ','\u001b[0m\n",
      "\u001b[34m[2019-12-21:21:33:32:INFO] Determined delimiter of CSV input is ','\u001b[0m\n",
      "\u001b[34m[2019-12-21:21:33:32:INFO] Sniff delimiter as ','\u001b[0m\n",
      "\u001b[34m[2019-12-21:21:33:32:INFO] Determined delimiter of CSV input is ','\u001b[0m\n",
      "\u001b[34m[2019-12-21:21:33:32:INFO] Sniff delimiter as ','\u001b[0m\n",
      "\u001b[34m[2019-12-21:21:33:32:INFO] Determined delimiter of CSV input is ','\u001b[0m\n",
      "\u001b[35m[2019-12-21:21:33:32:INFO] Determined delimiter of CSV input is ','\u001b[0m\n",
      "\u001b[35m[2019-12-21:21:33:32:INFO] Sniff delimiter as ','\u001b[0m\n",
      "\u001b[35m[2019-12-21:21:33:32:INFO] Determined delimiter of CSV input is ','\u001b[0m\n",
      "\u001b[35m[2019-12-21:21:33:32:INFO] Sniff delimiter as ','\u001b[0m\n",
      "\u001b[35m[2019-12-21:21:33:32:INFO] Determined delimiter of CSV input is ','\u001b[0m\n",
      "\u001b[34m[2019-12-21:21:33:34:INFO] Sniff delimiter as ','\u001b[0m\n",
      "\u001b[35m[2019-12-21:21:33:34:INFO] Sniff delimiter as ','\u001b[0m\n",
      "\u001b[34m[2019-12-21:21:33:34:INFO] Determined delimiter of CSV input is ','\u001b[0m\n",
      "\u001b[34m[2019-12-21:21:33:34:INFO] Sniff delimiter as ','\u001b[0m\n",
      "\u001b[34m[2019-12-21:21:33:34:INFO] Determined delimiter of CSV input is ','\u001b[0m\n",
      "\u001b[34m[2019-12-21:21:33:35:INFO] Sniff delimiter as ','\u001b[0m\n",
      "\u001b[34m[2019-12-21:21:33:35:INFO] Determined delimiter of CSV input is ','\u001b[0m\n",
      "\u001b[35m[2019-12-21:21:33:34:INFO] Determined delimiter of CSV input is ','\u001b[0m\n",
      "\u001b[35m[2019-12-21:21:33:34:INFO] Sniff delimiter as ','\u001b[0m\n",
      "\u001b[35m[2019-12-21:21:33:34:INFO] Determined delimiter of CSV input is ','\u001b[0m\n",
      "\u001b[35m[2019-12-21:21:33:35:INFO] Sniff delimiter as ','\u001b[0m\n",
      "\u001b[35m[2019-12-21:21:33:35:INFO] Determined delimiter of CSV input is ','\u001b[0m\n",
      "\u001b[34m[2019-12-21:21:33:35:INFO] Sniff delimiter as ','\u001b[0m\n",
      "\u001b[34m[2019-12-21:21:33:35:INFO] Determined delimiter of CSV input is ','\u001b[0m\n",
      "\u001b[35m[2019-12-21:21:33:35:INFO] Sniff delimiter as ','\u001b[0m\n",
      "\u001b[35m[2019-12-21:21:33:35:INFO] Determined delimiter of CSV input is ','\u001b[0m\n",
      "\u001b[34m[2019-12-21:21:33:37:INFO] Sniff delimiter as ','\u001b[0m\n",
      "\u001b[34m[2019-12-21:21:33:37:INFO] Determined delimiter of CSV input is ','\u001b[0m\n",
      "\u001b[35m[2019-12-21:21:33:37:INFO] Sniff delimiter as ','\u001b[0m\n",
      "\u001b[35m[2019-12-21:21:33:37:INFO] Determined delimiter of CSV input is ','\u001b[0m\n",
      "\u001b[34m[2019-12-21:21:33:37:INFO] Sniff delimiter as ','\u001b[0m\n",
      "\u001b[34m[2019-12-21:21:33:37:INFO] Determined delimiter of CSV input is ','\u001b[0m\n",
      "\u001b[34m[2019-12-21:21:33:37:INFO] Sniff delimiter as ','\u001b[0m\n",
      "\u001b[34m[2019-12-21:21:33:37:INFO] Determined delimiter of CSV input is ','\u001b[0m\n",
      "\u001b[34m[2019-12-21:21:33:37:INFO] Sniff delimiter as ','\u001b[0m\n",
      "\u001b[34m[2019-12-21:21:33:37:INFO] Determined delimiter of CSV input is ','\u001b[0m\n",
      "\u001b[35m[2019-12-21:21:33:37:INFO] Sniff delimiter as ','\u001b[0m\n",
      "\u001b[35m[2019-12-21:21:33:37:INFO] Determined delimiter of CSV input is ','\u001b[0m\n",
      "\u001b[35m[2019-12-21:21:33:37:INFO] Sniff delimiter as ','\u001b[0m\n",
      "\u001b[35m[2019-12-21:21:33:37:INFO] Determined delimiter of CSV input is ','\u001b[0m\n",
      "\u001b[35m[2019-12-21:21:33:37:INFO] Sniff delimiter as ','\u001b[0m\n",
      "\u001b[35m[2019-12-21:21:33:37:INFO] Determined delimiter of CSV input is ','\u001b[0m\n",
      "\u001b[34m[2019-12-21:21:33:39:INFO] Sniff delimiter as ','\u001b[0m\n",
      "\u001b[34m[2019-12-21:21:33:39:INFO] Determined delimiter of CSV input is ','\u001b[0m\n",
      "\u001b[34m[2019-12-21:21:33:39:INFO] Sniff delimiter as ','\u001b[0m\n",
      "\u001b[34m[2019-12-21:21:33:39:INFO] Determined delimiter of CSV input is ','\u001b[0m\n",
      "\u001b[35m[2019-12-21:21:33:39:INFO] Sniff delimiter as ','\u001b[0m\n",
      "\u001b[35m[2019-12-21:21:33:39:INFO] Determined delimiter of CSV input is ','\u001b[0m\n",
      "\u001b[35m[2019-12-21:21:33:39:INFO] Sniff delimiter as ','\u001b[0m\n",
      "\u001b[35m[2019-12-21:21:33:39:INFO] Determined delimiter of CSV input is ','\u001b[0m\n",
      "\u001b[34m[2019-12-21:21:33:39:INFO] Sniff delimiter as ','\u001b[0m\n",
      "\u001b[34m[2019-12-21:21:33:39:INFO] Determined delimiter of CSV input is ','\u001b[0m\n",
      "\u001b[34m[2019-12-21:21:33:40:INFO] Sniff delimiter as ','\u001b[0m\n",
      "\u001b[34m[2019-12-21:21:33:40:INFO] Determined delimiter of CSV input is ','\u001b[0m\n",
      "\u001b[35m[2019-12-21:21:33:39:INFO] Sniff delimiter as ','\u001b[0m\n",
      "\u001b[35m[2019-12-21:21:33:39:INFO] Determined delimiter of CSV input is ','\u001b[0m\n",
      "\u001b[35m[2019-12-21:21:33:40:INFO] Sniff delimiter as ','\u001b[0m\n",
      "\u001b[35m[2019-12-21:21:33:40:INFO] Determined delimiter of CSV input is ','\u001b[0m\n"
     ]
    },
    {
     "name": "stdout",
     "output_type": "stream",
     "text": [
      "\n",
      "\u001b[34m[2019-12-21:21:33:42:INFO] Sniff delimiter as ','\u001b[0m\n",
      "\u001b[34m[2019-12-21:21:33:42:INFO] Determined delimiter of CSV input is ','\u001b[0m\n",
      "\u001b[34m[2019-12-21:21:33:42:INFO] Sniff delimiter as ','\u001b[0m\n",
      "\u001b[34m[2019-12-21:21:33:42:INFO] Determined delimiter of CSV input is ','\u001b[0m\n",
      "\u001b[35m[2019-12-21:21:33:42:INFO] Sniff delimiter as ','\u001b[0m\n",
      "\u001b[35m[2019-12-21:21:33:42:INFO] Determined delimiter of CSV input is ','\u001b[0m\n",
      "\u001b[35m[2019-12-21:21:33:42:INFO] Sniff delimiter as ','\u001b[0m\n",
      "\u001b[35m[2019-12-21:21:33:42:INFO] Determined delimiter of CSV input is ','\u001b[0m\n"
     ]
    }
   ],
   "source": [
    "xgb_transformer.wait()"
   ]
  },
  {
   "cell_type": "markdown",
   "metadata": {},
   "source": [
    "Now the transform job has executed and the result, the estimated sentiment of each review, has been saved on S3. Since we would rather work on this file locally we can perform a bit of notebook magic to copy the file to the `data_dir`."
   ]
  },
  {
   "cell_type": "code",
   "execution_count": 27,
   "metadata": {},
   "outputs": [
    {
     "name": "stdout",
     "output_type": "stream",
     "text": [
      "Completed 256.0 KiB/367.8 KiB (3.7 MiB/s) with 1 file(s) remaining\r",
      "Completed 367.8 KiB/367.8 KiB (5.1 MiB/s) with 1 file(s) remaining\r",
      "download: s3://sagemaker-eu-west-1-396864731886/xgboost-2019-12-21-21-29-50-072/test.csv.out to ../data/sentiment_web_app/test.csv.out\r\n"
     ]
    }
   ],
   "source": [
    "!aws s3 cp --recursive $xgb_transformer.output_path $data_dir"
   ]
  },
  {
   "cell_type": "markdown",
   "metadata": {},
   "source": [
    "The last step is now to read in the output from our model, convert the output to something a little more usable, in this case we want the sentiment to be either `1` (positive) or `0` (negative), and then compare to the ground truth labels."
   ]
  },
  {
   "cell_type": "code",
   "execution_count": 28,
   "metadata": {},
   "outputs": [],
   "source": [
    "predictions = pd.read_csv(os.path.join(data_dir, 'test.csv.out'), header=None)\n",
    "predictions = [round(num) for num in predictions.squeeze().values]"
   ]
  },
  {
   "cell_type": "code",
   "execution_count": 29,
   "metadata": {},
   "outputs": [
    {
     "data": {
      "text/plain": [
       "0.84332"
      ]
     },
     "execution_count": 29,
     "metadata": {},
     "output_type": "execute_result"
    }
   ],
   "source": [
    "from sklearn.metrics import accuracy_score\n",
    "accuracy_score(test_y, predictions)"
   ]
  },
  {
   "cell_type": "markdown",
   "metadata": {},
   "source": [
    "## Step 6: Deploying the model\n",
    "\n",
    "Once we construct and fit our model, SageMaker stores the resulting model artifacts and we can use those to deploy an endpoint (inference code). To see this, look in the SageMaker console and you should see that a model has been created along with a link to the S3 location where the model artifacts have been stored.\n",
    "\n",
    "Deploying an endpoint is a lot like training the model with a few important differences. The first is that a deployed model doesn't change the model artifacts, so as you send it various testing instances the model won't change. Another difference is that since we aren't performing a fixed computation, as we were in the training step or while performing a batch transform, the compute instance that gets started stays running until we tell it to stop. This is important to note as if we forget and leave it running we will be charged the entire time.\n",
    "\n",
    "In other words **If you are no longer using a deployed endpoint, shut it down!**"
   ]
  },
  {
   "cell_type": "code",
   "execution_count": 30,
   "metadata": {},
   "outputs": [
    {
     "name": "stderr",
     "output_type": "stream",
     "text": [
      "WARNING:sagemaker:Using already existing model: xgboost-2019-12-21-21-24-36-639\n"
     ]
    },
    {
     "name": "stdout",
     "output_type": "stream",
     "text": [
      "---------------------------------------------------------------------------------------------------!"
     ]
    }
   ],
   "source": [
    "xgb_predictor = xgb.deploy(initial_instance_count = 1, instance_type = 'ml.m4.xlarge')"
   ]
  },
  {
   "cell_type": "markdown",
   "metadata": {},
   "source": [
    "### Testing the model (again)\n",
    "\n",
    "Now that we have deployed our endpoint, we can send the testing data to it and get back the inference results. We already did this earlier using the batch transform functionality of SageMaker, however, we will test our model again using the newly deployed endpoint so that we can make sure that it works properly and to get a bit of a feel for how the endpoint works.\n",
    "\n",
    "When using the created endpoint it is important to know that we are limited in the amount of information we can send in each call so we need to break the testing data up into chunks and then send each chunk. Also, we need to serialize our data before we send it to the endpoint to ensure that our data is transmitted properly. Fortunately, SageMaker can do the serialization part for us provided we tell it the format of our data."
   ]
  },
  {
   "cell_type": "code",
   "execution_count": 31,
   "metadata": {},
   "outputs": [],
   "source": [
    "from sagemaker.predictor import csv_serializer\n",
    "\n",
    "# We need to tell the endpoint what format the data we are sending is in so that SageMaker can perform the serialization.\n",
    "xgb_predictor.content_type = 'text/csv'\n",
    "xgb_predictor.serializer = csv_serializer"
   ]
  },
  {
   "cell_type": "code",
   "execution_count": 32,
   "metadata": {},
   "outputs": [],
   "source": [
    "# We split the data into chunks and send each chunk seperately, accumulating the results.\n",
    "\n",
    "def predict(data, rows=512):\n",
    "    split_array = np.array_split(data, int(data.shape[0] / float(rows) + 1))\n",
    "    predictions = ''\n",
    "    for array in split_array:\n",
    "        predictions = ','.join([predictions, xgb_predictor.predict(array).decode('utf-8')])\n",
    "    \n",
    "    return np.fromstring(predictions[1:], sep=',')"
   ]
  },
  {
   "cell_type": "code",
   "execution_count": 33,
   "metadata": {},
   "outputs": [],
   "source": [
    "test_X = pd.read_csv(os.path.join(data_dir, 'test.csv'), header=None).values\n",
    "\n",
    "predictions = predict(test_X)\n",
    "predictions = [round(num) for num in predictions]"
   ]
  },
  {
   "cell_type": "markdown",
   "metadata": {},
   "source": [
    "Lastly, we check to see what the accuracy of our model is."
   ]
  },
  {
   "cell_type": "code",
   "execution_count": 34,
   "metadata": {},
   "outputs": [
    {
     "data": {
      "text/plain": [
       "0.84332"
      ]
     },
     "execution_count": 34,
     "metadata": {},
     "output_type": "execute_result"
    }
   ],
   "source": [
    "from sklearn.metrics import accuracy_score\n",
    "accuracy_score(test_y, predictions)"
   ]
  },
  {
   "cell_type": "markdown",
   "metadata": {},
   "source": [
    "And the results here should agree with the model testing that we did earlier using the batch transform job.\n",
    "\n",
    "### Cleaning up\n",
    "\n",
    "Now that we've determined that deploying our model works as expected, we are going to shut it down. Remember that the longer the endpoint is left running, the greater the cost and since we have a bit more work to do before we are able to use our endpoint with our simple web app, we should shut everything down."
   ]
  },
  {
   "cell_type": "code",
   "execution_count": 35,
   "metadata": {},
   "outputs": [],
   "source": [
    "xgb_predictor.delete_endpoint()"
   ]
  },
  {
   "cell_type": "markdown",
   "metadata": {},
   "source": [
    "## Step 7: Putting our model to work\n",
    "\n",
    "As we've mentioned a few times now, our goal is to have our model deployed and then access it using a very simple web app. The intent is for this web app to take some user submitted data (a review), send it off to our endpoint (the model) and then display the result.\n",
    "\n",
    "However, there is a small catch. Currently the only way we can access the endpoint to send it data is using the SageMaker API. We can, if we wish, expose the actual URL that our model's endpoint is receiving data from, however, if we just send it data ourselves we will not get anything in return. This is because the endpoint created by SageMaker requires the entity accessing it have the correct permissions. So, we would need to somehow authenticate our web app with AWS.\n",
    "\n",
    "Having a website that authenticates to AWS seems a bit beyond the scope of this lesson so we will opt for an alternative approach. Namely, we will create a new endpoint which does not require authentication and which acts as a proxy for the SageMaker endpoint.\n",
    "\n",
    "As an additional constraint, we will try to avoid doing any data processing in the web app itself. Remember that when we constructed and tested our model we started with a movie review, then we simplified it by removing any html formatting and punctuation, then we constructed a bag of words embedding and the resulting vector is what we sent to our model. All of this needs to be done to our user input as well.\n",
    "\n",
    "Fortunately we can do all of this data processing in the backend, using Amazon's Lambda service.\n",
    "\n",
    "<img src=\"Web App Diagram.svg\">\n",
    "\n",
    "The diagram above gives an overview of how the various services will work together. On the far right is the model which we trained above and which will be deployed using SageMaker. On the far left is our web app that collects a user's movie review, sends it off and expects a positive or negative sentiment in return.\n",
    "\n",
    "In the middle is where some of the magic happens. We will construct a Lambda function, which you can think of as a straightforward Python function that can be executed whenever a specified event occurs. This Python function will do the data processing we need to perform on a user submitted review. In addition, we will give this function permission to send and recieve data from a SageMaker endpoint.\n",
    "\n",
    "Lastly, the method we will use to execute the Lambda function is a new endpoint that we will create using API Gateway. This endpoint will be a url that listens for data to be sent to it. Once it gets some data it will pass that data on to the Lambda function and then return whatever the Lambda function returns. Essentially it will act as an interface that lets our web app communicate with the Lambda function.\n",
    "\n",
    "### Processing a single review\n",
    "\n",
    "For now, suppose we are given a movie review by our user in the form of a string, like so:"
   ]
  },
  {
   "cell_type": "code",
   "execution_count": 36,
   "metadata": {},
   "outputs": [],
   "source": [
    "test_review = \"Nothing but a disgusting materialistic pageant of glistening abed remote control greed zombies, totally devoid of any heart or heat. A romantic comedy that has zero romantic chemestry and zero laughs!\""
   ]
  },
  {
   "cell_type": "markdown",
   "metadata": {},
   "source": [
    "How do we go from this string to the bag of words feature vector that is expected by our model?\n",
    "\n",
    "If we recall at the beginning of this notebook, the first step is to remove any unnecessary characters using the `review_to_words` method. Remember that we intentionally did this in a very simplistic way. This is because we are going to have to copy this method to our (eventual) Lambda function (we will go into more detail later) and this means it needs to be rather simplistic."
   ]
  },
  {
   "cell_type": "code",
   "execution_count": 37,
   "metadata": {},
   "outputs": [
    {
     "name": "stdout",
     "output_type": "stream",
     "text": [
      "nothing but a disgusting materialistic pageant of glistening abed remote control greed zombies totally devoid of any heart or heat a romantic comedy that has zero romantic chemestry and zero laughs\n"
     ]
    }
   ],
   "source": [
    "test_words = review_to_words(test_review)\n",
    "print(test_words)"
   ]
  },
  {
   "cell_type": "markdown",
   "metadata": {},
   "source": [
    "Next, we need to construct a bag of words embedding of the `test_words` string. To do this, remember that a bag of words embedding uses a `vocabulary` consisting of the most frequently appearing words in a set of documents. Then, for each word in the vocabulary we record the number of times that word appears in `test_words`. We constructed the `vocabulary` earlier using the training set for our problem so encoding `test_words` is relatively straightforward."
   ]
  },
  {
   "cell_type": "code",
   "execution_count": 38,
   "metadata": {},
   "outputs": [],
   "source": [
    "def bow_encoding(words, vocabulary):\n",
    "    bow = [0] * len(vocabulary) # Start by setting the count for each word in the vocabulary to zero.\n",
    "    for word in words.split():  # For each word in the string\n",
    "        if word in vocabulary:  # If the word is one that occurs in the vocabulary, increase its count.\n",
    "            bow[vocabulary[word]] += 1\n",
    "    return bow"
   ]
  },
  {
   "cell_type": "code",
   "execution_count": 39,
   "metadata": {},
   "outputs": [
    {
     "name": "stdout",
     "output_type": "stream",
     "text": [
      "[0, 0, 0, 0, 0, 0, 0, 0, 0, 0, 0, 0, 0, 0, 0, 0, 0, 0, 0, 0, 0, 0, 0, 0, 0, 0, 0, 0, 0, 0, 0, 0, 0, 0, 0, 0, 0, 0, 0, 0, 0, 0, 0, 0, 0, 0, 0, 0, 0, 0, 0, 0, 0, 0, 0, 0, 0, 0, 0, 0, 0, 0, 0, 0, 0, 0, 0, 0, 0, 0, 0, 0, 0, 0, 0, 0, 0, 0, 0, 0, 0, 0, 0, 0, 0, 0, 0, 0, 0, 0, 0, 0, 0, 0, 0, 0, 0, 0, 0, 0, 0, 0, 0, 0, 0, 0, 0, 0, 0, 0, 0, 0, 0, 0, 0, 0, 0, 0, 0, 0, 0, 0, 0, 0, 0, 0, 0, 0, 0, 0, 0, 0, 0, 0, 0, 0, 0, 0, 0, 0, 0, 0, 0, 0, 0, 0, 0, 0, 0, 0, 0, 0, 0, 0, 0, 0, 0, 0, 0, 0, 0, 0, 0, 0, 0, 0, 0, 0, 0, 0, 0, 0, 0, 0, 0, 0, 0, 0, 0, 0, 0, 0, 0, 0, 0, 0, 0, 0, 0, 0, 0, 0, 0, 0, 0, 0, 0, 0, 0, 0, 0, 0, 0, 0, 0, 0, 0, 0, 0, 0, 0, 0, 0, 0, 0, 0, 0, 0, 0, 0, 0, 0, 0, 0, 0, 0, 1, 0, 0, 0, 0, 0, 0, 0, 0, 0, 0, 0, 0, 0, 0, 0, 0, 0, 0, 0, 0, 0, 0, 0, 0, 0, 0, 0, 0, 0, 1, 0, 0, 0, 0, 0, 0, 0, 0, 0, 0, 0, 0, 0, 0, 0, 0, 0, 0, 0, 0, 0, 0, 0, 0, 0, 0, 0, 0, 0, 0, 0, 0, 0, 0, 0, 0, 0, 0, 0, 0, 0, 0, 0, 0, 0, 0, 0, 0, 0, 0, 0, 0, 0, 0, 0, 0, 0, 0, 0, 0, 0, 0, 0, 0, 0, 0, 0, 0, 0, 0, 0, 0, 0, 0, 0, 0, 0, 0, 0, 0, 0, 0, 0, 0, 0, 0, 0, 0, 0, 0, 0, 0, 0, 0, 0, 0, 0, 0, 0, 0, 0, 0, 0, 0, 0, 0, 0, 0, 0, 0, 0, 0, 0, 0, 0, 0, 0, 0, 0, 0, 0, 0, 0, 0, 0, 0, 0, 0, 0, 0, 0, 0, 0, 0, 0, 0, 0, 0, 0, 0, 0, 0, 0, 0, 0, 0, 0, 0, 0, 0, 0, 0, 0, 0, 0, 0, 0, 0, 0, 0, 0, 0, 0, 0, 0, 0, 0, 0, 0, 0, 0, 0, 0, 0, 0, 0, 0, 0, 0, 0, 0, 0, 0, 0, 0, 0, 0, 0, 0, 0, 0, 0, 0, 0, 0, 0, 0, 0, 0, 0, 0, 0, 0, 0, 0, 0, 0, 0, 0, 0, 0, 0, 0, 0, 0, 0, 0, 0, 0, 0, 0, 0, 0, 0, 0, 0, 0, 0, 0, 0, 0, 0, 0, 0, 0, 0, 0, 0, 0, 0, 0, 0, 0, 0, 0, 0, 0, 0, 0, 0, 0, 0, 0, 0, 0, 0, 0, 0, 0, 0, 0, 0, 0, 0, 0, 0, 0, 0, 0, 0, 0, 0, 0, 0, 0, 0, 0, 0, 0, 0, 0, 0, 0, 0, 0, 0, 0, 0, 0, 0, 0, 0, 0, 0, 0, 0, 0, 0, 0, 0, 0, 0, 0, 0, 0, 0, 0, 0, 0, 0, 0, 0, 0, 0, 0, 0, 0, 0, 0, 0, 0, 0, 0, 0, 0, 0, 0, 0, 0, 0, 0, 0, 0, 0, 0, 0, 0, 0, 0, 0, 0, 0, 0, 0, 0, 0, 0, 0, 0, 0, 0, 0, 0, 0, 0, 0, 0, 0, 0, 0, 0, 0, 0, 0, 0, 0, 0, 0, 0, 0, 0, 0, 0, 0, 0, 0, 0, 0, 0, 1, 0, 0, 0, 0, 0, 0, 0, 0, 0, 0, 0, 0, 0, 0, 0, 0, 0, 0, 0, 0, 0, 0, 0, 0, 0, 0, 0, 0, 0, 0, 0, 0, 0, 0, 0, 0, 0, 0, 0, 0, 0, 0, 0, 0, 0, 0, 0, 0, 0, 0, 0, 0, 0, 0, 0, 0, 0, 0, 0, 0, 0, 0, 0, 0, 0, 0, 0, 0, 0, 0, 0, 0, 0, 0, 0, 0, 0, 0, 0, 0, 0, 0, 0, 0, 0, 0, 0, 0, 0, 0, 0, 0, 0, 0, 0, 0, 0, 0, 0, 0, 0, 0, 0, 0, 0, 0, 0, 0, 0, 0, 0, 0, 0, 0, 0, 0, 0, 0, 0, 0, 0, 0, 0, 0, 0, 0, 0, 0, 0, 0, 0, 0, 0, 0, 0, 0, 0, 0, 0, 0, 0, 0, 0, 0, 0, 0, 0, 0, 0, 0, 0, 0, 0, 0, 0, 0, 0, 0, 0, 0, 0, 0, 0, 0, 0, 0, 0, 0, 0, 0, 0, 0, 0, 0, 0, 0, 0, 0, 0, 0, 0, 0, 0, 0, 0, 0, 0, 0, 0, 0, 0, 0, 0, 0, 0, 0, 0, 0, 0, 0, 0, 0, 0, 0, 0, 0, 0, 0, 0, 0, 0, 0, 0, 0, 0, 0, 0, 0, 0, 0, 0, 0, 0, 0, 0, 0, 0, 0, 0, 0, 0, 0, 0, 0, 0, 0, 0, 0, 0, 0, 0, 0, 0, 0, 0, 0, 0, 0, 0, 0, 0, 0, 0, 1, 0, 0, 0, 0, 0, 0, 0, 0, 0, 0, 0, 0, 0, 0, 0, 0, 0, 0, 0, 0, 0, 0, 0, 0, 0, 0, 0, 0, 0, 0, 0, 0, 0, 0, 0, 0, 0, 0, 0, 0, 0, 0, 0, 0, 0, 0, 0, 0, 0, 0, 0, 0, 0, 0, 0, 0, 0, 0, 0, 0, 0, 0, 0, 0, 0, 0, 0, 0, 0, 0, 0, 0, 0, 0, 0, 0, 0, 0, 0, 0, 0, 0, 0, 0, 0, 0, 1, 0, 0, 0, 0, 0, 0, 0, 0, 0, 0, 0, 0, 0, 0, 0, 0, 0, 0, 0, 0, 0, 0, 0, 0, 0, 0, 0, 0, 0, 0, 0, 0, 0, 0, 0, 0, 0, 0, 0, 0, 0, 0, 0, 0, 0, 0, 0, 0, 0, 0, 0, 0, 0, 0, 0, 0, 0, 0, 0, 0, 0, 0, 0, 0, 0, 0, 0, 0, 0, 0, 0, 0, 0, 0, 0, 0, 0, 0, 0, 0, 0, 0, 0, 0, 0, 0, 0, 0, 0, 0, 0, 0, 0, 0, 0, 0, 0, 0, 0, 0, 0, 0, 0, 0, 0, 0, 0, 0, 0, 0, 0, 0, 0, 0, 0, 0, 0, 0, 0, 0, 0, 0, 0, 0, 0, 0, 0, 0, 0, 0, 0, 0, 0, 0, 0, 0, 0, 0, 0, 0, 0, 0, 0, 0, 0, 0, 0, 0, 0, 0, 0, 0, 0, 0, 0, 0, 0, 0, 0, 0, 0, 0, 0, 0, 0, 0, 0, 0, 0, 0, 0, 0, 0, 0, 0, 0, 0, 0, 0, 0, 0, 0, 0, 0, 0, 0, 0, 0, 0, 0, 0, 0, 0, 0, 0, 0, 0, 0, 0, 0, 0, 0, 0, 0, 0, 0, 0, 0, 0, 0, 0, 0, 0, 0, 0, 0, 0, 0, 0, 0, 0, 0, 0, 0, 0, 0, 0, 0, 0, 0, 0, 0, 0, 0, 0, 0, 0, 0, 0, 0, 0, 0, 0, 0, 0, 0, 0, 0, 0, 0, 0, 0, 1, 0, 0, 0, 0, 0, 0, 0, 0, 0, 0, 0, 0, 0, 0, 0, 0, 0, 0, 0, 0, 0, 0, 0, 0, 0, 0, 0, 0, 0, 0, 0, 0, 0, 0, 0, 0, 0, 0, 0, 0, 0, 0, 0, 0, 0, 0, 0, 0, 0, 0, 0, 0, 0, 0, 0, 1, 0, 0, 0, 0, 0, 0, 0, 0, 0, 0, 0, 0, 0, 0, 0, 0, 0, 0, 0, 0, 0, 0, 0, 0, 0, 0, 0, 0, 0, 0, 0, 0, 0, 0, 0, 0, 0, 0, 0, 0, 0, 0, 0, 0, 0, 0, 0, 0, 0, 0, 0, 0, 0, 0, 0, 0, 0, 0, 0, 0, 0, 0, 0, 0, 0, 0, 0, 0, 0, 0, 0, 0, 0, 0, 0, 0, 0, 0, 0, 0, 0, 0, 0, 0, 0, 0, 0, 0, 0, 0, 0, 0, 0, 0, 0, 0, 0, 0, 0, 0, 0, 0, 0, 0, 0, 0, 0, 0, 0, 0, 0, 0, 0, 0, 0, 0, 0, 0, 0, 0, 0, 0, 0, 0, 0, 0, 0, 0, 0, 0, 0, 0, 0, 0, 0, 0, 0, 0, 0, 0, 0, 0, 0, 0, 0, 0, 0, 0, 0, 0, 0, 0, 0, 0, 0, 0, 0, 0, 0, 0, 0, 0, 0, 0, 0, 0, 0, 0, 0, 0, 0, 0, 0, 0, 0, 0, 0, 0, 0, 0, 0, 0, 0, 0, 0, 0, 0, 0, 0, 0, 0, 0, 0, 0, 0, 0, 0, 0, 0, 0, 0, 0, 0, 0, 0, 0, 0, 0, 0, 0, 0, 0, 0, 0, 0, 0, 0, 0, 0, 0, 0, 0, 0, 0, 0, 0, 0, 0, 0, 0, 0, 0, 0, 0, 0, 0, 0, 0, 0, 0, 0, 0, 0, 0, 0, 0, 0, 0, 0, 0, 0, 0, 0, 0, 0, 0, 0, 0, 0, 0, 0, 0, 0, 0, 0, 0, 0, 0, 0, 0, 0, 0, 0, 0, 0, 0, 0, 0, 0, 0, 0, 0, 0, 0, 0, 0, 0, 0, 0, 0, 0, 0, 0, 0, 0, 0, 0, 0, 0, 0, 0, 0, 0, 0, 0, 0, 0, 0, 0, 0, 0, 0, 0, 0, 0, 0, 0, 0, 0, 0, 0, 0, 0, 0, 0, 0, 0, 0, 0, 0, 0, 0, 0, 0, 0, 0, 0, 0, 0, 0, 0, 0, 0, 0, 0, 0, 0, 0, 0, 0, 0, 0, 0, 0, 0, 0, 0, 0, 0, 0, 0, 0, 0, 0, 0, 0, 0, 0, 0, 0, 0, 0, 0, 0, 0, 0, 0, 0, 0, 0, 0, 0, 0, 0, 0, 0, 0, 0, 0, 0, 0, 0, 0, 0, 0, 0, 0, 0, 0, 0, 0, 0, 0, 0, 0, 0, 0, 0, 0, 0, 0, 0, 0, 0, 0, 0, 0, 0, 0, 0, 0, 0, 0, 0, 0, 0, 0, 0, 0, 0, 0, 0, 0, 0, 0, 0, 0, 0, 0, 0, 0, 0, 0, 0, 0, 0, 0, 0, 0, 0, 0, 0, 0, 0, 0, 0, 0, 0, 0, 0, 0, 0, 0, 0, 0, 0, 0, 0, 0, 0, 0, 0, 0, 0, 0, 0, 0, 0, 0, 0, 0, 0, 0, 0, 0, 0, 0, 0, 0, 0, 0, 0, 0, 0, 0, 0, 0, 0, 0, 0, 0, 0, 0, 0, 0, 0, 0, 0, 0, 0, 0, 0, 0, 0, 0, 0, 0, 0, 0, 0, 0, 0, 0, 0, 0, 0, 0, 0, 0, 0, 0, 0, 0, 0, 0, 0, 0, 0, 0, 0, 0, 0, 0, 0, 0, 0, 0, 0, 0, 0, 0, 0, 0, 0, 0, 0, 0, 0, 0, 0, 0, 0, 0, 0, 0, 0, 0, 0, 0, 0, 0, 0, 0, 0, 0, 0, 0, 0, 0, 0, 0, 0, 0, 0, 0, 0, 0, 0, 0, 0, 0, 0, 0, 0, 0, 0, 0, 0, 0, 0, 0, 0, 0, 0, 0, 0, 0, 0, 0, 0, 0, 0, 0, 0, 0, 0, 0, 0, 0, 0, 0, 0, 0, 0, 0, 0, 0, 0, 0, 0, 0, 0, 0, 0, 0, 0, 0, 0, 0, 0, 0, 0, 0, 0, 0, 0, 0, 0, 0, 0, 0, 0, 0, 0, 0, 0, 0, 0, 0, 0, 0, 0, 0, 0, 0, 0, 0, 0, 0, 0, 0, 0, 0, 0, 0, 0, 0, 0, 0, 0, 0, 1, 0, 0, 0, 0, 0, 0, 0, 0, 0, 0, 0, 0, 0, 0, 0, 0, 0, 0, 0, 0, 0, 0, 0, 0, 0, 0, 0, 0, 0, 0, 0, 0, 0, 0, 0, 0, 0, 0, 0, 0, 0, 0, 0, 0, 0, 0, 0, 0, 0, 0, 0, 0, 0, 0, 0, 0, 0, 0, 0, 0, 0, 0, 0, 0, 0, 0, 0, 0, 0, 0, 0, 0, 0, 0, 1, 0, 0, 0, 0, 0, 0, 0, 0, 0, 0, 0, 0, 0, 0, 0, 0, 0, 0, 0, 0, 1, 0, 0, 1, 0, 0, 0, 0, 0, 0, 0, 0, 0, 0, 0, 0, 0, 0, 0, 0, 0, 0, 0, 0, 0, 0, 0, 0, 0, 0, 0, 0, 0, 0, 0, 0, 0, 0, 0, 0, 0, 0, 0, 0, 0, 0, 0, 0, 0, 0, 0, 0, 0, 0, 0, 0, 0, 0, 0, 0, 0, 0, 0, 0, 0, 0, 0, 0, 0, 0, 0, 0, 0, 0, 0, 0, 0, 0, 0, 0, 0, 0, 0, 0, 0, 0, 0, 0, 0, 0, 0, 0, 0, 0, 0, 0, 0, 0, 0, 0, 0, 0, 0, 0, 0, 0, 0, 0, 0, 0, 0, 0, 0, 0, 0, 0, 0, 0, 0, 0, 0, 0, 0, 0, 0, 0, 0, 0, 0, 0, 0, 0, 0, 0, 0, 0, 0, 0, 0, 0, 0, 0, 0, 0, 0, 0, 0, 0, 0, 0, 0, 0, 0, 0, 0, 0, 0, 0, 0, 0, 0, 0, 0, 0, 0, 0, 0, 0, 0, 0, 0, 0, 0, 0, 0, 0, 0, 0, 0, 0, 0, 0, 0, 0, 0, 0, 0, 0, 0, 0, 0, 0, 0, 0, 0, 0, 0, 0, 0, 0, 0, 0, 0, 0, 0, 0, 0, 0, 0, 0, 0, 0, 0, 0, 0, 0, 0, 0, 0, 0, 0, 0, 0, 0, 0, 0, 0, 0, 0, 0, 0, 0, 0, 0, 0, 0, 0, 0, 0, 0, 0, 0, 0, 0, 0, 0, 0, 0, 0, 0, 0, 0, 0, 0, 0, 0, 0, 0, 0, 0, 0, 0, 0, 0, 0, 0, 0, 0, 0, 0, 0, 0, 0, 0, 0, 0, 0, 0, 0, 0, 0, 0, 0, 0, 0, 0, 0, 0, 0, 0, 0, 0, 0, 0, 0, 0, 0, 0, 0, 0, 0, 0, 0, 0, 0, 0, 0, 0, 0, 0, 0, 0, 0, 0, 0, 0, 0, 0, 0, 0, 0, 0, 0, 0, 0, 0, 0, 0, 0, 0, 0, 0, 0, 0, 0, 0, 0, 0, 0, 0, 0, 0, 0, 0, 0, 0, 0, 0, 0, 0, 0, 0, 0, 0, 0, 0, 0, 0, 0, 0, 0, 0, 0, 0, 0, 0, 0, 0, 0, 0, 0, 0, 0, 0, 0, 0, 0, 0, 0, 0, 0, 0, 0, 0, 0, 0, 0, 0, 0, 0, 0, 0, 0, 0, 0, 0, 0, 0, 0, 0, 0, 0, 0, 0, 0, 0, 0, 0, 0, 0, 0, 0, 0, 0, 0, 0, 0, 0, 0, 0, 0, 0, 0, 0, 0, 0, 0, 0, 0, 0, 0, 0, 0, 0, 0, 0, 0, 0, 0, 0, 0, 0, 0, 0, 0, 0, 0, 0, 0, 0, 0, 0, 0, 0, 0, 0, 0, 0, 0, 0, 0, 0, 0, 0, 0, 0, 0, 0, 0, 0, 1, 0, 0, 0, 0, 0, 0, 0, 0, 0, 0, 0, 0, 0, 0, 0, 0, 0, 0, 0, 0, 0, 0, 0, 0, 0, 0, 0, 0, 0, 0, 0, 0, 0, 0, 0, 0, 0, 0, 0, 0, 0, 0, 0, 0, 0, 0, 0, 0, 0, 0, 0, 0, 0, 0, 0, 0, 0, 0, 0, 0, 0, 0, 0, 0, 0, 0, 0, 0, 0, 0, 0, 0, 0, 0, 0, 0, 0, 0, 0, 0, 0, 0, 0, 0, 0, 0, 0, 0, 0, 0, 0, 0, 0, 0, 0, 0, 0, 0, 0, 0, 0, 0, 0, 0, 0, 0, 0, 0, 0, 0, 0, 0, 0, 0, 0, 0, 0, 0, 0, 0, 0, 0, 0, 0, 0, 0, 0, 0, 0, 0, 0, 0, 0, 0, 0, 0, 0, 0, 0, 0, 0, 0, 0, 0, 0, 0, 0, 0, 0, 0, 0, 0, 0, 0, 0, 0, 0, 0, 0, 0, 0, 0, 0, 0, 0, 0, 0, 0, 0, 0, 0, 0, 0, 0, 0, 0, 0, 0, 0, 0, 0, 0, 0, 0, 0, 0, 0, 0, 0, 0, 0, 0, 0, 0, 0, 0, 0, 0, 0, 0, 0, 0, 0, 0, 0, 0, 0, 0, 0, 0, 0, 0, 0, 0, 0, 0, 0, 0, 0, 0, 0, 0, 0, 0, 0, 0, 0, 0, 0, 0, 0, 0, 0, 0, 0, 0, 0, 0, 0, 0, 0, 0, 0, 0, 0, 0, 0, 0, 0, 0, 0, 0, 0, 0, 0, 0, 0, 0, 0, 0, 0, 0, 0, 0, 0, 0, 0, 0, 0, 0, 0, 0, 0, 0, 0, 0, 0, 0, 0, 0, 0, 0, 0, 0, 0, 0, 0, 0, 0, 0, 0, 0, 0, 0, 0, 0, 0, 0, 0, 0, 0, 0, 0, 0, 0, 0, 0, 0, 0, 0, 0, 0, 0, 0, 0, 0, 0, 0, 0, 0, 0, 0, 0, 0, 0, 0, 0, 0, 0, 0, 0, 0, 0, 0, 0, 0, 0, 0, 0, 0, 0, 0, 0, 0, 0, 0, 0, 0, 0, 0, 0, 0, 0, 0, 0, 0, 0, 0, 0, 0, 0, 0, 0, 0, 0, 0, 0, 0, 0, 0, 0, 0, 0, 0, 0, 0, 0, 0, 0, 0, 0, 0, 0, 0, 0, 0, 0, 0, 0, 0, 0, 0, 0, 0, 0, 0, 0, 0, 0, 0, 0, 0, 0, 0, 0, 0, 0, 0, 0, 0, 0, 0, 0, 0, 0, 0, 0, 0, 0, 0, 0, 0, 0, 0, 0, 0, 0, 0, 0, 0, 0, 0, 0, 0, 0, 0, 0, 0, 0, 0, 0, 0, 0, 0, 0, 0, 0, 0, 0, 0, 0, 0, 0, 0, 0, 0, 0, 0, 0, 0, 0, 0, 0, 0, 0, 0, 0, 0, 0, 0, 0, 0, 0, 0, 0, 0, 0, 0, 0, 0, 0, 0, 0, 0, 0, 0, 0, 0, 0, 0, 0, 0, 0, 0, 0, 0, 0, 0, 0, 0, 0, 0, 0, 0, 0, 0, 0, 0, 0, 0, 0, 0, 1, 0, 0, 0, 0, 0, 0, 0, 0, 0, 0, 0, 0, 0, 0, 0, 0, 0, 0, 0, 0, 0, 0, 0, 0, 0, 0, 0, 0, 0, 0, 0, 0, 0, 0, 0, 2, 0, 0, 0, 0, 0, 0, 0, 0, 0, 0, 0, 0, 0, 0, 0, 0, 0, 0, 0, 0, 0, 0, 0, 0, 0, 0, 0, 0, 0, 0, 0, 0, 0, 0, 0, 0, 0, 0, 0, 0, 1, 0, 0, 0, 0, 0, 0, 0, 0, 0, 0, 0, 0, 0, 0, 0, 0, 0, 0, 0, 0, 0, 0, 0, 0, 0, 0, 0, 0, 0, 0, 0, 0, 0, 0, 0, 0, 0, 0, 0, 0, 0, 0, 0, 0, 0, 0, 0, 0, 0, 0, 0, 0, 0, 0, 0, 0, 0, 0, 0, 0, 0, 0, 0, 0, 0, 0, 0, 0, 0, 0, 0, 0, 0, 0, 0, 0, 0, 0, 0, 0, 0, 0, 0, 0, 0, 0, 0, 0, 0, 0, 0, 0, 0, 0, 0, 0, 0, 0, 0, 0, 0, 0, 0, 0, 0, 0, 0, 0, 0, 0, 0, 0, 0, 0, 0, 0, 0, 0, 0, 0, 0, 0, 0, 0, 0, 0, 0, 0, 0, 0, 0, 0, 0, 0, 0, 0, 0, 0, 0, 0, 0, 0, 0, 0, 0, 0, 0, 0, 0, 0, 0, 0, 0, 0, 0, 0, 0, 0, 0, 0, 0, 0, 0, 0, 0, 0, 0, 0, 0, 0, 0, 0, 0, 0, 0, 0, 0, 0, 0, 0, 0, 0, 0, 0, 0, 0, 0, 0, 0, 0, 0, 0, 0, 0, 0, 0, 0, 0, 0, 0, 0, 0, 0, 0, 0, 0, 0, 0, 0, 0, 0, 0, 0, 0, 0, 0, 0, 0, 0, 0, 0, 0, 0, 0, 0, 0, 0, 0, 0, 0, 0, 0, 0, 0, 0, 0, 0, 0, 0, 0, 0, 0, 0, 0, 0, 0, 0, 0, 0, 0, 0, 0, 0, 0, 0, 0, 0, 0, 0, 0, 0, 0, 0, 0, 0, 0, 0, 0, 0, 0, 0, 0, 0, 0, 0, 0, 0, 0, 0, 0, 0, 0, 0, 0, 0, 0, 0, 0, 0, 0, 0, 0, 0, 0, 0, 0, 0, 0, 0, 0, 0, 0, 0, 0, 0, 0, 0, 0, 0, 0, 0, 0, 0, 0, 0, 0, 0, 0, 0, 0, 0, 0, 0, 0, 0, 0, 0, 0, 0, 0, 0, 0, 0, 0, 0, 0, 0, 0, 0, 0, 0, 0, 0, 0, 0, 0, 0, 0, 0, 0, 0, 0, 0, 0, 0, 0, 0, 0, 0, 0, 0, 0, 0, 0, 0, 0, 0, 0, 0, 0, 0, 0, 0, 0, 0, 0, 0, 0, 0, 0, 0, 0, 0, 0, 0, 0, 0, 0, 0, 0, 0, 0, 0, 0, 0, 0, 0, 0, 0, 0, 0, 0, 0, 0, 0, 0, 0, 0, 0, 0, 0, 0, 0, 0, 0, 0, 0, 0, 0, 0, 0, 0, 0, 0, 0, 0, 0, 0, 0, 0, 0, 0, 0, 0, 0, 0, 0, 0, 0, 0, 0, 0, 0, 0, 0, 0, 0, 0, 0, 0, 0, 0, 0, 0, 0, 0, 0, 0, 0, 0, 0, 0, 0, 0, 0, 0, 0, 0, 0, 0, 0, 0, 0, 0, 0, 0, 0, 0, 0, 0, 0, 0, 0, 0, 0, 0, 0, 0, 0, 0, 0, 0, 0, 0, 0, 0, 0, 1, 0, 0, 0, 0, 0, 0, 0, 0, 0, 0, 0, 0, 0, 0, 0, 0, 0, 0, 0, 0, 0, 0, 0, 0, 0, 0, 0, 0, 0, 0, 0, 0, 0, 0, 0, 0, 0, 0, 0, 0, 0, 0, 0, 0, 0, 0, 0, 0, 0, 0, 0, 0, 0, 0, 0, 0, 0, 0, 0, 0, 0, 0, 0, 0, 0, 0, 0, 0, 0, 0, 0, 0, 0, 0, 0, 0, 0, 0, 0, 0, 0, 0, 0, 0, 0, 0, 0, 0, 0, 0, 0, 0, 0, 0, 0, 0, 0, 0, 0, 0, 0, 0, 0, 0, 0, 0, 0, 0, 0, 0, 2, 0, 0, 0, 0, 0, 0, 0, 0, 0, 0, 0, 0, 0, 0, 0, 0, 0, 0, 0, 0, 0, 0, 0, 0, 0, 0, 0, 0, 0, 0, 0, 0, 0, 0, 0, 0, 0, 0, 0, 0, 0, 0, 0, 0, 0, 0, 0, 0, 0, 0, 0, 0, 0, 0, 0, 0, 0, 0, 0, 0, 0, 0, 0, 0, 0, 0, 0, 0, 0, 0, 0, 0, 0, 0, 0, 0, 0, 0, 0, 0, 0, 0, 0, 0, 0, 0, 0, 0, 0, 0, 0, 0, 0, 0, 0, 0, 0, 0, 0, 0, 0, 0, 0, 0, 0, 0, 0, 0, 0, 0, 0, 0, 0, 0, 0, 0, 0, 0, 0, 0, 0, 0, 0, 0, 0, 0, 0, 0, 0, 0, 0, 0, 0, 0, 0, 0, 0, 0, 0, 0, 0, 0, 0, 0, 0, 0, 0, 0, 0, 0, 0, 0, 0, 0, 0, 0, 0, 0, 0, 0, 0, 0, 0, 0, 0, 0, 0, 0, 0, 0, 0, 0, 0, 0, 0, 0, 0, 0, 0, 0, 0, 0, 0, 0, 0, 0, 0, 0, 0, 0, 0, 0, 0, 0, 0, 0, 0, 0, 0, 0, 0, 0, 0, 0, 0, 0, 0, 0, 0, 0, 0, 0, 0, 0, 0, 0, 0, 0, 0, 0, 0, 0, 0, 0, 0, 0, 0, 0, 0, 0, 0, 0, 0, 0, 0, 0, 0, 0, 0, 0, 0, 0, 0, 0, 0, 0, 0, 0, 0, 0, 0, 0, 0, 0, 0, 0, 0, 0, 0, 0, 0, 0, 0, 0, 0, 0, 0, 0, 0, 0, 0, 0, 0, 0, 0, 0, 0, 0, 0, 0, 0, 0, 0, 0, 0, 0, 0, 0, 0, 0, 0, 0, 0, 0, 0, 0, 0, 0, 0, 0, 0, 0, 0, 0, 0, 0, 0, 0, 0, 0, 0, 0, 0, 0, 0, 0, 0, 0, 0, 0, 0, 0, 0, 0, 0, 0, 0, 0, 0, 0, 0, 0, 0, 0, 0, 0, 0, 0, 0, 0, 0, 0, 0, 0, 0, 0, 0, 0, 0, 0, 0, 0, 0, 0, 0, 0, 0, 0, 0, 0, 0, 0, 0, 0, 0, 0, 0, 0, 0, 0, 0, 0, 0, 0, 0, 0, 0, 0, 0, 0, 0, 0, 0, 0, 0, 0, 0, 0, 0, 0, 0, 0, 0, 0, 0, 0, 0, 0, 0, 0, 0, 0, 0, 0, 0, 0, 0, 0, 0, 0, 0, 0, 0, 0, 0, 0, 0, 0, 0, 0, 0, 0, 0, 0, 0, 0, 0, 0, 0, 0, 0, 0, 0, 0, 0, 0, 0, 0, 0, 0, 0, 0, 0, 0, 0, 0, 0, 0, 0, 0, 0, 0, 0, 0, 0, 0, 0, 0, 0, 0, 0, 0, 0, 0, 0, 0, 0, 0, 0, 0, 0, 0, 0, 0, 0, 0, 0, 0, 0, 0, 0, 0, 0, 0, 0, 0, 0, 0, 0, 0, 0, 0, 0, 0, 0, 0, 0, 0, 0, 0, 0, 0, 0, 0, 0, 0, 0, 0, 0, 0, 0, 0, 0, 0, 0, 0, 0, 0, 0, 0, 0, 0, 0, 0, 0, 0, 0, 0, 0, 0, 0, 0, 0, 0, 0, 0, 0, 0, 0, 0, 0, 0, 0, 0, 0, 0, 0, 0, 0, 0, 0, 0, 0, 0, 0, 0, 0, 0, 0, 0, 0, 0, 0, 0, 0, 0, 0, 0, 0, 0, 0, 0, 0, 0, 0, 0, 0, 0, 0, 0, 0, 0, 0, 0, 0, 0, 0, 0, 0, 0, 0, 0, 0, 0, 0, 0, 0, 0, 0, 0, 0, 0, 0, 0, 0, 0, 0, 0, 0, 0, 0, 0, 0, 0, 0, 0, 0, 0, 0, 0, 0, 0, 0, 0, 0, 0, 0, 0, 0, 0, 0, 0, 0, 0, 0, 0, 0, 0, 0, 0, 0, 0, 0, 0, 0, 0, 0, 0, 0, 0, 0, 0, 0, 0, 0, 0, 0, 0, 0, 0, 0, 0, 0, 0, 0, 0, 0, 0, 0, 0, 0, 0, 0, 0, 0, 0, 0, 0, 0, 0, 0, 0, 0, 0, 0, 0, 0, 0, 0, 0, 1, 0, 0, 0, 0, 0, 0, 0, 0, 0, 0, 0, 0, 0, 0, 0, 0, 0, 0, 0, 0, 0, 0, 0, 0, 0, 0, 0, 0, 0, 0, 0, 0, 0, 0, 0, 0, 0, 0, 0, 0, 0, 0, 0, 0, 0, 0, 0, 0, 0, 0, 0, 0, 0, 0, 0, 0, 0, 0, 0, 0, 0, 0, 0, 0, 0, 0, 0, 0, 0, 0, 0, 0, 0, 0, 0, 0, 0, 0, 0, 0, 0, 0, 0, 0, 0, 0, 0, 0, 0, 0, 0, 0, 0, 0, 0, 0, 0, 0, 0, 0, 0, 0, 0, 0, 0, 0, 0, 1, 0, 0, 0, 0, 0, 0, 0, 0, 0, 0, 0, 0, 0, 0, 0, 0, 0, 0, 0, 0, 0, 0, 0, 0, 0, 0, 0, 0, 0, 0, 0, 0, 0, 0, 0, 0, 0, 0, 0, 0, 0, 0, 0, 0, 0, 0, 0, 0, 0, 0, 0, 0, 0, 0, 0, 0, 0, 0, 0, 0, 0, 0, 0, 0, 0, 0, 0, 0, 0, 0, 0, 0, 0, 0, 0, 0, 0, 0, 0, 0, 0, 0, 0, 0, 0, 0, 0, 0, 0, 0, 0, 0, 0, 0, 0, 0, 0, 0, 0, 0, 0, 0, 0, 0, 0, 0, 0, 0, 0, 0, 0, 0, 0, 0, 0, 0, 0, 0, 0, 0, 0, 0, 0, 0, 0, 0, 0, 0, 0, 0, 0, 0, 0, 0, 0, 0, 0, 0, 0, 0, 0, 0, 0, 0, 0, 0, 0, 0, 0, 0, 0, 0, 0, 0, 0, 0, 0, 0, 0, 0, 0, 0, 0, 0, 0, 0, 0, 0, 0, 0, 0, 0, 0, 0, 0, 0, 0, 0, 0, 0, 0, 0, 0, 0, 0, 0, 0, 0, 0, 0, 0, 0, 0, 0, 0, 0, 0, 0, 0, 0, 0, 0, 0, 0, 0, 0, 0, 0, 0, 0, 0, 0, 0, 0, 0, 0, 0, 0, 0, 0, 0, 0, 0, 0, 0, 0, 0, 0, 0, 0, 0, 0, 0, 0, 0, 0, 0, 0, 0, 0, 0, 0, 0, 0, 0, 0, 0, 0, 0, 0, 0, 0, 0, 0, 0, 0, 0, 0, 0, 0, 0, 0, 0, 0, 0, 0, 0, 0, 0, 0, 0, 0, 0, 0, 0, 0, 0, 0, 0, 0, 0, 0, 0, 0, 0, 0, 0, 0, 0, 0, 0, 0, 0, 0, 0, 0, 0, 0, 0, 0, 0, 0, 0, 0, 0, 0, 0, 0, 0, 0, 0, 0, 0, 0, 0, 0, 0, 0, 0, 0, 0, 0, 0, 0, 0, 0, 0, 0, 0, 0, 0, 0, 0, 0, 0, 0, 0, 0, 0, 0, 0, 0, 0, 0, 0, 0, 0, 0, 0, 0, 0, 0, 0, 0, 0, 0, 0, 0, 0, 0, 0, 0, 0, 0, 0, 0, 0, 0, 0, 0, 0, 0, 0, 0, 0, 0, 0, 0, 0, 0, 0, 0, 0, 0, 0, 0, 0, 0, 0, 0, 0, 0, 0, 0, 0, 0, 0, 0, 0, 0, 0, 0, 0, 0, 0, 0, 0, 0, 0, 0, 0, 0, 0, 0, 0, 0, 0, 0, 0, 0, 0, 0, 0, 0, 0, 0, 0, 0, 0, 0, 0, 0, 0, 0, 0, 0, 0, 0, 0, 0, 0, 0, 0, 0, 0, 0, 0, 0, 0, 0, 0, 0, 0, 0, 0, 0, 0, 0, 0, 0, 0, 0, 0, 2, 0, 1, 0]\n"
     ]
    }
   ],
   "source": [
    "test_bow = bow_encoding(test_words, vocabulary)\n",
    "print(test_bow)"
   ]
  },
  {
   "cell_type": "code",
   "execution_count": 40,
   "metadata": {},
   "outputs": [
    {
     "data": {
      "text/plain": [
       "5000"
      ]
     },
     "execution_count": 40,
     "metadata": {},
     "output_type": "execute_result"
    }
   ],
   "source": [
    "len(test_bow)"
   ]
  },
  {
   "cell_type": "markdown",
   "metadata": {},
   "source": [
    "So now we know how to construct a bag of words encoding of a user provided review, how to we send it to our endpoint? First, we need to start the endpoint back up."
   ]
  },
  {
   "cell_type": "code",
   "execution_count": 41,
   "metadata": {},
   "outputs": [
    {
     "name": "stderr",
     "output_type": "stream",
     "text": [
      "WARNING:sagemaker:Using already existing model: xgboost-2019-12-21-21-24-36-639\n"
     ]
    },
    {
     "name": "stdout",
     "output_type": "stream",
     "text": [
      "--------------------------------------------------------------------------------------------------!"
     ]
    }
   ],
   "source": [
    "xgb_predictor = xgb.deploy(initial_instance_count = 1, instance_type = 'ml.m4.xlarge')"
   ]
  },
  {
   "cell_type": "markdown",
   "metadata": {},
   "source": [
    "At this point we could just do the same thing that we did earlier when we tested our deployed model and send `test_bow` to our endpoint using the `xgb_predictor` object. However, when we eventually construct our Lambda function we won't have access to this object, so how do we call a SageMaker endpoint?\n",
    "\n",
    "It turns out that Python functions that are used in Lambda have access to another Amazon library called `boto3`. This library provides an API for working with Amazon services, including SageMaker. To start with, we need to get a handle to the SageMaker runtime."
   ]
  },
  {
   "cell_type": "code",
   "execution_count": 42,
   "metadata": {},
   "outputs": [],
   "source": [
    "import boto3\n",
    "\n",
    "runtime = boto3.Session().client('sagemaker-runtime')"
   ]
  },
  {
   "cell_type": "markdown",
   "metadata": {},
   "source": [
    "And now that we have access to the SageMaker runtime, we can ask it to make use of (invoke) an endpoint that has already been created. However, we need to provide SageMaker with the name of the deployed endpoint. To find this out we can print it out using the `xgb_predictor` object."
   ]
  },
  {
   "cell_type": "code",
   "execution_count": 43,
   "metadata": {},
   "outputs": [
    {
     "data": {
      "text/plain": [
       "'xgboost-2019-12-21-21-24-36-639'"
      ]
     },
     "execution_count": 43,
     "metadata": {},
     "output_type": "execute_result"
    }
   ],
   "source": [
    "xgb_predictor.endpoint"
   ]
  },
  {
   "cell_type": "markdown",
   "metadata": {},
   "source": [
    "Using the SageMaker runtime and the name of our endpoint, we can invoke the endpoint and send it the `test_bow` data."
   ]
  },
  {
   "cell_type": "code",
   "execution_count": 44,
   "metadata": {},
   "outputs": [
    {
     "ename": "ParamValidationError",
     "evalue": "Parameter validation failed:\nInvalid type for parameter Body, value: [0, 0, 0, 0, 0, 0, 0, 0, 0, 0, 0, 0, 0, 0, 0, 0, 0, 0, 0, 0, 0, 0, 0, 0, 0, 0, 0, 0, 0, 0, 0, 0, 0, 0, 0, 0, 0, 0, 0, 0, 0, 0, 0, 0, 0, 0, 0, 0, 0, 0, 0, 0, 0, 0, 0, 0, 0, 0, 0, 0, 0, 0, 0, 0, 0, 0, 0, 0, 0, 0, 0, 0, 0, 0, 0, 0, 0, 0, 0, 0, 0, 0, 0, 0, 0, 0, 0, 0, 0, 0, 0, 0, 0, 0, 0, 0, 0, 0, 0, 0, 0, 0, 0, 0, 0, 0, 0, 0, 0, 0, 0, 0, 0, 0, 0, 0, 0, 0, 0, 0, 0, 0, 0, 0, 0, 0, 0, 0, 0, 0, 0, 0, 0, 0, 0, 0, 0, 0, 0, 0, 0, 0, 0, 0, 0, 0, 0, 0, 0, 0, 0, 0, 0, 0, 0, 0, 0, 0, 0, 0, 0, 0, 0, 0, 0, 0, 0, 0, 0, 0, 0, 0, 0, 0, 0, 0, 0, 0, 0, 0, 0, 0, 0, 0, 0, 0, 0, 0, 0, 0, 0, 0, 0, 0, 0, 0, 0, 0, 0, 0, 0, 0, 0, 0, 0, 0, 0, 0, 0, 0, 0, 0, 0, 0, 0, 0, 0, 0, 0, 0, 0, 0, 0, 0, 0, 0, 1, 0, 0, 0, 0, 0, 0, 0, 0, 0, 0, 0, 0, 0, 0, 0, 0, 0, 0, 0, 0, 0, 0, 0, 0, 0, 0, 0, 0, 0, 1, 0, 0, 0, 0, 0, 0, 0, 0, 0, 0, 0, 0, 0, 0, 0, 0, 0, 0, 0, 0, 0, 0, 0, 0, 0, 0, 0, 0, 0, 0, 0, 0, 0, 0, 0, 0, 0, 0, 0, 0, 0, 0, 0, 0, 0, 0, 0, 0, 0, 0, 0, 0, 0, 0, 0, 0, 0, 0, 0, 0, 0, 0, 0, 0, 0, 0, 0, 0, 0, 0, 0, 0, 0, 0, 0, 0, 0, 0, 0, 0, 0, 0, 0, 0, 0, 0, 0, 0, 0, 0, 0, 0, 0, 0, 0, 0, 0, 0, 0, 0, 0, 0, 0, 0, 0, 0, 0, 0, 0, 0, 0, 0, 0, 0, 0, 0, 0, 0, 0, 0, 0, 0, 0, 0, 0, 0, 0, 0, 0, 0, 0, 0, 0, 0, 0, 0, 0, 0, 0, 0, 0, 0, 0, 0, 0, 0, 0, 0, 0, 0, 0, 0, 0, 0, 0, 0, 0, 0, 0, 0, 0, 0, 0, 0, 0, 0, 0, 0, 0, 0, 0, 0, 0, 0, 0, 0, 0, 0, 0, 0, 0, 0, 0, 0, 0, 0, 0, 0, 0, 0, 0, 0, 0, 0, 0, 0, 0, 0, 0, 0, 0, 0, 0, 0, 0, 0, 0, 0, 0, 0, 0, 0, 0, 0, 0, 0, 0, 0, 0, 0, 0, 0, 0, 0, 0, 0, 0, 0, 0, 0, 0, 0, 0, 0, 0, 0, 0, 0, 0, 0, 0, 0, 0, 0, 0, 0, 0, 0, 0, 0, 0, 0, 0, 0, 0, 0, 0, 0, 0, 0, 0, 0, 0, 0, 0, 0, 0, 0, 0, 0, 0, 0, 0, 0, 0, 0, 0, 0, 0, 0, 0, 0, 0, 0, 0, 0, 0, 0, 0, 0, 0, 0, 0, 0, 0, 0, 0, 0, 0, 0, 0, 0, 0, 0, 0, 0, 0, 0, 0, 0, 0, 0, 0, 0, 0, 0, 0, 0, 0, 0, 0, 0, 0, 0, 0, 0, 0, 0, 0, 0, 0, 0, 0, 0, 0, 0, 0, 0, 0, 0, 0, 0, 0, 0, 0, 0, 0, 0, 0, 0, 0, 0, 0, 0, 0, 0, 0, 0, 0, 0, 0, 0, 0, 0, 0, 0, 0, 0, 0, 0, 0, 0, 0, 0, 0, 0, 0, 0, 0, 1, 0, 0, 0, 0, 0, 0, 0, 0, 0, 0, 0, 0, 0, 0, 0, 0, 0, 0, 0, 0, 0, 0, 0, 0, 0, 0, 0, 0, 0, 0, 0, 0, 0, 0, 0, 0, 0, 0, 0, 0, 0, 0, 0, 0, 0, 0, 0, 0, 0, 0, 0, 0, 0, 0, 0, 0, 0, 0, 0, 0, 0, 0, 0, 0, 0, 0, 0, 0, 0, 0, 0, 0, 0, 0, 0, 0, 0, 0, 0, 0, 0, 0, 0, 0, 0, 0, 0, 0, 0, 0, 0, 0, 0, 0, 0, 0, 0, 0, 0, 0, 0, 0, 0, 0, 0, 0, 0, 0, 0, 0, 0, 0, 0, 0, 0, 0, 0, 0, 0, 0, 0, 0, 0, 0, 0, 0, 0, 0, 0, 0, 0, 0, 0, 0, 0, 0, 0, 0, 0, 0, 0, 0, 0, 0, 0, 0, 0, 0, 0, 0, 0, 0, 0, 0, 0, 0, 0, 0, 0, 0, 0, 0, 0, 0, 0, 0, 0, 0, 0, 0, 0, 0, 0, 0, 0, 0, 0, 0, 0, 0, 0, 0, 0, 0, 0, 0, 0, 0, 0, 0, 0, 0, 0, 0, 0, 0, 0, 0, 0, 0, 0, 0, 0, 0, 0, 0, 0, 0, 0, 0, 0, 0, 0, 0, 0, 0, 0, 0, 0, 0, 0, 0, 0, 0, 0, 0, 0, 0, 0, 0, 0, 0, 0, 0, 0, 0, 0, 0, 0, 0, 0, 0, 0, 0, 0, 0, 0, 0, 0, 0, 0, 0, 0, 1, 0, 0, 0, 0, 0, 0, 0, 0, 0, 0, 0, 0, 0, 0, 0, 0, 0, 0, 0, 0, 0, 0, 0, 0, 0, 0, 0, 0, 0, 0, 0, 0, 0, 0, 0, 0, 0, 0, 0, 0, 0, 0, 0, 0, 0, 0, 0, 0, 0, 0, 0, 0, 0, 0, 0, 0, 0, 0, 0, 0, 0, 0, 0, 0, 0, 0, 0, 0, 0, 0, 0, 0, 0, 0, 0, 0, 0, 0, 0, 0, 0, 0, 0, 0, 0, 0, 1, 0, 0, 0, 0, 0, 0, 0, 0, 0, 0, 0, 0, 0, 0, 0, 0, 0, 0, 0, 0, 0, 0, 0, 0, 0, 0, 0, 0, 0, 0, 0, 0, 0, 0, 0, 0, 0, 0, 0, 0, 0, 0, 0, 0, 0, 0, 0, 0, 0, 0, 0, 0, 0, 0, 0, 0, 0, 0, 0, 0, 0, 0, 0, 0, 0, 0, 0, 0, 0, 0, 0, 0, 0, 0, 0, 0, 0, 0, 0, 0, 0, 0, 0, 0, 0, 0, 0, 0, 0, 0, 0, 0, 0, 0, 0, 0, 0, 0, 0, 0, 0, 0, 0, 0, 0, 0, 0, 0, 0, 0, 0, 0, 0, 0, 0, 0, 0, 0, 0, 0, 0, 0, 0, 0, 0, 0, 0, 0, 0, 0, 0, 0, 0, 0, 0, 0, 0, 0, 0, 0, 0, 0, 0, 0, 0, 0, 0, 0, 0, 0, 0, 0, 0, 0, 0, 0, 0, 0, 0, 0, 0, 0, 0, 0, 0, 0, 0, 0, 0, 0, 0, 0, 0, 0, 0, 0, 0, 0, 0, 0, 0, 0, 0, 0, 0, 0, 0, 0, 0, 0, 0, 0, 0, 0, 0, 0, 0, 0, 0, 0, 0, 0, 0, 0, 0, 0, 0, 0, 0, 0, 0, 0, 0, 0, 0, 0, 0, 0, 0, 0, 0, 0, 0, 0, 0, 0, 0, 0, 0, 0, 0, 0, 0, 0, 0, 0, 0, 0, 0, 0, 0, 0, 0, 0, 0, 0, 0, 0, 0, 0, 0, 0, 1, 0, 0, 0, 0, 0, 0, 0, 0, 0, 0, 0, 0, 0, 0, 0, 0, 0, 0, 0, 0, 0, 0, 0, 0, 0, 0, 0, 0, 0, 0, 0, 0, 0, 0, 0, 0, 0, 0, 0, 0, 0, 0, 0, 0, 0, 0, 0, 0, 0, 0, 0, 0, 0, 0, 0, 1, 0, 0, 0, 0, 0, 0, 0, 0, 0, 0, 0, 0, 0, 0, 0, 0, 0, 0, 0, 0, 0, 0, 0, 0, 0, 0, 0, 0, 0, 0, 0, 0, 0, 0, 0, 0, 0, 0, 0, 0, 0, 0, 0, 0, 0, 0, 0, 0, 0, 0, 0, 0, 0, 0, 0, 0, 0, 0, 0, 0, 0, 0, 0, 0, 0, 0, 0, 0, 0, 0, 0, 0, 0, 0, 0, 0, 0, 0, 0, 0, 0, 0, 0, 0, 0, 0, 0, 0, 0, 0, 0, 0, 0, 0, 0, 0, 0, 0, 0, 0, 0, 0, 0, 0, 0, 0, 0, 0, 0, 0, 0, 0, 0, 0, 0, 0, 0, 0, 0, 0, 0, 0, 0, 0, 0, 0, 0, 0, 0, 0, 0, 0, 0, 0, 0, 0, 0, 0, 0, 0, 0, 0, 0, 0, 0, 0, 0, 0, 0, 0, 0, 0, 0, 0, 0, 0, 0, 0, 0, 0, 0, 0, 0, 0, 0, 0, 0, 0, 0, 0, 0, 0, 0, 0, 0, 0, 0, 0, 0, 0, 0, 0, 0, 0, 0, 0, 0, 0, 0, 0, 0, 0, 0, 0, 0, 0, 0, 0, 0, 0, 0, 0, 0, 0, 0, 0, 0, 0, 0, 0, 0, 0, 0, 0, 0, 0, 0, 0, 0, 0, 0, 0, 0, 0, 0, 0, 0, 0, 0, 0, 0, 0, 0, 0, 0, 0, 0, 0, 0, 0, 0, 0, 0, 0, 0, 0, 0, 0, 0, 0, 0, 0, 0, 0, 0, 0, 0, 0, 0, 0, 0, 0, 0, 0, 0, 0, 0, 0, 0, 0, 0, 0, 0, 0, 0, 0, 0, 0, 0, 0, 0, 0, 0, 0, 0, 0, 0, 0, 0, 0, 0, 0, 0, 0, 0, 0, 0, 0, 0, 0, 0, 0, 0, 0, 0, 0, 0, 0, 0, 0, 0, 0, 0, 0, 0, 0, 0, 0, 0, 0, 0, 0, 0, 0, 0, 0, 0, 0, 0, 0, 0, 0, 0, 0, 0, 0, 0, 0, 0, 0, 0, 0, 0, 0, 0, 0, 0, 0, 0, 0, 0, 0, 0, 0, 0, 0, 0, 0, 0, 0, 0, 0, 0, 0, 0, 0, 0, 0, 0, 0, 0, 0, 0, 0, 0, 0, 0, 0, 0, 0, 0, 0, 0, 0, 0, 0, 0, 0, 0, 0, 0, 0, 0, 0, 0, 0, 0, 0, 0, 0, 0, 0, 0, 0, 0, 0, 0, 0, 0, 0, 0, 0, 0, 0, 0, 0, 0, 0, 0, 0, 0, 0, 0, 0, 0, 0, 0, 0, 0, 0, 0, 0, 0, 0, 0, 0, 0, 0, 0, 0, 0, 0, 0, 0, 0, 0, 0, 0, 0, 0, 0, 0, 0, 0, 0, 0, 0, 0, 0, 0, 0, 0, 0, 0, 0, 0, 0, 0, 0, 0, 0, 0, 0, 0, 0, 0, 0, 0, 0, 0, 0, 0, 0, 0, 0, 0, 0, 0, 0, 0, 0, 0, 0, 0, 0, 0, 0, 0, 0, 0, 0, 0, 0, 0, 0, 0, 0, 0, 0, 0, 0, 0, 0, 0, 0, 0, 0, 0, 0, 0, 0, 0, 0, 0, 0, 0, 0, 0, 0, 0, 0, 0, 0, 0, 0, 0, 0, 0, 0, 0, 0, 0, 0, 0, 0, 0, 0, 0, 0, 0, 0, 0, 0, 0, 0, 0, 0, 0, 0, 0, 0, 0, 0, 0, 0, 0, 0, 0, 0, 0, 0, 0, 0, 0, 0, 0, 0, 0, 0, 0, 0, 0, 0, 0, 0, 0, 0, 0, 0, 0, 0, 0, 0, 0, 0, 0, 0, 0, 0, 0, 0, 0, 0, 0, 0, 0, 0, 0, 0, 0, 0, 0, 0, 0, 0, 0, 0, 0, 0, 0, 0, 0, 0, 0, 0, 0, 0, 0, 0, 0, 0, 0, 0, 0, 0, 0, 0, 0, 0, 0, 0, 0, 0, 0, 0, 0, 0, 0, 0, 0, 0, 0, 0, 0, 0, 0, 0, 0, 0, 0, 0, 0, 0, 0, 0, 0, 0, 0, 0, 0, 0, 0, 0, 0, 0, 0, 0, 0, 0, 0, 0, 1, 0, 0, 0, 0, 0, 0, 0, 0, 0, 0, 0, 0, 0, 0, 0, 0, 0, 0, 0, 0, 0, 0, 0, 0, 0, 0, 0, 0, 0, 0, 0, 0, 0, 0, 0, 0, 0, 0, 0, 0, 0, 0, 0, 0, 0, 0, 0, 0, 0, 0, 0, 0, 0, 0, 0, 0, 0, 0, 0, 0, 0, 0, 0, 0, 0, 0, 0, 0, 0, 0, 0, 0, 0, 0, 1, 0, 0, 0, 0, 0, 0, 0, 0, 0, 0, 0, 0, 0, 0, 0, 0, 0, 0, 0, 0, 1, 0, 0, 1, 0, 0, 0, 0, 0, 0, 0, 0, 0, 0, 0, 0, 0, 0, 0, 0, 0, 0, 0, 0, 0, 0, 0, 0, 0, 0, 0, 0, 0, 0, 0, 0, 0, 0, 0, 0, 0, 0, 0, 0, 0, 0, 0, 0, 0, 0, 0, 0, 0, 0, 0, 0, 0, 0, 0, 0, 0, 0, 0, 0, 0, 0, 0, 0, 0, 0, 0, 0, 0, 0, 0, 0, 0, 0, 0, 0, 0, 0, 0, 0, 0, 0, 0, 0, 0, 0, 0, 0, 0, 0, 0, 0, 0, 0, 0, 0, 0, 0, 0, 0, 0, 0, 0, 0, 0, 0, 0, 0, 0, 0, 0, 0, 0, 0, 0, 0, 0, 0, 0, 0, 0, 0, 0, 0, 0, 0, 0, 0, 0, 0, 0, 0, 0, 0, 0, 0, 0, 0, 0, 0, 0, 0, 0, 0, 0, 0, 0, 0, 0, 0, 0, 0, 0, 0, 0, 0, 0, 0, 0, 0, 0, 0, 0, 0, 0, 0, 0, 0, 0, 0, 0, 0, 0, 0, 0, 0, 0, 0, 0, 0, 0, 0, 0, 0, 0, 0, 0, 0, 0, 0, 0, 0, 0, 0, 0, 0, 0, 0, 0, 0, 0, 0, 0, 0, 0, 0, 0, 0, 0, 0, 0, 0, 0, 0, 0, 0, 0, 0, 0, 0, 0, 0, 0, 0, 0, 0, 0, 0, 0, 0, 0, 0, 0, 0, 0, 0, 0, 0, 0, 0, 0, 0, 0, 0, 0, 0, 0, 0, 0, 0, 0, 0, 0, 0, 0, 0, 0, 0, 0, 0, 0, 0, 0, 0, 0, 0, 0, 0, 0, 0, 0, 0, 0, 0, 0, 0, 0, 0, 0, 0, 0, 0, 0, 0, 0, 0, 0, 0, 0, 0, 0, 0, 0, 0, 0, 0, 0, 0, 0, 0, 0, 0, 0, 0, 0, 0, 0, 0, 0, 0, 0, 0, 0, 0, 0, 0, 0, 0, 0, 0, 0, 0, 0, 0, 0, 0, 0, 0, 0, 0, 0, 0, 0, 0, 0, 0, 0, 0, 0, 0, 0, 0, 0, 0, 0, 0, 0, 0, 0, 0, 0, 0, 0, 0, 0, 0, 0, 0, 0, 0, 0, 0, 0, 0, 0, 0, 0, 0, 0, 0, 0, 0, 0, 0, 0, 0, 0, 0, 0, 0, 0, 0, 0, 0, 0, 0, 0, 0, 0, 0, 0, 0, 0, 0, 0, 0, 0, 0, 0, 0, 0, 0, 0, 0, 0, 0, 0, 0, 0, 0, 0, 0, 0, 0, 0, 0, 0, 0, 0, 0, 0, 0, 0, 0, 0, 0, 0, 0, 0, 0, 0, 0, 0, 0, 0, 0, 0, 0, 0, 0, 0, 0, 0, 0, 0, 0, 0, 0, 0, 0, 0, 0, 0, 0, 0, 0, 0, 0, 0, 0, 0, 0, 0, 0, 0, 0, 1, 0, 0, 0, 0, 0, 0, 0, 0, 0, 0, 0, 0, 0, 0, 0, 0, 0, 0, 0, 0, 0, 0, 0, 0, 0, 0, 0, 0, 0, 0, 0, 0, 0, 0, 0, 0, 0, 0, 0, 0, 0, 0, 0, 0, 0, 0, 0, 0, 0, 0, 0, 0, 0, 0, 0, 0, 0, 0, 0, 0, 0, 0, 0, 0, 0, 0, 0, 0, 0, 0, 0, 0, 0, 0, 0, 0, 0, 0, 0, 0, 0, 0, 0, 0, 0, 0, 0, 0, 0, 0, 0, 0, 0, 0, 0, 0, 0, 0, 0, 0, 0, 0, 0, 0, 0, 0, 0, 0, 0, 0, 0, 0, 0, 0, 0, 0, 0, 0, 0, 0, 0, 0, 0, 0, 0, 0, 0, 0, 0, 0, 0, 0, 0, 0, 0, 0, 0, 0, 0, 0, 0, 0, 0, 0, 0, 0, 0, 0, 0, 0, 0, 0, 0, 0, 0, 0, 0, 0, 0, 0, 0, 0, 0, 0, 0, 0, 0, 0, 0, 0, 0, 0, 0, 0, 0, 0, 0, 0, 0, 0, 0, 0, 0, 0, 0, 0, 0, 0, 0, 0, 0, 0, 0, 0, 0, 0, 0, 0, 0, 0, 0, 0, 0, 0, 0, 0, 0, 0, 0, 0, 0, 0, 0, 0, 0, 0, 0, 0, 0, 0, 0, 0, 0, 0, 0, 0, 0, 0, 0, 0, 0, 0, 0, 0, 0, 0, 0, 0, 0, 0, 0, 0, 0, 0, 0, 0, 0, 0, 0, 0, 0, 0, 0, 0, 0, 0, 0, 0, 0, 0, 0, 0, 0, 0, 0, 0, 0, 0, 0, 0, 0, 0, 0, 0, 0, 0, 0, 0, 0, 0, 0, 0, 0, 0, 0, 0, 0, 0, 0, 0, 0, 0, 0, 0, 0, 0, 0, 0, 0, 0, 0, 0, 0, 0, 0, 0, 0, 0, 0, 0, 0, 0, 0, 0, 0, 0, 0, 0, 0, 0, 0, 0, 0, 0, 0, 0, 0, 0, 0, 0, 0, 0, 0, 0, 0, 0, 0, 0, 0, 0, 0, 0, 0, 0, 0, 0, 0, 0, 0, 0, 0, 0, 0, 0, 0, 0, 0, 0, 0, 0, 0, 0, 0, 0, 0, 0, 0, 0, 0, 0, 0, 0, 0, 0, 0, 0, 0, 0, 0, 0, 0, 0, 0, 0, 0, 0, 0, 0, 0, 0, 0, 0, 0, 0, 0, 0, 0, 0, 0, 0, 0, 0, 0, 0, 0, 0, 0, 0, 0, 0, 0, 0, 0, 0, 0, 0, 0, 0, 0, 0, 0, 0, 0, 0, 0, 0, 0, 0, 0, 0, 0, 0, 0, 0, 0, 0, 0, 0, 0, 0, 0, 0, 0, 0, 0, 0, 0, 0, 0, 0, 0, 0, 0, 0, 0, 0, 0, 0, 0, 0, 0, 0, 0, 0, 0, 0, 0, 0, 0, 0, 0, 0, 0, 0, 0, 0, 0, 0, 0, 0, 0, 0, 0, 0, 0, 0, 0, 0, 0, 0, 0, 0, 0, 0, 0, 0, 0, 0, 0, 0, 0, 0, 0, 0, 0, 0, 0, 0, 0, 0, 0, 0, 1, 0, 0, 0, 0, 0, 0, 0, 0, 0, 0, 0, 0, 0, 0, 0, 0, 0, 0, 0, 0, 0, 0, 0, 0, 0, 0, 0, 0, 0, 0, 0, 0, 0, 0, 0, 2, 0, 0, 0, 0, 0, 0, 0, 0, 0, 0, 0, 0, 0, 0, 0, 0, 0, 0, 0, 0, 0, 0, 0, 0, 0, 0, 0, 0, 0, 0, 0, 0, 0, 0, 0, 0, 0, 0, 0, 0, 1, 0, 0, 0, 0, 0, 0, 0, 0, 0, 0, 0, 0, 0, 0, 0, 0, 0, 0, 0, 0, 0, 0, 0, 0, 0, 0, 0, 0, 0, 0, 0, 0, 0, 0, 0, 0, 0, 0, 0, 0, 0, 0, 0, 0, 0, 0, 0, 0, 0, 0, 0, 0, 0, 0, 0, 0, 0, 0, 0, 0, 0, 0, 0, 0, 0, 0, 0, 0, 0, 0, 0, 0, 0, 0, 0, 0, 0, 0, 0, 0, 0, 0, 0, 0, 0, 0, 0, 0, 0, 0, 0, 0, 0, 0, 0, 0, 0, 0, 0, 0, 0, 0, 0, 0, 0, 0, 0, 0, 0, 0, 0, 0, 0, 0, 0, 0, 0, 0, 0, 0, 0, 0, 0, 0, 0, 0, 0, 0, 0, 0, 0, 0, 0, 0, 0, 0, 0, 0, 0, 0, 0, 0, 0, 0, 0, 0, 0, 0, 0, 0, 0, 0, 0, 0, 0, 0, 0, 0, 0, 0, 0, 0, 0, 0, 0, 0, 0, 0, 0, 0, 0, 0, 0, 0, 0, 0, 0, 0, 0, 0, 0, 0, 0, 0, 0, 0, 0, 0, 0, 0, 0, 0, 0, 0, 0, 0, 0, 0, 0, 0, 0, 0, 0, 0, 0, 0, 0, 0, 0, 0, 0, 0, 0, 0, 0, 0, 0, 0, 0, 0, 0, 0, 0, 0, 0, 0, 0, 0, 0, 0, 0, 0, 0, 0, 0, 0, 0, 0, 0, 0, 0, 0, 0, 0, 0, 0, 0, 0, 0, 0, 0, 0, 0, 0, 0, 0, 0, 0, 0, 0, 0, 0, 0, 0, 0, 0, 0, 0, 0, 0, 0, 0, 0, 0, 0, 0, 0, 0, 0, 0, 0, 0, 0, 0, 0, 0, 0, 0, 0, 0, 0, 0, 0, 0, 0, 0, 0, 0, 0, 0, 0, 0, 0, 0, 0, 0, 0, 0, 0, 0, 0, 0, 0, 0, 0, 0, 0, 0, 0, 0, 0, 0, 0, 0, 0, 0, 0, 0, 0, 0, 0, 0, 0, 0, 0, 0, 0, 0, 0, 0, 0, 0, 0, 0, 0, 0, 0, 0, 0, 0, 0, 0, 0, 0, 0, 0, 0, 0, 0, 0, 0, 0, 0, 0, 0, 0, 0, 0, 0, 0, 0, 0, 0, 0, 0, 0, 0, 0, 0, 0, 0, 0, 0, 0, 0, 0, 0, 0, 0, 0, 0, 0, 0, 0, 0, 0, 0, 0, 0, 0, 0, 0, 0, 0, 0, 0, 0, 0, 0, 0, 0, 0, 0, 0, 0, 0, 0, 0, 0, 0, 0, 0, 0, 0, 0, 0, 0, 0, 0, 0, 0, 0, 0, 0, 0, 0, 0, 0, 0, 0, 0, 0, 0, 0, 0, 0, 0, 0, 0, 0, 0, 0, 0, 0, 0, 0, 0, 0, 0, 0, 0, 0, 0, 0, 0, 0, 0, 0, 0, 0, 0, 0, 0, 0, 0, 0, 0, 0, 0, 0, 0, 0, 0, 0, 0, 0, 0, 0, 0, 0, 0, 0, 0, 0, 0, 0, 0, 1, 0, 0, 0, 0, 0, 0, 0, 0, 0, 0, 0, 0, 0, 0, 0, 0, 0, 0, 0, 0, 0, 0, 0, 0, 0, 0, 0, 0, 0, 0, 0, 0, 0, 0, 0, 0, 0, 0, 0, 0, 0, 0, 0, 0, 0, 0, 0, 0, 0, 0, 0, 0, 0, 0, 0, 0, 0, 0, 0, 0, 0, 0, 0, 0, 0, 0, 0, 0, 0, 0, 0, 0, 0, 0, 0, 0, 0, 0, 0, 0, 0, 0, 0, 0, 0, 0, 0, 0, 0, 0, 0, 0, 0, 0, 0, 0, 0, 0, 0, 0, 0, 0, 0, 0, 0, 0, 0, 0, 0, 0, 2, 0, 0, 0, 0, 0, 0, 0, 0, 0, 0, 0, 0, 0, 0, 0, 0, 0, 0, 0, 0, 0, 0, 0, 0, 0, 0, 0, 0, 0, 0, 0, 0, 0, 0, 0, 0, 0, 0, 0, 0, 0, 0, 0, 0, 0, 0, 0, 0, 0, 0, 0, 0, 0, 0, 0, 0, 0, 0, 0, 0, 0, 0, 0, 0, 0, 0, 0, 0, 0, 0, 0, 0, 0, 0, 0, 0, 0, 0, 0, 0, 0, 0, 0, 0, 0, 0, 0, 0, 0, 0, 0, 0, 0, 0, 0, 0, 0, 0, 0, 0, 0, 0, 0, 0, 0, 0, 0, 0, 0, 0, 0, 0, 0, 0, 0, 0, 0, 0, 0, 0, 0, 0, 0, 0, 0, 0, 0, 0, 0, 0, 0, 0, 0, 0, 0, 0, 0, 0, 0, 0, 0, 0, 0, 0, 0, 0, 0, 0, 0, 0, 0, 0, 0, 0, 0, 0, 0, 0, 0, 0, 0, 0, 0, 0, 0, 0, 0, 0, 0, 0, 0, 0, 0, 0, 0, 0, 0, 0, 0, 0, 0, 0, 0, 0, 0, 0, 0, 0, 0, 0, 0, 0, 0, 0, 0, 0, 0, 0, 0, 0, 0, 0, 0, 0, 0, 0, 0, 0, 0, 0, 0, 0, 0, 0, 0, 0, 0, 0, 0, 0, 0, 0, 0, 0, 0, 0, 0, 0, 0, 0, 0, 0, 0, 0, 0, 0, 0, 0, 0, 0, 0, 0, 0, 0, 0, 0, 0, 0, 0, 0, 0, 0, 0, 0, 0, 0, 0, 0, 0, 0, 0, 0, 0, 0, 0, 0, 0, 0, 0, 0, 0, 0, 0, 0, 0, 0, 0, 0, 0, 0, 0, 0, 0, 0, 0, 0, 0, 0, 0, 0, 0, 0, 0, 0, 0, 0, 0, 0, 0, 0, 0, 0, 0, 0, 0, 0, 0, 0, 0, 0, 0, 0, 0, 0, 0, 0, 0, 0, 0, 0, 0, 0, 0, 0, 0, 0, 0, 0, 0, 0, 0, 0, 0, 0, 0, 0, 0, 0, 0, 0, 0, 0, 0, 0, 0, 0, 0, 0, 0, 0, 0, 0, 0, 0, 0, 0, 0, 0, 0, 0, 0, 0, 0, 0, 0, 0, 0, 0, 0, 0, 0, 0, 0, 0, 0, 0, 0, 0, 0, 0, 0, 0, 0, 0, 0, 0, 0, 0, 0, 0, 0, 0, 0, 0, 0, 0, 0, 0, 0, 0, 0, 0, 0, 0, 0, 0, 0, 0, 0, 0, 0, 0, 0, 0, 0, 0, 0, 0, 0, 0, 0, 0, 0, 0, 0, 0, 0, 0, 0, 0, 0, 0, 0, 0, 0, 0, 0, 0, 0, 0, 0, 0, 0, 0, 0, 0, 0, 0, 0, 0, 0, 0, 0, 0, 0, 0, 0, 0, 0, 0, 0, 0, 0, 0, 0, 0, 0, 0, 0, 0, 0, 0, 0, 0, 0, 0, 0, 0, 0, 0, 0, 0, 0, 0, 0, 0, 0, 0, 0, 0, 0, 0, 0, 0, 0, 0, 0, 0, 0, 0, 0, 0, 0, 0, 0, 0, 0, 0, 0, 0, 0, 0, 0, 0, 0, 0, 0, 0, 0, 0, 0, 0, 0, 0, 0, 0, 0, 0, 0, 0, 0, 0, 0, 0, 0, 0, 0, 0, 0, 0, 0, 0, 0, 0, 0, 0, 0, 0, 0, 0, 0, 0, 0, 0, 0, 0, 0, 0, 0, 0, 0, 0, 0, 0, 0, 0, 0, 0, 0, 0, 0, 0, 0, 0, 0, 0, 0, 0, 0, 0, 0, 0, 0, 0, 0, 0, 0, 0, 0, 0, 0, 0, 0, 0, 0, 0, 0, 0, 0, 0, 0, 0, 0, 0, 0, 0, 0, 0, 0, 0, 0, 0, 0, 0, 0, 0, 0, 0, 0, 0, 0, 0, 0, 0, 0, 0, 0, 0, 0, 0, 0, 0, 0, 0, 0, 0, 0, 0, 0, 0, 0, 0, 0, 0, 0, 0, 0, 0, 0, 0, 0, 0, 0, 0, 0, 0, 0, 0, 0, 0, 0, 0, 0, 0, 0, 0, 0, 0, 0, 0, 0, 0, 0, 0, 0, 0, 0, 0, 0, 0, 0, 0, 0, 0, 0, 0, 0, 0, 0, 0, 1, 0, 0, 0, 0, 0, 0, 0, 0, 0, 0, 0, 0, 0, 0, 0, 0, 0, 0, 0, 0, 0, 0, 0, 0, 0, 0, 0, 0, 0, 0, 0, 0, 0, 0, 0, 0, 0, 0, 0, 0, 0, 0, 0, 0, 0, 0, 0, 0, 0, 0, 0, 0, 0, 0, 0, 0, 0, 0, 0, 0, 0, 0, 0, 0, 0, 0, 0, 0, 0, 0, 0, 0, 0, 0, 0, 0, 0, 0, 0, 0, 0, 0, 0, 0, 0, 0, 0, 0, 0, 0, 0, 0, 0, 0, 0, 0, 0, 0, 0, 0, 0, 0, 0, 0, 0, 0, 0, 1, 0, 0, 0, 0, 0, 0, 0, 0, 0, 0, 0, 0, 0, 0, 0, 0, 0, 0, 0, 0, 0, 0, 0, 0, 0, 0, 0, 0, 0, 0, 0, 0, 0, 0, 0, 0, 0, 0, 0, 0, 0, 0, 0, 0, 0, 0, 0, 0, 0, 0, 0, 0, 0, 0, 0, 0, 0, 0, 0, 0, 0, 0, 0, 0, 0, 0, 0, 0, 0, 0, 0, 0, 0, 0, 0, 0, 0, 0, 0, 0, 0, 0, 0, 0, 0, 0, 0, 0, 0, 0, 0, 0, 0, 0, 0, 0, 0, 0, 0, 0, 0, 0, 0, 0, 0, 0, 0, 0, 0, 0, 0, 0, 0, 0, 0, 0, 0, 0, 0, 0, 0, 0, 0, 0, 0, 0, 0, 0, 0, 0, 0, 0, 0, 0, 0, 0, 0, 0, 0, 0, 0, 0, 0, 0, 0, 0, 0, 0, 0, 0, 0, 0, 0, 0, 0, 0, 0, 0, 0, 0, 0, 0, 0, 0, 0, 0, 0, 0, 0, 0, 0, 0, 0, 0, 0, 0, 0, 0, 0, 0, 0, 0, 0, 0, 0, 0, 0, 0, 0, 0, 0, 0, 0, 0, 0, 0, 0, 0, 0, 0, 0, 0, 0, 0, 0, 0, 0, 0, 0, 0, 0, 0, 0, 0, 0, 0, 0, 0, 0, 0, 0, 0, 0, 0, 0, 0, 0, 0, 0, 0, 0, 0, 0, 0, 0, 0, 0, 0, 0, 0, 0, 0, 0, 0, 0, 0, 0, 0, 0, 0, 0, 0, 0, 0, 0, 0, 0, 0, 0, 0, 0, 0, 0, 0, 0, 0, 0, 0, 0, 0, 0, 0, 0, 0, 0, 0, 0, 0, 0, 0, 0, 0, 0, 0, 0, 0, 0, 0, 0, 0, 0, 0, 0, 0, 0, 0, 0, 0, 0, 0, 0, 0, 0, 0, 0, 0, 0, 0, 0, 0, 0, 0, 0, 0, 0, 0, 0, 0, 0, 0, 0, 0, 0, 0, 0, 0, 0, 0, 0, 0, 0, 0, 0, 0, 0, 0, 0, 0, 0, 0, 0, 0, 0, 0, 0, 0, 0, 0, 0, 0, 0, 0, 0, 0, 0, 0, 0, 0, 0, 0, 0, 0, 0, 0, 0, 0, 0, 0, 0, 0, 0, 0, 0, 0, 0, 0, 0, 0, 0, 0, 0, 0, 0, 0, 0, 0, 0, 0, 0, 0, 0, 0, 0, 0, 0, 0, 0, 0, 0, 0, 0, 0, 0, 0, 0, 0, 0, 0, 0, 0, 0, 0, 0, 0, 0, 0, 0, 0, 0, 0, 0, 0, 0, 0, 0, 0, 0, 0, 0, 0, 0, 0, 0, 0, 0, 0, 0, 0, 0, 0, 0, 0, 0, 0, 0, 0, 0, 0, 0, 0, 0, 0, 0, 0, 0, 0, 0, 0, 0, 0, 0, 0, 0, 2, 0, 1, 0], type: <class 'list'>, valid types: <class 'bytes'>, <class 'bytearray'>, file-like object",
     "output_type": "error",
     "traceback": [
      "\u001b[0;31m---------------------------------------------------------------------------\u001b[0m",
      "\u001b[0;31mParamValidationError\u001b[0m                      Traceback (most recent call last)",
      "\u001b[0;32m<ipython-input-44-c9ab54ae3a48>\u001b[0m in \u001b[0;36m<module>\u001b[0;34m()\u001b[0m\n\u001b[1;32m      1\u001b[0m response = runtime.invoke_endpoint(EndpointName = xgb_predictor.endpoint, # The name of the endpoint we created\n\u001b[1;32m      2\u001b[0m                                        \u001b[0mContentType\u001b[0m \u001b[0;34m=\u001b[0m \u001b[0;34m'text/csv'\u001b[0m\u001b[0;34m,\u001b[0m                     \u001b[0;31m# The data format that is expected\u001b[0m\u001b[0;34m\u001b[0m\u001b[0m\n\u001b[0;32m----> 3\u001b[0;31m                                        Body = test_bow)\n\u001b[0m",
      "\u001b[0;32m~/anaconda3/envs/python3/lib/python3.6/site-packages/botocore/client.py\u001b[0m in \u001b[0;36m_api_call\u001b[0;34m(self, *args, **kwargs)\u001b[0m\n\u001b[1;32m    355\u001b[0m                     \"%s() only accepts keyword arguments.\" % py_operation_name)\n\u001b[1;32m    356\u001b[0m             \u001b[0;31m# The \"self\" in this scope is referring to the BaseClient.\u001b[0m\u001b[0;34m\u001b[0m\u001b[0;34m\u001b[0m\u001b[0m\n\u001b[0;32m--> 357\u001b[0;31m             \u001b[0;32mreturn\u001b[0m \u001b[0mself\u001b[0m\u001b[0;34m.\u001b[0m\u001b[0m_make_api_call\u001b[0m\u001b[0;34m(\u001b[0m\u001b[0moperation_name\u001b[0m\u001b[0;34m,\u001b[0m \u001b[0mkwargs\u001b[0m\u001b[0;34m)\u001b[0m\u001b[0;34m\u001b[0m\u001b[0m\n\u001b[0m\u001b[1;32m    358\u001b[0m \u001b[0;34m\u001b[0m\u001b[0m\n\u001b[1;32m    359\u001b[0m         \u001b[0m_api_call\u001b[0m\u001b[0;34m.\u001b[0m\u001b[0m__name__\u001b[0m \u001b[0;34m=\u001b[0m \u001b[0mstr\u001b[0m\u001b[0;34m(\u001b[0m\u001b[0mpy_operation_name\u001b[0m\u001b[0;34m)\u001b[0m\u001b[0;34m\u001b[0m\u001b[0m\n",
      "\u001b[0;32m~/anaconda3/envs/python3/lib/python3.6/site-packages/botocore/client.py\u001b[0m in \u001b[0;36m_make_api_call\u001b[0;34m(self, operation_name, api_params)\u001b[0m\n\u001b[1;32m    632\u001b[0m         }\n\u001b[1;32m    633\u001b[0m         request_dict = self._convert_to_request_dict(\n\u001b[0;32m--> 634\u001b[0;31m             api_params, operation_model, context=request_context)\n\u001b[0m\u001b[1;32m    635\u001b[0m \u001b[0;34m\u001b[0m\u001b[0m\n\u001b[1;32m    636\u001b[0m         \u001b[0mservice_id\u001b[0m \u001b[0;34m=\u001b[0m \u001b[0mself\u001b[0m\u001b[0;34m.\u001b[0m\u001b[0m_service_model\u001b[0m\u001b[0;34m.\u001b[0m\u001b[0mservice_id\u001b[0m\u001b[0;34m.\u001b[0m\u001b[0mhyphenize\u001b[0m\u001b[0;34m(\u001b[0m\u001b[0;34m)\u001b[0m\u001b[0;34m\u001b[0m\u001b[0m\n",
      "\u001b[0;32m~/anaconda3/envs/python3/lib/python3.6/site-packages/botocore/client.py\u001b[0m in \u001b[0;36m_convert_to_request_dict\u001b[0;34m(self, api_params, operation_model, context)\u001b[0m\n\u001b[1;32m    680\u001b[0m             api_params, operation_model, context)\n\u001b[1;32m    681\u001b[0m         request_dict = self._serializer.serialize_to_request(\n\u001b[0;32m--> 682\u001b[0;31m             api_params, operation_model)\n\u001b[0m\u001b[1;32m    683\u001b[0m         \u001b[0;32mif\u001b[0m \u001b[0;32mnot\u001b[0m \u001b[0mself\u001b[0m\u001b[0;34m.\u001b[0m\u001b[0m_client_config\u001b[0m\u001b[0;34m.\u001b[0m\u001b[0minject_host_prefix\u001b[0m\u001b[0;34m:\u001b[0m\u001b[0;34m\u001b[0m\u001b[0m\n\u001b[1;32m    684\u001b[0m             \u001b[0mrequest_dict\u001b[0m\u001b[0;34m.\u001b[0m\u001b[0mpop\u001b[0m\u001b[0;34m(\u001b[0m\u001b[0;34m'host_prefix'\u001b[0m\u001b[0;34m,\u001b[0m \u001b[0;32mNone\u001b[0m\u001b[0;34m)\u001b[0m\u001b[0;34m\u001b[0m\u001b[0m\n",
      "\u001b[0;32m~/anaconda3/envs/python3/lib/python3.6/site-packages/botocore/validate.py\u001b[0m in \u001b[0;36mserialize_to_request\u001b[0;34m(self, parameters, operation_model)\u001b[0m\n\u001b[1;32m    295\u001b[0m                                                     operation_model.input_shape)\n\u001b[1;32m    296\u001b[0m             \u001b[0;32mif\u001b[0m \u001b[0mreport\u001b[0m\u001b[0;34m.\u001b[0m\u001b[0mhas_errors\u001b[0m\u001b[0;34m(\u001b[0m\u001b[0;34m)\u001b[0m\u001b[0;34m:\u001b[0m\u001b[0;34m\u001b[0m\u001b[0m\n\u001b[0;32m--> 297\u001b[0;31m                 \u001b[0;32mraise\u001b[0m \u001b[0mParamValidationError\u001b[0m\u001b[0;34m(\u001b[0m\u001b[0mreport\u001b[0m\u001b[0;34m=\u001b[0m\u001b[0mreport\u001b[0m\u001b[0;34m.\u001b[0m\u001b[0mgenerate_report\u001b[0m\u001b[0;34m(\u001b[0m\u001b[0;34m)\u001b[0m\u001b[0;34m)\u001b[0m\u001b[0;34m\u001b[0m\u001b[0m\n\u001b[0m\u001b[1;32m    298\u001b[0m         return self._serializer.serialize_to_request(parameters,\n\u001b[1;32m    299\u001b[0m                                                      operation_model)\n",
      "\u001b[0;31mParamValidationError\u001b[0m: Parameter validation failed:\nInvalid type for parameter Body, value: [0, 0, 0, 0, 0, 0, 0, 0, 0, 0, 0, 0, 0, 0, 0, 0, 0, 0, 0, 0, 0, 0, 0, 0, 0, 0, 0, 0, 0, 0, 0, 0, 0, 0, 0, 0, 0, 0, 0, 0, 0, 0, 0, 0, 0, 0, 0, 0, 0, 0, 0, 0, 0, 0, 0, 0, 0, 0, 0, 0, 0, 0, 0, 0, 0, 0, 0, 0, 0, 0, 0, 0, 0, 0, 0, 0, 0, 0, 0, 0, 0, 0, 0, 0, 0, 0, 0, 0, 0, 0, 0, 0, 0, 0, 0, 0, 0, 0, 0, 0, 0, 0, 0, 0, 0, 0, 0, 0, 0, 0, 0, 0, 0, 0, 0, 0, 0, 0, 0, 0, 0, 0, 0, 0, 0, 0, 0, 0, 0, 0, 0, 0, 0, 0, 0, 0, 0, 0, 0, 0, 0, 0, 0, 0, 0, 0, 0, 0, 0, 0, 0, 0, 0, 0, 0, 0, 0, 0, 0, 0, 0, 0, 0, 0, 0, 0, 0, 0, 0, 0, 0, 0, 0, 0, 0, 0, 0, 0, 0, 0, 0, 0, 0, 0, 0, 0, 0, 0, 0, 0, 0, 0, 0, 0, 0, 0, 0, 0, 0, 0, 0, 0, 0, 0, 0, 0, 0, 0, 0, 0, 0, 0, 0, 0, 0, 0, 0, 0, 0, 0, 0, 0, 0, 0, 0, 0, 1, 0, 0, 0, 0, 0, 0, 0, 0, 0, 0, 0, 0, 0, 0, 0, 0, 0, 0, 0, 0, 0, 0, 0, 0, 0, 0, 0, 0, 0, 1, 0, 0, 0, 0, 0, 0, 0, 0, 0, 0, 0, 0, 0, 0, 0, 0, 0, 0, 0, 0, 0, 0, 0, 0, 0, 0, 0, 0, 0, 0, 0, 0, 0, 0, 0, 0, 0, 0, 0, 0, 0, 0, 0, 0, 0, 0, 0, 0, 0, 0, 0, 0, 0, 0, 0, 0, 0, 0, 0, 0, 0, 0, 0, 0, 0, 0, 0, 0, 0, 0, 0, 0, 0, 0, 0, 0, 0, 0, 0, 0, 0, 0, 0, 0, 0, 0, 0, 0, 0, 0, 0, 0, 0, 0, 0, 0, 0, 0, 0, 0, 0, 0, 0, 0, 0, 0, 0, 0, 0, 0, 0, 0, 0, 0, 0, 0, 0, 0, 0, 0, 0, 0, 0, 0, 0, 0, 0, 0, 0, 0, 0, 0, 0, 0, 0, 0, 0, 0, 0, 0, 0, 0, 0, 0, 0, 0, 0, 0, 0, 0, 0, 0, 0, 0, 0, 0, 0, 0, 0, 0, 0, 0, 0, 0, 0, 0, 0, 0, 0, 0, 0, 0, 0, 0, 0, 0, 0, 0, 0, 0, 0, 0, 0, 0, 0, 0, 0, 0, 0, 0, 0, 0, 0, 0, 0, 0, 0, 0, 0, 0, 0, 0, 0, 0, 0, 0, 0, 0, 0, 0, 0, 0, 0, 0, 0, 0, 0, 0, 0, 0, 0, 0, 0, 0, 0, 0, 0, 0, 0, 0, 0, 0, 0, 0, 0, 0, 0, 0, 0, 0, 0, 0, 0, 0, 0, 0, 0, 0, 0, 0, 0, 0, 0, 0, 0, 0, 0, 0, 0, 0, 0, 0, 0, 0, 0, 0, 0, 0, 0, 0, 0, 0, 0, 0, 0, 0, 0, 0, 0, 0, 0, 0, 0, 0, 0, 0, 0, 0, 0, 0, 0, 0, 0, 0, 0, 0, 0, 0, 0, 0, 0, 0, 0, 0, 0, 0, 0, 0, 0, 0, 0, 0, 0, 0, 0, 0, 0, 0, 0, 0, 0, 0, 0, 0, 0, 0, 0, 0, 0, 0, 0, 0, 0, 0, 0, 0, 0, 0, 0, 0, 0, 0, 0, 0, 0, 0, 0, 0, 0, 0, 0, 0, 0, 0, 0, 0, 0, 0, 0, 0, 0, 0, 0, 0, 0, 0, 0, 0, 0, 0, 0, 0, 0, 0, 0, 0, 0, 0, 0, 1, 0, 0, 0, 0, 0, 0, 0, 0, 0, 0, 0, 0, 0, 0, 0, 0, 0, 0, 0, 0, 0, 0, 0, 0, 0, 0, 0, 0, 0, 0, 0, 0, 0, 0, 0, 0, 0, 0, 0, 0, 0, 0, 0, 0, 0, 0, 0, 0, 0, 0, 0, 0, 0, 0, 0, 0, 0, 0, 0, 0, 0, 0, 0, 0, 0, 0, 0, 0, 0, 0, 0, 0, 0, 0, 0, 0, 0, 0, 0, 0, 0, 0, 0, 0, 0, 0, 0, 0, 0, 0, 0, 0, 0, 0, 0, 0, 0, 0, 0, 0, 0, 0, 0, 0, 0, 0, 0, 0, 0, 0, 0, 0, 0, 0, 0, 0, 0, 0, 0, 0, 0, 0, 0, 0, 0, 0, 0, 0, 0, 0, 0, 0, 0, 0, 0, 0, 0, 0, 0, 0, 0, 0, 0, 0, 0, 0, 0, 0, 0, 0, 0, 0, 0, 0, 0, 0, 0, 0, 0, 0, 0, 0, 0, 0, 0, 0, 0, 0, 0, 0, 0, 0, 0, 0, 0, 0, 0, 0, 0, 0, 0, 0, 0, 0, 0, 0, 0, 0, 0, 0, 0, 0, 0, 0, 0, 0, 0, 0, 0, 0, 0, 0, 0, 0, 0, 0, 0, 0, 0, 0, 0, 0, 0, 0, 0, 0, 0, 0, 0, 0, 0, 0, 0, 0, 0, 0, 0, 0, 0, 0, 0, 0, 0, 0, 0, 0, 0, 0, 0, 0, 0, 0, 0, 0, 0, 0, 0, 0, 0, 0, 0, 0, 0, 1, 0, 0, 0, 0, 0, 0, 0, 0, 0, 0, 0, 0, 0, 0, 0, 0, 0, 0, 0, 0, 0, 0, 0, 0, 0, 0, 0, 0, 0, 0, 0, 0, 0, 0, 0, 0, 0, 0, 0, 0, 0, 0, 0, 0, 0, 0, 0, 0, 0, 0, 0, 0, 0, 0, 0, 0, 0, 0, 0, 0, 0, 0, 0, 0, 0, 0, 0, 0, 0, 0, 0, 0, 0, 0, 0, 0, 0, 0, 0, 0, 0, 0, 0, 0, 0, 0, 1, 0, 0, 0, 0, 0, 0, 0, 0, 0, 0, 0, 0, 0, 0, 0, 0, 0, 0, 0, 0, 0, 0, 0, 0, 0, 0, 0, 0, 0, 0, 0, 0, 0, 0, 0, 0, 0, 0, 0, 0, 0, 0, 0, 0, 0, 0, 0, 0, 0, 0, 0, 0, 0, 0, 0, 0, 0, 0, 0, 0, 0, 0, 0, 0, 0, 0, 0, 0, 0, 0, 0, 0, 0, 0, 0, 0, 0, 0, 0, 0, 0, 0, 0, 0, 0, 0, 0, 0, 0, 0, 0, 0, 0, 0, 0, 0, 0, 0, 0, 0, 0, 0, 0, 0, 0, 0, 0, 0, 0, 0, 0, 0, 0, 0, 0, 0, 0, 0, 0, 0, 0, 0, 0, 0, 0, 0, 0, 0, 0, 0, 0, 0, 0, 0, 0, 0, 0, 0, 0, 0, 0, 0, 0, 0, 0, 0, 0, 0, 0, 0, 0, 0, 0, 0, 0, 0, 0, 0, 0, 0, 0, 0, 0, 0, 0, 0, 0, 0, 0, 0, 0, 0, 0, 0, 0, 0, 0, 0, 0, 0, 0, 0, 0, 0, 0, 0, 0, 0, 0, 0, 0, 0, 0, 0, 0, 0, 0, 0, 0, 0, 0, 0, 0, 0, 0, 0, 0, 0, 0, 0, 0, 0, 0, 0, 0, 0, 0, 0, 0, 0, 0, 0, 0, 0, 0, 0, 0, 0, 0, 0, 0, 0, 0, 0, 0, 0, 0, 0, 0, 0, 0, 0, 0, 0, 0, 0, 0, 0, 0, 0, 0, 0, 1, 0, 0, 0, 0, 0, 0, 0, 0, 0, 0, 0, 0, 0, 0, 0, 0, 0, 0, 0, 0, 0, 0, 0, 0, 0, 0, 0, 0, 0, 0, 0, 0, 0, 0, 0, 0, 0, 0, 0, 0, 0, 0, 0, 0, 0, 0, 0, 0, 0, 0, 0, 0, 0, 0, 0, 1, 0, 0, 0, 0, 0, 0, 0, 0, 0, 0, 0, 0, 0, 0, 0, 0, 0, 0, 0, 0, 0, 0, 0, 0, 0, 0, 0, 0, 0, 0, 0, 0, 0, 0, 0, 0, 0, 0, 0, 0, 0, 0, 0, 0, 0, 0, 0, 0, 0, 0, 0, 0, 0, 0, 0, 0, 0, 0, 0, 0, 0, 0, 0, 0, 0, 0, 0, 0, 0, 0, 0, 0, 0, 0, 0, 0, 0, 0, 0, 0, 0, 0, 0, 0, 0, 0, 0, 0, 0, 0, 0, 0, 0, 0, 0, 0, 0, 0, 0, 0, 0, 0, 0, 0, 0, 0, 0, 0, 0, 0, 0, 0, 0, 0, 0, 0, 0, 0, 0, 0, 0, 0, 0, 0, 0, 0, 0, 0, 0, 0, 0, 0, 0, 0, 0, 0, 0, 0, 0, 0, 0, 0, 0, 0, 0, 0, 0, 0, 0, 0, 0, 0, 0, 0, 0, 0, 0, 0, 0, 0, 0, 0, 0, 0, 0, 0, 0, 0, 0, 0, 0, 0, 0, 0, 0, 0, 0, 0, 0, 0, 0, 0, 0, 0, 0, 0, 0, 0, 0, 0, 0, 0, 0, 0, 0, 0, 0, 0, 0, 0, 0, 0, 0, 0, 0, 0, 0, 0, 0, 0, 0, 0, 0, 0, 0, 0, 0, 0, 0, 0, 0, 0, 0, 0, 0, 0, 0, 0, 0, 0, 0, 0, 0, 0, 0, 0, 0, 0, 0, 0, 0, 0, 0, 0, 0, 0, 0, 0, 0, 0, 0, 0, 0, 0, 0, 0, 0, 0, 0, 0, 0, 0, 0, 0, 0, 0, 0, 0, 0, 0, 0, 0, 0, 0, 0, 0, 0, 0, 0, 0, 0, 0, 0, 0, 0, 0, 0, 0, 0, 0, 0, 0, 0, 0, 0, 0, 0, 0, 0, 0, 0, 0, 0, 0, 0, 0, 0, 0, 0, 0, 0, 0, 0, 0, 0, 0, 0, 0, 0, 0, 0, 0, 0, 0, 0, 0, 0, 0, 0, 0, 0, 0, 0, 0, 0, 0, 0, 0, 0, 0, 0, 0, 0, 0, 0, 0, 0, 0, 0, 0, 0, 0, 0, 0, 0, 0, 0, 0, 0, 0, 0, 0, 0, 0, 0, 0, 0, 0, 0, 0, 0, 0, 0, 0, 0, 0, 0, 0, 0, 0, 0, 0, 0, 0, 0, 0, 0, 0, 0, 0, 0, 0, 0, 0, 0, 0, 0, 0, 0, 0, 0, 0, 0, 0, 0, 0, 0, 0, 0, 0, 0, 0, 0, 0, 0, 0, 0, 0, 0, 0, 0, 0, 0, 0, 0, 0, 0, 0, 0, 0, 0, 0, 0, 0, 0, 0, 0, 0, 0, 0, 0, 0, 0, 0, 0, 0, 0, 0, 0, 0, 0, 0, 0, 0, 0, 0, 0, 0, 0, 0, 0, 0, 0, 0, 0, 0, 0, 0, 0, 0, 0, 0, 0, 0, 0, 0, 0, 0, 0, 0, 0, 0, 0, 0, 0, 0, 0, 0, 0, 0, 0, 0, 0, 0, 0, 0, 0, 0, 0, 0, 0, 0, 0, 0, 0, 0, 0, 0, 0, 0, 0, 0, 0, 0, 0, 0, 0, 0, 0, 0, 0, 0, 0, 0, 0, 0, 0, 0, 0, 0, 0, 0, 0, 0, 0, 0, 0, 0, 0, 0, 0, 0, 0, 0, 0, 0, 0, 0, 0, 0, 0, 0, 0, 0, 0, 0, 0, 0, 0, 0, 0, 0, 0, 0, 0, 0, 0, 0, 0, 0, 0, 0, 0, 0, 0, 0, 0, 0, 0, 0, 0, 0, 0, 0, 0, 0, 0, 0, 0, 0, 0, 0, 0, 0, 0, 0, 0, 0, 0, 0, 0, 0, 0, 0, 0, 0, 0, 0, 0, 0, 0, 0, 0, 0, 0, 0, 0, 0, 0, 0, 0, 0, 0, 0, 0, 0, 0, 0, 0, 0, 0, 0, 0, 0, 0, 0, 0, 0, 0, 0, 0, 0, 0, 0, 0, 0, 0, 0, 0, 0, 0, 0, 0, 0, 0, 0, 0, 0, 0, 0, 0, 0, 0, 0, 0, 0, 0, 0, 0, 0, 0, 0, 0, 0, 0, 0, 0, 0, 0, 0, 0, 1, 0, 0, 0, 0, 0, 0, 0, 0, 0, 0, 0, 0, 0, 0, 0, 0, 0, 0, 0, 0, 0, 0, 0, 0, 0, 0, 0, 0, 0, 0, 0, 0, 0, 0, 0, 0, 0, 0, 0, 0, 0, 0, 0, 0, 0, 0, 0, 0, 0, 0, 0, 0, 0, 0, 0, 0, 0, 0, 0, 0, 0, 0, 0, 0, 0, 0, 0, 0, 0, 0, 0, 0, 0, 0, 1, 0, 0, 0, 0, 0, 0, 0, 0, 0, 0, 0, 0, 0, 0, 0, 0, 0, 0, 0, 0, 1, 0, 0, 1, 0, 0, 0, 0, 0, 0, 0, 0, 0, 0, 0, 0, 0, 0, 0, 0, 0, 0, 0, 0, 0, 0, 0, 0, 0, 0, 0, 0, 0, 0, 0, 0, 0, 0, 0, 0, 0, 0, 0, 0, 0, 0, 0, 0, 0, 0, 0, 0, 0, 0, 0, 0, 0, 0, 0, 0, 0, 0, 0, 0, 0, 0, 0, 0, 0, 0, 0, 0, 0, 0, 0, 0, 0, 0, 0, 0, 0, 0, 0, 0, 0, 0, 0, 0, 0, 0, 0, 0, 0, 0, 0, 0, 0, 0, 0, 0, 0, 0, 0, 0, 0, 0, 0, 0, 0, 0, 0, 0, 0, 0, 0, 0, 0, 0, 0, 0, 0, 0, 0, 0, 0, 0, 0, 0, 0, 0, 0, 0, 0, 0, 0, 0, 0, 0, 0, 0, 0, 0, 0, 0, 0, 0, 0, 0, 0, 0, 0, 0, 0, 0, 0, 0, 0, 0, 0, 0, 0, 0, 0, 0, 0, 0, 0, 0, 0, 0, 0, 0, 0, 0, 0, 0, 0, 0, 0, 0, 0, 0, 0, 0, 0, 0, 0, 0, 0, 0, 0, 0, 0, 0, 0, 0, 0, 0, 0, 0, 0, 0, 0, 0, 0, 0, 0, 0, 0, 0, 0, 0, 0, 0, 0, 0, 0, 0, 0, 0, 0, 0, 0, 0, 0, 0, 0, 0, 0, 0, 0, 0, 0, 0, 0, 0, 0, 0, 0, 0, 0, 0, 0, 0, 0, 0, 0, 0, 0, 0, 0, 0, 0, 0, 0, 0, 0, 0, 0, 0, 0, 0, 0, 0, 0, 0, 0, 0, 0, 0, 0, 0, 0, 0, 0, 0, 0, 0, 0, 0, 0, 0, 0, 0, 0, 0, 0, 0, 0, 0, 0, 0, 0, 0, 0, 0, 0, 0, 0, 0, 0, 0, 0, 0, 0, 0, 0, 0, 0, 0, 0, 0, 0, 0, 0, 0, 0, 0, 0, 0, 0, 0, 0, 0, 0, 0, 0, 0, 0, 0, 0, 0, 0, 0, 0, 0, 0, 0, 0, 0, 0, 0, 0, 0, 0, 0, 0, 0, 0, 0, 0, 0, 0, 0, 0, 0, 0, 0, 0, 0, 0, 0, 0, 0, 0, 0, 0, 0, 0, 0, 0, 0, 0, 0, 0, 0, 0, 0, 0, 0, 0, 0, 0, 0, 0, 0, 0, 0, 0, 0, 0, 0, 0, 0, 0, 0, 0, 0, 0, 0, 0, 0, 0, 0, 0, 0, 0, 0, 0, 0, 0, 0, 0, 0, 0, 0, 0, 0, 0, 0, 0, 0, 0, 0, 0, 0, 0, 0, 0, 0, 0, 0, 0, 0, 0, 0, 0, 0, 0, 0, 0, 0, 0, 0, 0, 0, 0, 0, 0, 0, 0, 0, 0, 0, 0, 0, 0, 0, 0, 0, 0, 0, 0, 0, 0, 0, 0, 0, 0, 0, 1, 0, 0, 0, 0, 0, 0, 0, 0, 0, 0, 0, 0, 0, 0, 0, 0, 0, 0, 0, 0, 0, 0, 0, 0, 0, 0, 0, 0, 0, 0, 0, 0, 0, 0, 0, 0, 0, 0, 0, 0, 0, 0, 0, 0, 0, 0, 0, 0, 0, 0, 0, 0, 0, 0, 0, 0, 0, 0, 0, 0, 0, 0, 0, 0, 0, 0, 0, 0, 0, 0, 0, 0, 0, 0, 0, 0, 0, 0, 0, 0, 0, 0, 0, 0, 0, 0, 0, 0, 0, 0, 0, 0, 0, 0, 0, 0, 0, 0, 0, 0, 0, 0, 0, 0, 0, 0, 0, 0, 0, 0, 0, 0, 0, 0, 0, 0, 0, 0, 0, 0, 0, 0, 0, 0, 0, 0, 0, 0, 0, 0, 0, 0, 0, 0, 0, 0, 0, 0, 0, 0, 0, 0, 0, 0, 0, 0, 0, 0, 0, 0, 0, 0, 0, 0, 0, 0, 0, 0, 0, 0, 0, 0, 0, 0, 0, 0, 0, 0, 0, 0, 0, 0, 0, 0, 0, 0, 0, 0, 0, 0, 0, 0, 0, 0, 0, 0, 0, 0, 0, 0, 0, 0, 0, 0, 0, 0, 0, 0, 0, 0, 0, 0, 0, 0, 0, 0, 0, 0, 0, 0, 0, 0, 0, 0, 0, 0, 0, 0, 0, 0, 0, 0, 0, 0, 0, 0, 0, 0, 0, 0, 0, 0, 0, 0, 0, 0, 0, 0, 0, 0, 0, 0, 0, 0, 0, 0, 0, 0, 0, 0, 0, 0, 0, 0, 0, 0, 0, 0, 0, 0, 0, 0, 0, 0, 0, 0, 0, 0, 0, 0, 0, 0, 0, 0, 0, 0, 0, 0, 0, 0, 0, 0, 0, 0, 0, 0, 0, 0, 0, 0, 0, 0, 0, 0, 0, 0, 0, 0, 0, 0, 0, 0, 0, 0, 0, 0, 0, 0, 0, 0, 0, 0, 0, 0, 0, 0, 0, 0, 0, 0, 0, 0, 0, 0, 0, 0, 0, 0, 0, 0, 0, 0, 0, 0, 0, 0, 0, 0, 0, 0, 0, 0, 0, 0, 0, 0, 0, 0, 0, 0, 0, 0, 0, 0, 0, 0, 0, 0, 0, 0, 0, 0, 0, 0, 0, 0, 0, 0, 0, 0, 0, 0, 0, 0, 0, 0, 0, 0, 0, 0, 0, 0, 0, 0, 0, 0, 0, 0, 0, 0, 0, 0, 0, 0, 0, 0, 0, 0, 0, 0, 0, 0, 0, 0, 0, 0, 0, 0, 0, 0, 0, 0, 0, 0, 0, 0, 0, 0, 0, 0, 0, 0, 0, 0, 0, 0, 0, 0, 0, 0, 0, 0, 0, 0, 0, 0, 0, 0, 0, 0, 0, 0, 0, 0, 0, 0, 0, 0, 0, 0, 0, 0, 0, 0, 0, 0, 0, 0, 0, 0, 0, 0, 0, 0, 0, 0, 0, 0, 0, 0, 0, 0, 0, 0, 0, 0, 0, 0, 0, 0, 0, 0, 0, 0, 0, 0, 0, 0, 0, 0, 0, 0, 0, 0, 0, 0, 0, 0, 0, 0, 0, 0, 0, 0, 0, 0, 0, 0, 0, 0, 0, 0, 1, 0, 0, 0, 0, 0, 0, 0, 0, 0, 0, 0, 0, 0, 0, 0, 0, 0, 0, 0, 0, 0, 0, 0, 0, 0, 0, 0, 0, 0, 0, 0, 0, 0, 0, 0, 2, 0, 0, 0, 0, 0, 0, 0, 0, 0, 0, 0, 0, 0, 0, 0, 0, 0, 0, 0, 0, 0, 0, 0, 0, 0, 0, 0, 0, 0, 0, 0, 0, 0, 0, 0, 0, 0, 0, 0, 0, 1, 0, 0, 0, 0, 0, 0, 0, 0, 0, 0, 0, 0, 0, 0, 0, 0, 0, 0, 0, 0, 0, 0, 0, 0, 0, 0, 0, 0, 0, 0, 0, 0, 0, 0, 0, 0, 0, 0, 0, 0, 0, 0, 0, 0, 0, 0, 0, 0, 0, 0, 0, 0, 0, 0, 0, 0, 0, 0, 0, 0, 0, 0, 0, 0, 0, 0, 0, 0, 0, 0, 0, 0, 0, 0, 0, 0, 0, 0, 0, 0, 0, 0, 0, 0, 0, 0, 0, 0, 0, 0, 0, 0, 0, 0, 0, 0, 0, 0, 0, 0, 0, 0, 0, 0, 0, 0, 0, 0, 0, 0, 0, 0, 0, 0, 0, 0, 0, 0, 0, 0, 0, 0, 0, 0, 0, 0, 0, 0, 0, 0, 0, 0, 0, 0, 0, 0, 0, 0, 0, 0, 0, 0, 0, 0, 0, 0, 0, 0, 0, 0, 0, 0, 0, 0, 0, 0, 0, 0, 0, 0, 0, 0, 0, 0, 0, 0, 0, 0, 0, 0, 0, 0, 0, 0, 0, 0, 0, 0, 0, 0, 0, 0, 0, 0, 0, 0, 0, 0, 0, 0, 0, 0, 0, 0, 0, 0, 0, 0, 0, 0, 0, 0, 0, 0, 0, 0, 0, 0, 0, 0, 0, 0, 0, 0, 0, 0, 0, 0, 0, 0, 0, 0, 0, 0, 0, 0, 0, 0, 0, 0, 0, 0, 0, 0, 0, 0, 0, 0, 0, 0, 0, 0, 0, 0, 0, 0, 0, 0, 0, 0, 0, 0, 0, 0, 0, 0, 0, 0, 0, 0, 0, 0, 0, 0, 0, 0, 0, 0, 0, 0, 0, 0, 0, 0, 0, 0, 0, 0, 0, 0, 0, 0, 0, 0, 0, 0, 0, 0, 0, 0, 0, 0, 0, 0, 0, 0, 0, 0, 0, 0, 0, 0, 0, 0, 0, 0, 0, 0, 0, 0, 0, 0, 0, 0, 0, 0, 0, 0, 0, 0, 0, 0, 0, 0, 0, 0, 0, 0, 0, 0, 0, 0, 0, 0, 0, 0, 0, 0, 0, 0, 0, 0, 0, 0, 0, 0, 0, 0, 0, 0, 0, 0, 0, 0, 0, 0, 0, 0, 0, 0, 0, 0, 0, 0, 0, 0, 0, 0, 0, 0, 0, 0, 0, 0, 0, 0, 0, 0, 0, 0, 0, 0, 0, 0, 0, 0, 0, 0, 0, 0, 0, 0, 0, 0, 0, 0, 0, 0, 0, 0, 0, 0, 0, 0, 0, 0, 0, 0, 0, 0, 0, 0, 0, 0, 0, 0, 0, 0, 0, 0, 0, 0, 0, 0, 0, 0, 0, 0, 0, 0, 0, 0, 0, 0, 0, 0, 0, 0, 0, 0, 0, 0, 0, 0, 0, 0, 0, 0, 0, 0, 0, 0, 0, 0, 0, 0, 0, 0, 0, 0, 0, 0, 0, 0, 0, 0, 0, 0, 0, 0, 0, 0, 0, 0, 0, 0, 0, 0, 0, 0, 0, 0, 0, 0, 0, 0, 0, 0, 0, 0, 0, 0, 0, 0, 0, 0, 0, 1, 0, 0, 0, 0, 0, 0, 0, 0, 0, 0, 0, 0, 0, 0, 0, 0, 0, 0, 0, 0, 0, 0, 0, 0, 0, 0, 0, 0, 0, 0, 0, 0, 0, 0, 0, 0, 0, 0, 0, 0, 0, 0, 0, 0, 0, 0, 0, 0, 0, 0, 0, 0, 0, 0, 0, 0, 0, 0, 0, 0, 0, 0, 0, 0, 0, 0, 0, 0, 0, 0, 0, 0, 0, 0, 0, 0, 0, 0, 0, 0, 0, 0, 0, 0, 0, 0, 0, 0, 0, 0, 0, 0, 0, 0, 0, 0, 0, 0, 0, 0, 0, 0, 0, 0, 0, 0, 0, 0, 0, 0, 2, 0, 0, 0, 0, 0, 0, 0, 0, 0, 0, 0, 0, 0, 0, 0, 0, 0, 0, 0, 0, 0, 0, 0, 0, 0, 0, 0, 0, 0, 0, 0, 0, 0, 0, 0, 0, 0, 0, 0, 0, 0, 0, 0, 0, 0, 0, 0, 0, 0, 0, 0, 0, 0, 0, 0, 0, 0, 0, 0, 0, 0, 0, 0, 0, 0, 0, 0, 0, 0, 0, 0, 0, 0, 0, 0, 0, 0, 0, 0, 0, 0, 0, 0, 0, 0, 0, 0, 0, 0, 0, 0, 0, 0, 0, 0, 0, 0, 0, 0, 0, 0, 0, 0, 0, 0, 0, 0, 0, 0, 0, 0, 0, 0, 0, 0, 0, 0, 0, 0, 0, 0, 0, 0, 0, 0, 0, 0, 0, 0, 0, 0, 0, 0, 0, 0, 0, 0, 0, 0, 0, 0, 0, 0, 0, 0, 0, 0, 0, 0, 0, 0, 0, 0, 0, 0, 0, 0, 0, 0, 0, 0, 0, 0, 0, 0, 0, 0, 0, 0, 0, 0, 0, 0, 0, 0, 0, 0, 0, 0, 0, 0, 0, 0, 0, 0, 0, 0, 0, 0, 0, 0, 0, 0, 0, 0, 0, 0, 0, 0, 0, 0, 0, 0, 0, 0, 0, 0, 0, 0, 0, 0, 0, 0, 0, 0, 0, 0, 0, 0, 0, 0, 0, 0, 0, 0, 0, 0, 0, 0, 0, 0, 0, 0, 0, 0, 0, 0, 0, 0, 0, 0, 0, 0, 0, 0, 0, 0, 0, 0, 0, 0, 0, 0, 0, 0, 0, 0, 0, 0, 0, 0, 0, 0, 0, 0, 0, 0, 0, 0, 0, 0, 0, 0, 0, 0, 0, 0, 0, 0, 0, 0, 0, 0, 0, 0, 0, 0, 0, 0, 0, 0, 0, 0, 0, 0, 0, 0, 0, 0, 0, 0, 0, 0, 0, 0, 0, 0, 0, 0, 0, 0, 0, 0, 0, 0, 0, 0, 0, 0, 0, 0, 0, 0, 0, 0, 0, 0, 0, 0, 0, 0, 0, 0, 0, 0, 0, 0, 0, 0, 0, 0, 0, 0, 0, 0, 0, 0, 0, 0, 0, 0, 0, 0, 0, 0, 0, 0, 0, 0, 0, 0, 0, 0, 0, 0, 0, 0, 0, 0, 0, 0, 0, 0, 0, 0, 0, 0, 0, 0, 0, 0, 0, 0, 0, 0, 0, 0, 0, 0, 0, 0, 0, 0, 0, 0, 0, 0, 0, 0, 0, 0, 0, 0, 0, 0, 0, 0, 0, 0, 0, 0, 0, 0, 0, 0, 0, 0, 0, 0, 0, 0, 0, 0, 0, 0, 0, 0, 0, 0, 0, 0, 0, 0, 0, 0, 0, 0, 0, 0, 0, 0, 0, 0, 0, 0, 0, 0, 0, 0, 0, 0, 0, 0, 0, 0, 0, 0, 0, 0, 0, 0, 0, 0, 0, 0, 0, 0, 0, 0, 0, 0, 0, 0, 0, 0, 0, 0, 0, 0, 0, 0, 0, 0, 0, 0, 0, 0, 0, 0, 0, 0, 0, 0, 0, 0, 0, 0, 0, 0, 0, 0, 0, 0, 0, 0, 0, 0, 0, 0, 0, 0, 0, 0, 0, 0, 0, 0, 0, 0, 0, 0, 0, 0, 0, 0, 0, 0, 0, 0, 0, 0, 0, 0, 0, 0, 0, 0, 0, 0, 0, 0, 0, 0, 0, 0, 0, 0, 0, 0, 0, 0, 0, 0, 0, 0, 0, 0, 0, 0, 0, 0, 0, 0, 0, 0, 0, 0, 0, 0, 0, 0, 0, 0, 0, 0, 0, 0, 0, 0, 0, 0, 0, 0, 0, 0, 0, 0, 0, 0, 0, 0, 0, 0, 0, 0, 0, 0, 0, 0, 0, 0, 0, 0, 0, 0, 0, 0, 0, 0, 0, 0, 0, 0, 0, 0, 0, 0, 0, 0, 0, 0, 0, 0, 0, 0, 0, 0, 0, 0, 0, 0, 0, 0, 0, 0, 0, 0, 0, 0, 0, 0, 0, 0, 0, 0, 0, 0, 0, 0, 0, 0, 0, 0, 0, 0, 0, 0, 0, 0, 0, 0, 0, 0, 0, 0, 0, 0, 0, 0, 0, 0, 0, 0, 0, 0, 0, 0, 0, 0, 0, 0, 0, 0, 0, 0, 0, 0, 0, 0, 0, 1, 0, 0, 0, 0, 0, 0, 0, 0, 0, 0, 0, 0, 0, 0, 0, 0, 0, 0, 0, 0, 0, 0, 0, 0, 0, 0, 0, 0, 0, 0, 0, 0, 0, 0, 0, 0, 0, 0, 0, 0, 0, 0, 0, 0, 0, 0, 0, 0, 0, 0, 0, 0, 0, 0, 0, 0, 0, 0, 0, 0, 0, 0, 0, 0, 0, 0, 0, 0, 0, 0, 0, 0, 0, 0, 0, 0, 0, 0, 0, 0, 0, 0, 0, 0, 0, 0, 0, 0, 0, 0, 0, 0, 0, 0, 0, 0, 0, 0, 0, 0, 0, 0, 0, 0, 0, 0, 0, 1, 0, 0, 0, 0, 0, 0, 0, 0, 0, 0, 0, 0, 0, 0, 0, 0, 0, 0, 0, 0, 0, 0, 0, 0, 0, 0, 0, 0, 0, 0, 0, 0, 0, 0, 0, 0, 0, 0, 0, 0, 0, 0, 0, 0, 0, 0, 0, 0, 0, 0, 0, 0, 0, 0, 0, 0, 0, 0, 0, 0, 0, 0, 0, 0, 0, 0, 0, 0, 0, 0, 0, 0, 0, 0, 0, 0, 0, 0, 0, 0, 0, 0, 0, 0, 0, 0, 0, 0, 0, 0, 0, 0, 0, 0, 0, 0, 0, 0, 0, 0, 0, 0, 0, 0, 0, 0, 0, 0, 0, 0, 0, 0, 0, 0, 0, 0, 0, 0, 0, 0, 0, 0, 0, 0, 0, 0, 0, 0, 0, 0, 0, 0, 0, 0, 0, 0, 0, 0, 0, 0, 0, 0, 0, 0, 0, 0, 0, 0, 0, 0, 0, 0, 0, 0, 0, 0, 0, 0, 0, 0, 0, 0, 0, 0, 0, 0, 0, 0, 0, 0, 0, 0, 0, 0, 0, 0, 0, 0, 0, 0, 0, 0, 0, 0, 0, 0, 0, 0, 0, 0, 0, 0, 0, 0, 0, 0, 0, 0, 0, 0, 0, 0, 0, 0, 0, 0, 0, 0, 0, 0, 0, 0, 0, 0, 0, 0, 0, 0, 0, 0, 0, 0, 0, 0, 0, 0, 0, 0, 0, 0, 0, 0, 0, 0, 0, 0, 0, 0, 0, 0, 0, 0, 0, 0, 0, 0, 0, 0, 0, 0, 0, 0, 0, 0, 0, 0, 0, 0, 0, 0, 0, 0, 0, 0, 0, 0, 0, 0, 0, 0, 0, 0, 0, 0, 0, 0, 0, 0, 0, 0, 0, 0, 0, 0, 0, 0, 0, 0, 0, 0, 0, 0, 0, 0, 0, 0, 0, 0, 0, 0, 0, 0, 0, 0, 0, 0, 0, 0, 0, 0, 0, 0, 0, 0, 0, 0, 0, 0, 0, 0, 0, 0, 0, 0, 0, 0, 0, 0, 0, 0, 0, 0, 0, 0, 0, 0, 0, 0, 0, 0, 0, 0, 0, 0, 0, 0, 0, 0, 0, 0, 0, 0, 0, 0, 0, 0, 0, 0, 0, 0, 0, 0, 0, 0, 0, 0, 0, 0, 0, 0, 0, 0, 0, 0, 0, 0, 0, 0, 0, 0, 0, 0, 0, 0, 0, 0, 0, 0, 0, 0, 0, 0, 0, 0, 0, 0, 0, 0, 0, 0, 0, 0, 0, 0, 0, 0, 0, 0, 0, 0, 0, 0, 0, 0, 0, 0, 0, 0, 0, 0, 0, 0, 0, 0, 0, 0, 0, 0, 0, 0, 0, 0, 0, 0, 0, 0, 0, 0, 0, 0, 0, 0, 0, 0, 0, 0, 0, 0, 0, 0, 0, 0, 0, 0, 0, 0, 0, 0, 0, 0, 0, 0, 0, 2, 0, 1, 0], type: <class 'list'>, valid types: <class 'bytes'>, <class 'bytearray'>, file-like object"
     ]
    }
   ],
   "source": [
    "response = runtime.invoke_endpoint(EndpointName = xgb_predictor.endpoint, # The name of the endpoint we created\n",
    "                                       ContentType = 'text/csv',                     # The data format that is expected\n",
    "                                       Body = test_bow)"
   ]
  },
  {
   "cell_type": "markdown",
   "metadata": {},
   "source": [
    "So why did we get an error?\n",
    "\n",
    "Because we tried to send the endpoint a list of integers but it expected us to send data of type `text/csv`. So, we need to convert it."
   ]
  },
  {
   "cell_type": "code",
   "execution_count": 45,
   "metadata": {},
   "outputs": [],
   "source": [
    "response = runtime.invoke_endpoint(EndpointName = xgb_predictor.endpoint, # The name of the endpoint we created\n",
    "                                       ContentType = 'text/csv',                     # The data format that is expected\n",
    "                                       Body = ','.join([str(val) for val in test_bow]).encode('utf-8'))"
   ]
  },
  {
   "cell_type": "code",
   "execution_count": 46,
   "metadata": {},
   "outputs": [
    {
     "name": "stdout",
     "output_type": "stream",
     "text": [
      "{'ResponseMetadata': {'RequestId': 'c129b600-ce55-427d-a57e-5fe51fb9df67', 'HTTPStatusCode': 200, 'HTTPHeaders': {'x-amzn-requestid': 'c129b600-ce55-427d-a57e-5fe51fb9df67', 'x-amzn-invoked-production-variant': 'AllTraffic', 'date': 'Sat, 21 Dec 2019 22:56:28 GMT', 'content-type': 'text/csv; charset=utf-8', 'content-length': '13'}, 'RetryAttempts': 0}, 'ContentType': 'text/csv; charset=utf-8', 'InvokedProductionVariant': 'AllTraffic', 'Body': <botocore.response.StreamingBody object at 0x7fbf1c025550>}\n"
     ]
    }
   ],
   "source": [
    "print(response)"
   ]
  },
  {
   "cell_type": "markdown",
   "metadata": {},
   "source": [
    "As we can see, the response from our model is a somewhat complicated looking dict that contains a bunch of information. The bit that we are most interested in is `'Body'` object which is a streaming object that we need to `read` in order to make use of."
   ]
  },
  {
   "cell_type": "code",
   "execution_count": 47,
   "metadata": {},
   "outputs": [
    {
     "name": "stdout",
     "output_type": "stream",
     "text": [
      "0.46980547905\n"
     ]
    }
   ],
   "source": [
    "response = response['Body'].read().decode('utf-8')\n",
    "print(response)"
   ]
  },
  {
   "cell_type": "markdown",
   "metadata": {},
   "source": [
    "Now that we know how to process the incoming user data we can start setting up the infrastructure to make our simple web app work. To do this we will make use of two different services. Amazon's Lambda and API Gateway services.\n",
    "\n",
    "Lambda is a service which allows someone to write some relatively simple code and have it executed whenever a chosen trigger occurs. For example, you may want to update a database whenever new data is uploaded to a folder stored on S3.\n",
    "\n",
    "API Gateway is a service that allows you to create HTTP endpoints (url addresses) which are connected to other AWS services. One of the benefits to this is that you get to decide what credentials, if any, are required to access these endpoints.\n",
    "\n",
    "In our case we are going to set up an HTTP endpoint through API Gateway which is open to the public. Then, whenever anyone sends data to our public endpoint we will trigger a Lambda function which will send the input (in our case a review) to our model's endpoint and then return the result."
   ]
  },
  {
   "cell_type": "markdown",
   "metadata": {},
   "source": [
    "### Setting up a Lambda function\n",
    "\n",
    "The first thing we are going to do is set up a Lambda function. This Lambda function will be executed whenever our public API has data sent to it. When it is executed it will receive the data, perform any sort of processing that is required, send the data (the review) to the SageMaker endpoint we've created and then return the result.\n",
    "\n",
    "#### Part A: Create an IAM Role for the Lambda function\n",
    "\n",
    "Since we want the Lambda function to call a SageMaker endpoint, we need to make sure that it has permission to do so. To do this, we will construct a role that we can later give the Lambda function.\n",
    "\n",
    "Using the AWS Console, navigate to the **IAM** page and click on **Roles**. Then, click on **Create role**. Make sure that the **AWS service** is the type of trusted entity selected and choose **Lambda** as the service that will use this role, then click **Next: Permissions**.\n",
    "\n",
    "In the search box type `sagemaker` and select the check box next to the **AmazonSageMakerFullAccess** policy. Then, click on **Next: Review**.\n",
    "\n",
    "Lastly, give this role a name. Make sure you use a name that you will remember later on, for example `LambdaSageMakerRole`. Then, click on **Create role**."
   ]
  },
  {
   "cell_type": "markdown",
   "metadata": {},
   "source": [
    "#### Part B: Create a Lambda function\n",
    "\n",
    "Now it is time to actually create the Lambda function. Remember from earlier that in order to process the user provided input and send it to our endpoint we need to gather two pieces of information:\n",
    "\n",
    " - The name of the endpoint, and\n",
    " - the vocabulary object.\n",
    "\n",
    "We will copy these pieces of information to our Lambda function after we create it.\n",
    "\n",
    "To start, using the AWS Console, navigate to the AWS Lambda page and click on **Create a function**. When you get to the next page, make sure that **Author from scratch** is selected. Now, name your Lambda function, using a name that you will remember later on, for example `sentiment_analysis_xgboost_func`. Make sure that the **Python 3.6** runtime is selected and then choose the role that you created in the previous part. Then, click on **Create Function**.\n",
    "\n",
    "On the next page you will see some information about the Lambda function you've just created. If you scroll down you should see an editor in which you can write the code that will be executed when your Lambda function is triggered. Collecting the code we wrote above to process a single review and adding it to the provided example `lambda_handler` we arrive at the following.\n",
    "\n",
    "```python\n",
    "# We need to use the low-level library to interact with SageMaker since the SageMaker API\n",
    "# is not available natively through Lambda.\n",
    "import boto3\n",
    "\n",
    "# And we need the regular expression library to do some of the data processing\n",
    "import re\n",
    "\n",
    "REPLACE_NO_SPACE = re.compile(\"(\\.)|(\\;)|(\\:)|(\\!)|(\\')|(\\?)|(\\,)|(\\\")|(\\()|(\\))|(\\[)|(\\])\")\n",
    "REPLACE_WITH_SPACE = re.compile(\"(<br\\s*/><br\\s*/>)|(\\-)|(\\/)\")\n",
    "\n",
    "def review_to_words(review):\n",
    "    words = REPLACE_NO_SPACE.sub(\"\", review.lower())\n",
    "    words = REPLACE_WITH_SPACE.sub(\" \", words)\n",
    "    return words\n",
    "    \n",
    "def bow_encoding(words, vocabulary):\n",
    "    bow = [0] * len(vocabulary) # Start by setting the count for each word in the vocabulary to zero.\n",
    "    for word in words.split():  # For each word in the string\n",
    "        if word in vocabulary:  # If the word is one that occurs in the vocabulary, increase its count.\n",
    "            bow[vocabulary[word]] += 1\n",
    "    return bow\n",
    "\n",
    "\n",
    "def lambda_handler(event, context):\n",
    "    \n",
    "    vocab = \"*** ACTUAL VOCABULARY GOES HERE ***\"\n",
    "    \n",
    "    words = review_to_words(event['body'])\n",
    "    bow = bow_encoding(words, vocab)\n",
    "\n",
    "    # The SageMaker runtime is what allows us to invoke the endpoint that we've created.\n",
    "    runtime = boto3.Session().client('sagemaker-runtime')\n",
    "\n",
    "    # Now we use the SageMaker runtime to invoke our endpoint, sending the review we were given\n",
    "    response = runtime.invoke_endpoint(EndpointName = '***ENDPOINT NAME HERE***',# The name of the endpoint we created\n",
    "                                       ContentType = 'text/csv',                 # The data format that is expected\n",
    "                                       Body = ','.join([str(val) for val in bow]).encode('utf-8')) # The actual review\n",
    "\n",
    "    # The response is an HTTP response whose body contains the result of our inference\n",
    "    result = response['Body'].read().decode('utf-8')\n",
    "    \n",
    "    # Round the result so that our web app only gets '1' or '0' as a response.\n",
    "    result = round(float(result))\n",
    "\n",
    "    return {\n",
    "        'statusCode' : 200,\n",
    "        'headers' : { 'Content-Type' : 'text/plain', 'Access-Control-Allow-Origin' : '*' },\n",
    "        'body' : str(result)\n",
    "    }\n",
    "```"
   ]
  },
  {
   "cell_type": "markdown",
   "metadata": {},
   "source": [
    "Once you have copy and pasted the code above into the Lambda code editor, replace the `**ENDPOINT NAME HERE**` portion with the name of the endpoint that we deployed earlier. You can determine the name of the endpoint using the code cell below."
   ]
  },
  {
   "cell_type": "code",
   "execution_count": 48,
   "metadata": {},
   "outputs": [
    {
     "data": {
      "text/plain": [
       "'xgboost-2019-12-21-21-24-36-639'"
      ]
     },
     "execution_count": 48,
     "metadata": {},
     "output_type": "execute_result"
    }
   ],
   "source": [
    "xgb_predictor.endpoint"
   ]
  },
  {
   "cell_type": "markdown",
   "metadata": {},
   "source": [
    "In addition, you will need to copy the vocabulary dict to the appropriate place in the code at the beginning of the `lambda_handler` method. The cell below prints out the vocabulary dict in a way that is easy to copy and paste."
   ]
  },
  {
   "cell_type": "code",
   "execution_count": 49,
   "metadata": {},
   "outputs": [
    {
     "name": "stdout",
     "output_type": "stream",
     "text": [
      "{'this': 4457, 'film': 1716, 'was': 4805, 'shot': 3949, 'on': 3105, 'location': 2635, 'in': 2257, 'gerard': 1895, 'and': 226, 'the': 4426, 'answer': 251, 'to': 4507, 'films': 1721, 'such': 4268, 'as': 311, 'jungle': 2434, 'stands': 4147, 'test': 4416, 'of': 3083, 'time': 4495, 'quite': 3495, 'well': 4843, 'with': 4911, 'all': 187, 'moral': 2902, 'stories': 4205, 'still': 4188, 'or': 3124, 'even': 1533, 'more': 2904, 'relevant': 3604, 'today': 4508, 'feature': 1678, 'some': 4061, 'fine': 1729, 'performance': 3228, 'from': 1840, 'notable': 3041, 'british': 589, 'actors': 104, 'david': 1124, 'stanley': 4148, 'baker': 385, 'peter': 3247, 'anne': 246, 'plays': 3301, 'cop': 991, 'assigned': 325, 'juvenile': 2441, 'premise': 3370, 'that': 4424, 'if': 2222, 'you': 4986, 'catch': 714, 'kids': 2467, 'at': 331, 'an': 223, 'early': 1400, 'age': 148, 'they': 4442, 'will': 4886, 'end': 1468, 'up': 4683, 'being': 448, 'responsible': 3656, 'adults': 126, 'cameos': 658, 'include': 2261, 'fred': 1825, 'michael': 2829, 'play': 3296, 'brother': 598, 'sister': 4001, 'are': 285, 'real': 3547, 'life': 2592, 'who': 4871, 'caught': 722, 'web': 4833, 'is': 2360, 'acting': 99, 'can': 665, 'be': 418, 'seen': 3865, 'latest': 2526, 'violent': 4748, 'features': 1680, 'gun': 1996, 'school': 3813, 'so': 4046, 'unlikely': 4671, 'shown': 3959, 'tv': 4610, 'following': 1774, 'similar': 3978, 'events': 1536, 'lived': 2626, 'where': 4864, 'though': 4461, 'not': 3040, 'born': 544, 'have': 2052, 'fond': 1776, 'memories': 2803, 'area': 286, 'recently': 3567, 'documentary': 1307, 'which': 4867, 'includes': 2263, 'small': 4033, 'uk': 4626, 'stars': 4155, 'henry': 2084, 'were': 4848, 'go': 1924, 'way': 4820, 'keeping': 2450, 'memory': 2804, 'alive': 186, 'there': 4438, 'when': 4862, 'released': 3603, 'portrayed': 3342, 'bad': 382, 'light': 2595, 'has': 2043, 'helped': 2080, 'those': 4460, 'little': 2624, 'gem': 1877, 'would': 4957, 'recommend': 3571, 'seek': 3858, 'out': 3141, 'movie': 2926, 'many': 2732, 'problem': 3408, 'associated': 327, 'it': 2366, 'makes': 2716, 'come': 886, 'off': 3084, 'like': 2599, 'low': 2676, 'budget': 610, 'class': 833, 'project': 3427, 'someone': 4064, 'give': 1912, 'credit': 1049, 'its': 2370, 'times': 4497, 'throughout': 4478, 'found': 1811, 'myself': 2953, 'laughing': 2533, 'comical': 894, 'made': 2697, 'fun': 1848, 'watch': 4811, 'youre': 4992, 'looking': 2648, 'for': 1784, 'grade': 1951, 'slasher': 4020, 'twist': 4617, 'psychological': 3458, 'horror': 2168, 'campy': 664, 'then': 4436, 'pop': 3330, 'popcorn': 3331, 'friends': 1837, 'over': 3148, 'agree': 155, 'other': 3135, 'comments': 901, 'sound': 4081, 'very': 4723, 'dialog': 1232, 'next': 3007, 'impossible': 2249, 'follow': 1772, 'much': 2934, 'soundtrack': 4085, 'kind': 2476, 'just': 2437, 'giallo': 1904, 'fans': 1650, 'rare': 3523, 'written': 4972, 'full': 1846, 'sorts': 4078, 'usual': 4699, 'these': 4441, 'dont': 1324, 'want': 4788, 'anything': 260, 'away': 369, 'wont': 4932, 'say': 3799, 'about': 67, 'plot': 3309, 'whole': 4873, 'creates': 1038, 'bizarre': 492, 'atmosphere': 333, 'know': 2489, 'what': 4858, 'expect': 1575, 'suspect': 4327, 'recommended': 3572, 'only': 3110, 'place': 3282, 'ive': 2372, 'get': 1899, 'english': 1483, 'european': 1530, 'trash': 4565, 'cinema': 816, '15': 7, 'steve': 4181, 'martin': 2748, 'dan': 1102, 'couldnt': 1008, 'save': 3794, 'based': 404, 'classic': 835, 'series': 3890, 'because': 432, '1990s': 25, 'simple': 3983, 'turned': 4606, 'into': 2332, 'confusing': 942, 'silly': 3976, 'screenplay': 3831, 'original': 3129, 'used': 4693, 'cast': 710, 'talented': 4355, 'portray': 3340, 'lovable': 2668, 'characters': 760, 'yet': 4984, 'hilarious': 2106, 'asking': 318, 'trouble': 4592, 'shows': 3960, 'no': 3020, 'one': 3107, 'could': 1007, 'pay': 3216, 'me': 2778, 'enough': 1491, 'sit': 4003, 'through': 4477, 'stinker': 4191, 'second': 3846, 'hard': 2033, 'believe': 454, 'perhaps': 3235, 'but': 636, 'than': 4420, 'any': 256, 'produced': 3414, 'prior': 3400, 'code': 869, 'yes': 4982, 'indeed': 2271, 'actually': 109, 'told': 4513, 'their': 4431, 'anyone': 259, 'went': 4847, 'see': 3855, 'sin': 3988, 'im': 2232, 'making': 2718, 'had': 2003, 'several': 3905, 'reasons': 3560, 'follows': 1775, 'jane': 2380, 'likes': 2602, 'sex': 3907, 'she': 3923, 'tarzan': 4367, 'morning': 2906, 'look': 2646, 'says': 3801, 'youve': 4995, 'been': 438, 'boy': 557, 'theyve': 4446, 'having': 2054, 'few': 1700, 'years': 4979, 'later': 2525, 'under': 4639, 'people': 3221, 'especially': 1520, 'women': 4923, 'werent': 4849, 'supposed': 4306, 'depicted': 1183, 'enjoying': 1487, 'wise': 4903, 'savage': 3793, 'nine': 3017, 'five': 1743, 'man': 2721, 'first': 1736, 'her': 2085, 'pretty': 3384, 'dress': 1357, 'london': 2641, 'bit': 488, 'tries': 4585, 'kill': 2468, 'both': 547, 'hes': 2093, 'dead': 1132, 'lot': 2661, 'realizes': 3554, 'civilization': 827, 'why': 4878, 'relationship': 3597, 'he': 2056, 'lacks': 2505, 'him': 2110, 'himself': 2111, 'head': 2057, 'his': 2118, 'wife': 4884, 'boot': 538, 'example': 1553, 'buddy': 609, 'arrive': 300, 'them': 4432, 'knowing': 2490, 'perfectly': 3226, 'old': 3100, 'gets': 1900, 'slow': 4031, 'dancing': 1107, 'drops': 1372, 'tree': 4576, 'draws': 1352, 'knife': 2487, 'jealous': 2388, 'merely': 2815, 'toward': 4539, 'weird': 4841, 'music': 2946, 'machine': 2693, 'since': 3990, 'never': 3001, 'before': 440, 'once': 3106, 'explained': 1587, 'cool': 989, 'dirty': 1268, 'minded': 2850, 'sexy': 3911, 'watching': 4815, 'changes': 751, 'fancy': 1649, 'by': 642, 'contrast': 975, 'after': 143, 'pulls': 3464, 'kicks': 2463, 'swimming': 4338, 'hole': 2132, 'most': 2909, 'erotic': 1515, 'nude': 3058, 'scene': 3809, 'pair': 3176, 'spends': 4107, 'minutes': 2859, 'lovely': 2671, 'water': 4816, 'filmed': 1717, 'three': 4469, 'versions': 4721, 'topless': 4527, 'cut': 1089, 'release': 3602, 'version': 4720, 'restored': 3659, 'video': 4733, 'now': 3054, 'available': 361, 'steals': 4172, 'clear': 839, 'men': 2805, 'universal': 4665, 'dear': 1140, 'hearts': 2066, 'nowhere': 3056, 'thats': 4425, 'another': 250, 'reason': 3557, 'hung': 2197, 'notion': 3050, 'creation': 1040, 'animals': 240, 'here': 2086, 'mans': 2730, 'use': 4692, 'takes': 4351, 'severe': 3906, 'beating': 425, 'elephant': 1444, 'take': 4349, 'home': 2142, 'guide': 1993, 'said': 3774, 'thinking': 4453, 'fat': 1663, 'chance': 747, 'right': 3696, 'shocked': 3939, 'sleep': 4024, 'explains': 1589, 'everything': 1544, 'feelings': 1686, 'two': 4620, 'find': 1726, 'ridiculous': 3693, 'ex': 1549, 'woman': 4921, 'far': 1653, 'blow': 514, 'themselves': 4435, 'wild': 4885, 'while': 4868, 'boys': 559, 'panic': 3181, 'charge': 761, 'orders': 3127, 'passes': 3203, 'costume': 1005, 'sort': 4077, 'nothing': 3047, 'idea': 2213, 'case': 707, 'brief': 579, 'called': 652, 'mate': 2765, 'rather': 3528, 'comment': 898, 'course': 1019, 'back': 378, 'health': 2060, 'ape': 266, 'comes': 891, 'rescue': 3643, 'white': 4870, 'hunters': 2200, 'pack': 3165, 'african': 142, 'return': 3665, 'stole': 4194, 'came': 656, 'utterly': 4702, 'complex': 923, 'interesting': 2325, 'eg': 1434, 'possessed': 3347, 'raymond': 3534, 'genre': 1888, '30s': 44, 'brought': 600, 'de': 1131, 'best': 469, 'expressed': 1601, 'famous': 1647, 'nice': 3008, 'touch': 4533, 'unfortunately': 4654, 'abandoned': 62, 'future': 1856, 'productions': 3420, 'lets': 2580, 'hear': 2061, 'artistic': 308, 'freedom': 1828, 'feminist': 1695, 'ok': 3098, 'forget': 1793, 'technical': 4381, 'physical': 3262, 'space': 4090, 'accidentally': 85, 'quirky': 3493, 'robot': 3717, 'heart': 2064, 'gold': 1932, 'hideous': 2098, 'special': 4097, 'effects': 1431, 'poorly': 3329, 'constructed': 959, 'dimensional': 1253, 'story': 4207, 'exist': 1569, 'how': 2181, 'badly': 383, 'together': 4511, 'year': 4978, 'insult': 2309, 'intelligence': 2313, 'laugh': 2529, 'horrible': 2163, 'message': 2819, 'trying': 4601, 'show': 3953, 'incomprehensible': 2267, 'whats': 4860, 'worse': 4951, 'cable': 644, 'channels': 754, 'keep': 2449, 'showing': 3958, 'twice': 4613, 'day': 1129, 'every': 1539, 'days': 1130, 'does': 1308, 'mind': 2849, 'think': 4452, 'painful': 3171, 'piece': 3272, 'celluloid': 731, 'multiple': 2936, 'less': 2575, 'my': 2951, 'bother': 548, 'spending': 4106, 'energy': 1478, 'thing': 4450, 'worth': 4953, 'star': 4150, 'wars': 4804, 'wizard': 4919, 'oz': 3160, 'remains': 3611, 'greatest': 1966, 'fantasy': 1652, 'ever': 1538, 'true': 4596, 'shame': 3918, 'known': 2492, 'former': 1800, 'maybe': 2776, 'sticks': 4186, 'contemporary': 965, 'sci': 3815, 'fi': 1701, 'settings': 3901, 'meaning': 2780, 'smaller': 4034, 'market': 2740, 'wonderful': 4928, 'deserved': 1200, 'reputation': 3640, 'great': 1964, 'family': 1645, 'child': 789, 'adult': 125, 'teenager': 4390, 'enjoy': 1484, 'currently': 1085, '18': 10, 'must': 2950, 'appreciate': 279, 'absolutely': 72, 'extraordinary': 1607, 'score': 3822, 'favorite': 1671, 'john': 2409, 'williams': 4888, 'fast': 1661, 'pace': 3161, 'beautiful': 428, 'sets': 3899, 'color': 877, 'cinematography': 820, 'won': 4925, 'oscars': 3134, 'state': 4160, 'art': 304, 'oscar': 3133, 'winning': 4898, 'stunning': 4244, 'june': 2433, 'looks': 2649, 'princess': 3397, 'catherine': 719, 'jones': 2418, 'conclusion': 936, 'adventures': 131, 'robin': 3715, 'hood': 2151, 'truly': 4597, 'deserves': 1201, 'attention': 345, 'adventure': 130, 'along': 195, 'desert': 1198, 'island': 2361, 'again': 146, 'without': 4913, 'getting': 1901, 'annoyed': 248, 'excellent': 1555, 'odds': 3082, 'exact': 1550, 'moment': 2886, 'amateur': 206, 'scientists': 3819, 'discover': 1279, 'cave': 727, 'type': 4621, 'dinosaur': 1255, 'monster': 2892, 'might': 2835, 'thousands': 4466, 'ago': 154, 'burning': 627, 'lake': 2509, 'monsters': 2893, 'lying': 2690, 'thousand': 4465, 'suppose': 4305, 'literally': 2622, 'believed': 455, 'better': 472, 'do': 1302, 'company': 910, 'pile': 3275, 'order': 3126, 'make': 2713, 'easier': 1405, 'terrible': 4407, 'numerous': 3062, 'irrelevant': 2358, 'downright': 1337, 'embarrassing': 1454, 'also': 199, 'charming': 768, 'put': 3480, 'simply': 3986, 'half': 2007, 'least': 2554, 'revolves': 3682, 'wacky': 4769, 'local': 2634, 'own': 3158, 'run': 3755, 'boat': 523, 'renting': 3629, 'shop': 3945, 'near': 2979, 'spend': 4105, 'picking': 3267, 'fascinating': 1658, 'stuff': 4243, 'spell': 4104, 'word': 4937, 'mostly': 2910, 'during': 1387, 'laurel': 2537, 'hardy': 2037, 'situations': 4009, 'new': 3003, 'blood': 512, 'heads': 2059, 'discovered': 1280, 'heroic': 2090, 'exactly': 1551, 'sharp': 3922, 'sheriff': 3929, 'too': 4522, 'busy': 635, 'chasing': 772, 'big': 478, 'city': 825, 'thugs': 4484, 'traveling': 4568, 'halfway': 2008, 'suddenly': 4273, 'store': 4204, 'killing': 2472, 'process': 3412, 'appears': 278, 'complete': 921, 'side': 3965, 'country': 1014, 'york': 4985, 'something': 4066, 'going': 1931, 'twenty': 4612, 'pops': 3332, 'theres': 4440, 'chase': 769, 'woods': 4935, 'ending': 1471, 'absurd': 73, 'details': 1219, 'mention': 2810, 'probably': 3407, 'creature': 1045, 'players': 3299, 'already': 197, 'actual': 108, 'continuity': 972, 'should': 3951, 'legendary': 2565, 'concerned': 932, 'everybody': 1540, 'forgot': 1796, 'night': 3013, 'turns': 4609, 'twilight': 4614, 'same': 3778, 'aspect': 321, 'accomplished': 87, 'good': 1937, 'fashioned': 1660, 'adorable': 124, 'stop': 4201, 'motion': 2913, 'cute': 1090, 'between': 475, 'last': 2521, 'unique': 4662, 'unforgettable': 4652, 'experience': 1580, 'track': 4544, 'down': 1335, 'miserable': 2863, '10': 0, 'rating': 3529, 'basically': 407, 'perspective': 3245, 'given': 1913, 'sheer': 3925, 'entertainment': 1500, 'value': 4709, 'ride': 3692, 'devil': 1228, 'lees': 2560, 'mountain': 2917, 'historical': 2119, 'importance': 2246, 'lovers': 2673, 'ought': 3138, 'minimum': 2856, 'worthy': 4956, 'perfect': 3224, 'surprising': 4315, 'depth': 1190, 'humanity': 2189, 'really': 3556, 'recall': 3562, 'war': 4792, 'capture': 676, 'change': 749, 'your': 4991, 'history': 2121, 'politics': 3326, 'belief': 451, 'seeing': 3857, 'killings': 2473, 'feel': 1684, 'yourself': 4993, 'instead': 2307, 'treasure': 4571, 'bond': 532, 'human': 2188, 'beings': 449, 'performances': 3229, 'drives': 1367, 'shoots': 3944, 'pictures': 3270, 'becoming': 435, 'soul': 4079, 'sense': 3877, 'doesnt': 1309, 'need': 2987, 'long': 2644, 'reviews': 3679, 'itself': 2371, 'jeffrey': 2391, 'cinematographer': 819, 'achievement': 94, 'saw': 3798, 'high': 2100, 'stuck': 4237, 'dialogue': 1234, 'somewhat': 4068, 'educational': 1425, 'purpose': 3474, 'behind': 447, 'important': 2247, 'either': 1438, 'tons': 4520, 'girls': 1911, 'knew': 2486, 'children': 792, 'guess': 1989, 'watched': 4813, 'did': 1241, 'clearly': 840, 'didnt': 1242, 'taking': 4352, 'chances': 748, 'sexual': 3908, 'girl': 1909, 'pregnant': 3369, 'necessarily': 2983, 'lose': 2654, 'dreams': 1355, 'mystery': 2956, 'science': 3816, 'theater': 4427, 'lives': 2628, 'title': 4504, 'fact': 1621, 'doctor': 1304, 'am': 204, 'wants': 4791, 'cure': 1081, 'tour': 4538, 'bat': 410, 'scientist': 3818, 'needs': 2990, 'study': 4242, 'beyond': 476, 'shouldnt': 3952, 'able': 66, 'starts': 4159, 'fits': 1741, 'worst': 4952, 'guy': 2000, 'stays': 4169, 'hospital': 2172, 'kills': 2474, 'nurse': 3063, 'murders': 2943, 'plenty': 3307, 'waste': 4808, 'moves': 2925, 'pull': 3461, 'longer': 2645, 'background': 380, 'job': 2405, 'believable': 453, 'william': 4887, 'played': 3297, 'part': 3193, 'husband': 2204, 'weak': 4824, 'work': 4940, 'developed': 1223, 'movies': 2927, 'parts': 3199, 'overall': 3150, 'leaves': 2556, 'wondering': 4930, 'spent': 4108, 'guys': 2001, 'copy': 994, 'monkey': 2890, 'finding': 1727, 'seemed': 3862, 'odd': 3080, 'classics': 837, 'loose': 2650, 'figured': 1712, 'monkeys': 2891, 'awesome': 371, 'replaced': 3634, 'stunt': 4245, 'action': 100, 'sequences': 3888, 'required': 3641, 'apparent': 269, 'wasnt': 4807, 'trained': 4557, 'ben': 463, 'thought': 4462, 'strong': 4229, 'sidekick': 3966, 'help': 2079, 'jackie': 2374, 'chan': 746, 'heck': 2071, 'luckily': 2682, 'amazing': 209, 'martial': 2747, 'artist': 307, 'jet': 2400, 'li': 2587, 'matthew': 2772, 'argue': 290, 'close': 853, 'camera': 659, 'tricks': 4583, 'prove': 3445, 'becomes': 434, 'obvious': 3071, 'cant': 671, 'handle': 2018, 'kid': 2464, 'develops': 1226, 'possibility': 3349, 'learns': 2553, 'confidence': 938, 'picks': 3268, 'using': 4698, 'pick': 3265, 'line': 2610, 'seem': 3861, 'ladies': 2506, 'shortly': 3947, 'got': 1944, 'phone': 3255, 'call': 651, 'telling': 4396, 'seven': 3903, 'non': 3027, 'gory': 1943, 'logic': 2638, 'impact': 2244, 'obsession': 3070, 'straight': 4210, 'dad': 1095, 'we': 4823, 'learn': 2550, 'name': 2960, 'gentle': 1890, 'loving': 2675, 'father': 1666, 'whos': 4876, 'raising': 3509, 'sons': 4073, 'alone': 194, 'mom': 2885, 'died': 1244, 'giving': 1915, 'birth': 486, 'son': 4070, 'adam': 111, 'familys': 1646, 'world': 4946, 'late': 2523, 'room': 3735, 'tells': 4397, 'god': 1926, 'vision': 4754, 'entire': 1502, 'destroy': 1213, 'demons': 1178, 'form': 1798, 'whom': 4875, 'hand': 2015, 'evil': 1548, 'young': 4989, 'older': 3101, 'murderer': 2941, 'younger': 4990, 'uncomfortable': 4637, 'gods': 1928, 'eventually': 1537, 'list': 2617, 'finally': 1724, 'fully': 1847, 'mission': 2870, 'understand': 4643, 'abusive': 75, 'loves': 2674, 'our': 3139, 'weve': 4856, 'convinced': 984, 'gone': 1935, 'mad': 2696, 'hell': 2077, 'report': 3635, 'police': 3322, 'ill': 2228, 'die': 1243, 'angel': 231, 'unbearable': 4633, 'tragic': 4552, 'structure': 4233, 'suspects': 4328, 'flashback': 1746, 'station': 4164, 'fbi': 1675, 'agent': 150, 'moody': 2899, 'lighting': 2596, 'eerie': 1427, 'calm': 655, 'present': 3374, 'add': 115, 'menace': 2806, 'wanted': 4789, 'until': 4680, 'remembered': 3617, 'parallel': 3185, 'satan': 3787, 'tragedy': 4551, 'gave': 1875, 'clues': 865, 'holes': 2133, 'regardless': 3590, 'victims': 4730, 'may': 2775, 'committed': 905, 'authority': 360, 'act': 97, 'death': 1141, 'roger': 3724, 'review': 3676, '12': 3, 'else': 1448, 'dean': 1139, 'produce': 3413, 'hit': 2122, 'decent': 1147, 'clark': 832, 'aware': 368, 'obviously': 3072, 'gonna': 1936, 'flick': 1754, 'each': 1395, 'spoilers': 4124, 'spoil': 4121, 'begin': 442, 'fake': 1635, 'helicopter': 2076, 'mean': 2779, 'chicago': 785, 'la': 2500, 'neither': 2996, 'eastern': 1408, 'tried': 4584, 'american': 213, 'actor': 103, 'lame': 2510, 'provides': 3450, 'us': 4690, 'arent': 288, 'gives': 1914, 'mess': 2818, 'hall': 2009, 'cares': 690, 'honest': 2146, 'cared': 685, 'mentioned': 2811, 'point': 3316, 'view': 4736, 'split': 4120, 'screens': 3832, 'dragon': 1344, 'sure': 4308, 'walk': 4775, 'earth': 1403, 'endings': 1472, 'scooby': 3820, 'doo': 1325, 'oh': 3096, 'wanna': 4786, 'dinner': 1254, 'chinese': 796, 'ah': 158, 'ha': 2002, 'superman': 4301, 'black': 493, 'cringe': 1059, 'stupid': 4247, 'building': 615, 'left': 2561, 'lab': 2501, 'survived': 4322, 'sequel': 3885, 'pleased': 3305, 'standing': 4146, 'cause': 723, 'personal': 3240, 'risk': 3704, 'doing': 1312, 'violence': 4747, 'pain': 3170, 'often': 3095, 'focuses': 1768, 'although': 201, 'plots': 3310, 'done': 1322, 'repeatedly': 3632, 'kick': 2460, 'master': 2757, 'different': 1248, 'types': 4622, 'patient': 3211, 'bothered': 549, 'isnt': 2362, 'happy': 2032, 'hour': 2176, 'definitely': 1162, 'certainly': 738, 'gray': 1963, 'person': 3238, 'money': 2888, 'childish': 791, 'thoroughly': 4459, 'hold': 2129, 'youll': 4988, 'tim': 4494, 'created': 1037, 'character': 758, 'continues': 971, 'check': 777, 'glad': 1916, 'japanese': 2382, 'mask': 2752, 'extremely': 1610, 'enjoyable': 1485, 'sequels': 3886, 'havent': 2053, 're': 3535, 'tongue': 4518, 'cheek': 779, 'teachers': 4376, 'okay': 3099, 'torture': 4529, 'students': 4239, 'according': 88, 'education': 1424, 'lead': 2545, 'incredibly': 2270, 'funny': 1852, 'whatever': 4859, 'principal': 3398, 'adds': 119, 'wears': 4832, 'normally': 3034, 'main': 2707, 'fairy': 1632, 'always': 203, 'tortured': 4530, 'effective': 1429, 'female': 1693, 'fights': 1710, 'totally': 4532, 'cheesy': 781, 'playing': 3300, 'rest': 3657, 'body': 527, 'naked': 2959, 'identity': 2217, 'revealed': 3671, 'credits': 1050, 'unknown': 4668, 'names': 2963, 'listed': 2618, 'enemies': 1476, 'gorgeous': 1942, 'read': 3543, 'flying': 1764, 'air': 164, 'front': 1841, 'legs': 2566, 'letting': 2583, 'become': 433, 'flies': 1756, 'closer': 856, 'peace': 3219, 'fantastic': 1651, 'towards': 4540, 'society': 4050, 'attitude': 346, 'hair': 2005, 'among': 217, 'allowed': 190, 'talk': 4358, 'etc': 1527, 'sees': 3866, 'bare': 398, 'hey': 2095, 'japan': 2381, 'allows': 192, 'heard': 2062, 'equally': 1510, 'outrageous': 3145, 'blues': 519, 'brothers': 599, 'funniest': 1851, 'greater': 1965, 'moving': 2928, 'boring': 543, 'fortunately': 1805, 'segments': 3868, 'elements': 1443, 'wouldnt': 4958, 'necessary': 2984, 'tell': 4395, 'love': 2669, 'director': 1264, 'genius': 1887, 'field': 1704, 'shining': 3933, 'bourne': 554, 'third': 4455, 'final': 1722, 'super': 4295, 'spy': 4135, 'jason': 2383, 'killer': 2470, 'highest': 2102, 'critics': 1064, '100': 1, 'status': 4165, 'fighting': 1709, 'choreographed': 801, 'deep': 1154, 'highly': 2105, 'advise': 134, 'titled': 4505, 'reality': 3551, 'missing': 2869, 'confused': 941, 'fight': 1707, 'scenes': 3811, 'missed': 2867, 'confusion': 943, 'lucky': 2683, 'treat': 4572, 'matt': 2768, 'damon': 1101, 'deserve': 1199, 'cities': 823, 'bland': 500, 'advantage': 129, 'detail': 1217, 'however': 2183, 'hurt': 2202, 'things': 4451, 'audience': 352, 'viewer': 4738, 'hint': 2112, 'development': 1225, 'seems': 3864, 'success': 4265, 'opened': 3113, 'million': 2847, 'box': 555, 'office': 3091, 'total': 4531, 'strongly': 4231, 'live': 2625, 'free': 1827, 'solid': 4057, 'spectacular': 4101, 'smart': 4035, 'others': 3136, 'vivid': 4760, 'image': 2233, 'horrific': 2166, 'consequences': 947, 'prisoners': 3403, 'face': 1616, 'despite': 1211, 'terms': 4406, 'unit': 4663, 'australian': 357, 'captured': 677, 'successful': 4266, 'set': 3898, 'prison': 3401, 'treatment': 4574, 'soon': 4074, 'friendly': 1836, 'guard': 1988, 'execution': 1566, 'sympathetic': 4342, 'bomb': 531, 'tension': 4404, 'chest': 784, 'write': 4967, 'promise': 3430, 'luck': 2681, 'bring': 585, 'references': 3583, 'primary': 3394, 'trailers': 4555, 'hearted': 2065, 'comedy': 890, 'nevertheless': 3002, 'virtually': 4751, 'moments': 2887, 'kept': 2456, 'waiting': 4772, 'serious': 3891, 'nearly': 2981, 'fell': 1690, 'asleep': 320, 'dragged': 1343, 'dogs': 1311, 'focused': 1767, 'dog': 1310, 'train': 4556, 'caused': 724, 'damage': 1099, 'banned': 395, 'wilson': 4891, 'talent': 4354, 'sum': 4289, 'couple': 1016, 'falls': 1640, 'dies': 1245, 'sad': 3767, 'epic': 1506, 'doubt': 1332, 'lies': 2591, 'problems': 3409, 'picture': 3269, 'across': 96, 'sometimes': 4067, 'adequate': 120, 'images': 2235, 'simplistic': 3985, 'let': 2579, 'decide': 1148, 'thinks': 4454, 'joseph': 2419, 'role': 3726, 'genuinely': 1892, 'moved': 2922, 'emotions': 1461, 'express': 1600, 'single': 3996, 'facial': 1619, 'expression': 1602, 'offer': 3087, 'loses': 2657, 'speed': 4103, 'easily': 1406, 'led': 2558, 'points': 3319, 'defend': 1158, 'entertaining': 1499, 'humorous': 2193, 'stealing': 4171, 'scott': 3824, 'thomas': 4458, 'compare': 911, 'masterpieces': 2760, 'lynch': 2691, 'leaving': 2557, 'theatre': 4429, 'satisfied': 3789, 'grab': 1949, 'brain': 562, 'succeeds': 4264, 'barbara': 397, 'stanwyck': 4149, 'happened': 2027, 'double': 1331, 'edge': 1418, 'seat': 3845, 'helen': 2075, 'barry': 401, 'sullivan': 4288, 'lee': 2559, 'drive': 1363, 'isolated': 2363, 'spot': 4131, 'mexico': 2827, 'vacation': 4704, 'fall': 1637, 'saved': 3795, 'runs': 3757, 'psychotic': 3459, 'ralph': 3510, 'game': 1864, 'cat': 713, 'mouse': 2919, 'power': 3359, 'suspenseful': 4331, 'surprise': 4312, 'expecting': 1578, 'realized': 3553, 'script': 3834, 'happening': 2028, 'drama': 1346, 'losing': 2658, 'parents': 3188, 'start': 4156, 'finish': 1732, 'whoever': 4872, 'drivel': 1364, 'delivery': 1173, 'thrillers': 4473, 'suspend': 4329, 'certain': 737, 'levels': 2585, 'develop': 1222, 'took': 4523, 'nonsense': 3030, 'felt': 1692, 'force': 1786, 'fed': 1682, 'load': 2631, 'magic': 2703, 'decided': 1149, 'try': 4600, 'create': 1036, 'numbers': 3061, 'involving': 2349, 'issues': 2365, 'religion': 3607, 'eric': 1514, 'piano': 3264, 'notes': 3046, 'correct': 1000, 'suggest': 4280, 'reading': 3544, 'books': 536, 'writing': 4971, 'due': 1382, 'utter': 4701, 'lack': 2502, 'direction': 1261, 'key': 2458, 'fault': 1668, 'top': 4525, 'notch': 3043, 'involved': 2346, 'sorry': 4076, 'agents': 151, 'attempts': 343, 'deliver': 1169, 'department': 1182, 'shut': 3961, 'emma': 1457, 'previous': 3387, 'wrong': 4973, 'lady': 2507, 'possible': 3350, 'whereas': 4865, 'general': 1880, 'production': 3419, 'charm': 767, 'novel': 3052, 'nature': 2975, 'christmas': 810, 'reveals': 3673, 'church': 813, 'mark': 2739, 'expected': 1577, 'enjoyed': 1486, 'brings': 587, 'plain': 3286, 'spoken': 4126, 'against': 147, 'frank': 1821, 'mr': 2929, 'figure': 1711, 'almost': 193, 'soft': 4051, 'producers': 3416, 'pride': 3391, 'care': 684, 'taken': 4350, 'cases': 708, 'delight': 1167, 'disappointed': 1273, 'kinda': 2477, 'wooden': 4934, 'cardboard': 682, 'murder': 2939, 'investigation': 2343, 'goes': 1930, 'stage': 4139, 'opening': 3114, 'combination': 883, 'musical': 2947, 'actress': 105, 'intent': 2318, 'marriage': 2743, 'carl': 692, 'starring': 4154, 'infamous': 2284, 'sweet': 4336, 'number': 3060, '70s': 56, 'bette': 471, 'album': 175, 'chorus': 803, 'around': 297, 'bumbling': 622, 'detective': 1220, 'victor': 4731, 'solve': 4060, 'quickly': 3491, 'dorothy': 1330, 'mother': 2911, 'manager': 2724, 'jack': 2373, 'lots': 2662, 'twists': 4619, 'song': 4071, 'sings': 3997, 'haunting': 2051, 'featuring': 1681, 'duke': 1383, 'terrific': 4409, 'zero': 4996, 'charles': 764, 'homer': 2144, 'wing': 4896, 'nancy': 2964, 'donald': 1321, 'ann': 244, 'ball': 388, '25': 40, 'behave': 445, 'teenagers': 4391, 'stay': 4166, 'qualities': 3483, 'dark': 1115, 'covered': 1023, 'territory': 4411, 'secret': 3849, 'guessed': 1990, 'deal': 1135, 'pointless': 3318, 'tense': 4403, 'packed': 3166, 'genuine': 1891, 'texas': 4418, 'massacre': 2754, 'started': 4157, 'forward': 1808, 'stand': 4143, 'walken': 4777, 'favor': 1670, 'scary': 3807, 'awful': 372, 'liked': 2600, 'harris': 2038, 'poor': 3328, 'deaths': 1142, 'words': 4938, 'anyway': 261, 'cover': 1022, 'presented': 3376, 'stephen': 4176, 'king': 2479, 'crap': 1031, 'rented': 3628, 'rate': 3526, 'don': 1320, 'otherwise': 3137, 'lone': 2642, 'victim': 4729, 'screening': 3830, 'tonight': 4519, 'jon': 2416, 'rose': 3739, 'working': 4944, 'crime': 1055, 'screen': 3829, 'appearance': 274, 'diane': 1238, 'keaton': 2448, 'survive': 4321, 'vehicle': 4718, 'shes': 3930, 'chosen': 805, 'weeks': 4839, 'sitting': 4007, 'laughed': 2532, 'whenever': 4863, 'sole': 4055, 'summary': 4290, 'jeff': 2390, 'kevin': 2457, 'uncle': 4636, 'gift': 1906, 'trip': 4588, 'weekend': 4838, 'journey': 2421, 'drink': 1361, 'games': 1865, 'fear': 1676, 'open': 3112, 'sea': 3838, 'stops': 4203, 'haunted': 2050, 'murdered': 2940, 'yesterday': 4983, 'daughter': 1121, 'joined': 2413, 'dvd': 1391, '30': 42, 'running': 3756, 'group': 1980, 'amateurish': 207, 'bed': 436, 'actresses': 106, 'pretentious': 3383, 'insane': 2296, 'situation': 4008, 'friend': 1835, 'madness': 2698, 'vote': 4766, 'brazil': 568, 'directed': 1259, 'dance': 1103, 'college': 875, 'followed': 1773, 'huge': 2185, 'engaging': 1481, 'root': 3737, 'bonus': 534, 'activities': 102, 'result': 3660, 'entertain': 1497, 'insight': 2298, 'todays': 4509, 'appear': 273, 'various': 4715, 'roles': 3727, 'supporting': 4304, 'short': 3946, '1930s': 11, 'fan': 1648, 'turner': 4607, 'lloyd': 2630, 'chaplin': 756, 'silent': 3975, 'comedian': 887, 'bigger': 479, 'flat': 1748, 'career': 686, 'limited': 2606, 'material': 2766, 'stooges': 4200, 'lewis': 2586, 'boxing': 556, 'forgettable': 1794, 'interested': 2324, 'glory': 1922, 'gotten': 1947, 'ring': 3698, 'popular': 3333, 'compared': 912, 'comedies': 889, 'kelly': 2452, 'earlier': 1399, 'nobody': 3022, 'channel': 753, 'imdb': 2240, 'four': 1812, 'lines': 2612, 'text': 4419, 'elaborate': 1439, 'jerry': 2396, 'sixties': 4011, '90s': 61, '60s': 54, 'tears': 4380, 'eyes': 1613, 'attempt': 340, 'places': 3284, 'trial': 4580, 'cell': 730, 'initial': 2290, 'dramatic': 1348, 'turn': 4605, 'apart': 264, 'chris': 806, 'paid': 3169, 'brilliant': 583, 'idiotic': 2219, 'move': 2921, 'horribly': 2164, 'begins': 444, 'crazy': 1035, 'disturbing': 1300, 'visits': 4756, 'killed': 2469, 'wins': 4899, 'discovers': 1281, 'strikes': 4225, 'revenge': 3675, 'daniel': 1111, 'george': 1893, 'wells': 4845, 'ask': 316, 'gore': 1941, 'lately': 2524, 'granted': 1957, 'eight': 1436, 'wow': 4962, 'hot': 2174, 'chose': 804, 'porn': 3336, 'foreign': 1790, 'wonder': 4926, 'filming': 1718, 'whose': 4877, 'forever': 1792, 'above': 68, 'sean': 3840, 'naive': 2958, 'youth': 4994, 'substance': 4258, 'bored': 541, 'tired': 4501, 'episodes': 1508, 'please': 3304, 'average': 362, 'difficult': 1249, 'spots': 4132, 'interest': 2323, 'hooked': 2153, 'ran': 3513, 'marry': 2745, 'realize': 3552, 'brutal': 603, 'thief': 4448, 'jerk': 2395, 'rent': 3626, 'forced': 1787, 'rich': 3685, 'business': 633, 'hook': 2152, 'potential': 3355, 'party': 3200, 'date': 1118, 'cinderella': 815, 'married': 2744, 'handled': 2019, 'awfully': 373, 'predictable': 3367, 'clichéd': 845, 'admire': 121, 'finale': 1723, 'ends': 1474, 'lover': 2672, 'herself': 2092, 'values': 4710, 'suspense': 4330, 'entirely': 1503, 'sympathy': 4343, 'throwing': 4480, 'winds': 4895, 'prime': 3395, 'opportunity': 3121, 'shoot': 3942, 'including': 2264, 'term': 4405, 'corpse': 999, 'dying': 1393, 'hundreds': 2196, 'stomach': 4196, 'intriguing': 2335, 'achieve': 92, 'dream': 1354, 'soccer': 4048, 'player': 3298, 'offered': 3088, 'position': 3345, 'team': 4378, 'limits': 2607, 'faces': 1618, 'determined': 1221, 'inspired': 2301, 'choices': 798, 'hope': 2155, 'darkness': 1117, 'graphic': 1958, 'fairly': 1631, 'thrown': 4481, 'mix': 2876, 'makeup': 2717, 'realistic': 3550, 'actions': 101, 'authentic': 358, 'acted': 98, 'gratuitous': 1961, 'nudity': 3059, 'news': 3005, 'carefully': 689, 'tooth': 4524, 'queen': 3485, 'tough': 4537, 'courage': 1018, 'resolution': 3649, 'overcome': 3151, 'basic': 406, 'emily': 1456, 'blunt': 520, 'victoria': 4732, 'id': 2212, 'blame': 499, 'adaptation': 113, 'darker': 1116, 'elizabeth': 1445, 'hence': 2083, 'extent': 1605, 'mrs': 2930, 'brown': 601, 'jean': 2389, 'choice': 797, 'fame': 1642, 'remember': 3616, 'wrote': 4974, 'park': 3190, 'lost': 2660, 'saying': 3800, '13': 4, 'starred': 4153, 'garbage': 1870, 'meant': 2784, 'shots': 3950, 'scenery': 3810, 'neat': 2982, 'mild': 2839, 'scares': 3806, 'hasnt': 2044, 'pure': 3471, 'beginning': 443, 'floor': 1759, 'style': 4249, 'robert': 3713, 'mirror': 2861, 'bruce': 602, 'directing': 1260, 'likely': 2601, 'recognize': 3569, 'enjoyment': 1488, 'buck': 605, 'supposedly': 4307, 'book': 535, 'existence': 1571, 'anywhere': 263, 'apparently': 270, 'imagination': 2236, 'sell': 3871, 'consider': 949, 'suffered': 4276, 'sight': 3969, 'ability': 65, 'proud': 3444, 'shelf': 3926, 'dust': 1388, 'questions': 3489, 'answers': 252, 'philosophical': 3253, 'question': 3487, 'scared': 3805, 'creepy': 1052, 'animated': 241, 'talking': 4360, 'ginger': 1908, 'rogers': 3725, 'quick': 3490, 'liners': 2611, 'rival': 3706, 'newspaper': 3006, 'reporter': 3636, '1933': 12, 'poverty': 3357, 'row': 3744, 'maker': 2714, 'opens': 3115, 'wealthy': 4827, 'businessman': 634, 'garden': 1872, 'rise': 3702, 'apartment': 265, 'house': 2178, 'miss': 2866, 'terry': 4415, 'secretary': 3850, 'pat': 3208, 'morgan': 2905, 'directly': 1263, 'ted': 4386, 'fired': 1735, 'efforts': 1433, 'boss': 546, 'heres': 2087, 'inspector': 2299, 'dropped': 1370, 'regarding': 3589, 'living': 2629, 'harvey': 2042, 'calling': 653, 'cards': 683, 'beneath': 464, 'snake': 4042, 'houses': 2180, 'system': 4345, 'gas': 1874, 'rooms': 3736, 'below': 462, 'russell': 3761, 'revelation': 3674, 'gruesome': 1986, 'circumstances': 822, 'buildings': 616, 'basement': 405, 'none': 3028, 'assistant': 326, 'arthur': 305, 'feet': 1688, 'reviewers': 3678, 'satisfying': 3791, 'charlie': 765, 'era': 1513, 'comparison': 914, 'model': 2880, 'betty': 474, 'page': 3167, 'enormous': 1490, 'pleasant': 3302, 'door': 1328, 'mary': 2751, 'andy': 230, 'psycho': 3457, 'america': 212, 'stock': 4193, 'footage': 1782, 'florida': 1761, 'introduced': 2337, 'taylor': 4372, 'photography': 3260, 'executed': 1565, 'folks': 1771, 'tight': 4492, 'community': 908, 'impression': 2252, 'existent': 1572, 'length': 2569, 'flaws': 1752, 'aside': 315, 'catching': 716, 'represents': 3639, 'producer': 3415, 'sinatra': 3989, 'established': 1524, 'floating': 1758, 'sky': 4017, 'brando': 566, 'sarah': 3785, 'simmons': 3981, 'dolls': 1316, 'styles': 4250, 'sequence': 3887, 'starting': 4158, 'walking': 4779, 'movements': 2924, 'colour': 880, 'movement': 2923, 'completely': 922, 'removed': 3624, 'underground': 4640, 'criminal': 1057, 'received': 3564, 'passed': 3202, '80': 58, 'unbelievably': 4635, 'sexually': 3910, 'shell': 3927, 'alcohol': 176, 'rendition': 3625, 'bell': 458, 'singers': 3994, 'sam': 3777, 'dub': 1378, 'carry': 700, 'suggests': 4282, 'self': 3869, 'charisma': 762, 'matter': 2769, 'singing': 3995, 'voice': 4761, '11': 2, 'september': 3884, 'directors': 1266, 'countries': 1013, 'results': 3662, 'ken': 2453, 'mexican': 2826, 'quit': 3494, 'restaurant': 3658, 'appeared': 276, 'eighties': 1437, 'fly': 1763, 'break': 569, 'throws': 4482, 'works': 4945, 'variety': 4714, 'ways': 4822, 'cliché': 844, 'delivers': 1172, 'tedious': 4387, 'worthwhile': 4955, 'majority': 2712, 'generally': 1881, 'imagery': 2234, 'bodies': 526, 'remaining': 3610, 'survivor': 4324, 'notably': 3042, 'bloody': 513, 'couldve': 1009, 'minute': 2858, 'saves': 3796, 'lowest': 2678, 'flop': 1760, 'claims': 830, 'effect': 1428, 'sold': 4052, 'animal': 239, 'hardly': 2036, 'fiction': 1702, 'resort': 3650, 'behavior': 446, 'escape': 1517, 'cage': 645, 'storm': 4206, 'selling': 3873, 'surrounded': 4318, 'trees': 4577, 'historically': 2120, 'record': 3573, 'notice': 3048, 'grows': 1985, 'raised': 3508, 'animation': 242, 'wolf': 4920, 'inducing': 2279, 'thank': 4421, 'winner': 4897, 'category': 718, 'synopsis': 4344, 'england': 1482, 'europe': 1529, 'past': 3207, 'brave': 567, 'mistakes': 2873, 'concept': 930, 'relation': 3595, 'outside': 3146, 'descent': 1193, 'learning': 2552, 'internet': 2327, 'public': 3460, 'terrifying': 4410, 'cutting': 1092, 'suffers': 4278, 'theatrical': 4430, 'shakespeare': 3915, 'underlying': 4641, 'themes': 4434, 'technology': 4385, 'charismatic': 763, 'curse': 1086, 'design': 1202, 'forbidden': 1785, 'planet': 3289, '2001': 31, 'landscapes': 2514, 'amount': 219, 'inspiration': 2300, 'reaching': 3539, 'reach': 3536, 'standards': 4145, 'machines': 2694, 'guns': 1998, 'considered': 951, 'logical': 2639, 'step': 4175, 'richardson': 3688, 'recognized': 3570, 'skills': 4014, 'evident': 1547, 'curious': 1083, 'christ': 807, 'sent': 3880, 'destruction': 1216, 'warming': 4795, 'television': 4394, 'daddy': 1096, 'finds': 1728, 'miracle': 2860, 'viewers': 4739, 'tear': 4379, 'ellen': 1446, 'delightful': 1168, 'grandmother': 1955, 'tender': 4401, 'convincing': 985, 'tribute': 4581, 'james': 2378, 'honestly': 2147, 'jim': 2402, 'carrey': 696, 'cry': 1073, 'laughter': 2535, 'trailer': 4554, 'co': 867, 'jennifer': 2392, 'involvement': 2347, 'massive': 2756, 'sat': 3786, 'ice': 2210, 'admit': 122, 'judge': 2424, 'dumb': 1385, 'mediocre': 2791, 'hello': 2078, 'eye': 1611, 'ten': 4399, 'specifically': 4100, 'jimmy': 2403, 'walter': 4784, 'week': 4837, 'clue': 864, 'grown': 1984, 'appeal': 271, 'drugs': 1374, 'heavy': 2070, 'handed': 2016, 'subtlety': 4261, 'statement': 4162, 'means': 2783, 'brains': 563, 'prevent': 3385, 'expectations': 1576, 'town': 4541, 'dr': 1340, 'anthony': 253, 'blake': 498, 'research': 3644, 'independent': 2272, 'uses': 4697, 'commit': 904, 'acts': 107, 'large': 2517, 'usually': 4700, 'meanwhile': 2785, 'gifted': 1907, 'tom': 4514, 'putting': 3482, 'attached': 336, 'resist': 3648, 'control': 977, 'feels': 1687, 'threat': 4467, 'plans': 3292, 'car': 680, 'waitress': 4773, 'girlfriend': 1910, 'officer': 3092, 'marks': 2742, 'harry': 2039, 'capable': 672, 'techniques': 4384, 'national': 2970, 'plan': 3287, 'ed': 1415, 'hunt': 2198, 'calls': 654, 'edward': 1426, 'satire': 3788, 'storyline': 4208, 'fair': 1630, 'explanation': 1590, 'accept': 80, 'element': 1442, 'bits': 490, 'pieces': 3273, 'cheap': 774, 'sits': 4006, 'grow': 1982, 'rubber': 3747, 'particularly': 3195, 'provided': 3449, 'eaten': 1412, 'dislike': 1288, 'comedic': 888, 'thin': 4449, 'laughable': 2530, 'editing': 1421, 'memorable': 2802, 'luke': 2687, 'warm': 4794, 'strange': 4211, 'flow': 1762, 'feeling': 1685, 'ties': 4490, 'screams': 3828, 'racial': 3501, 'issue': 2364, 'laid': 2508, 'related': 3594, 'ones': 3108, 'editor': 1423, 'motivations': 2915, 'nor': 3032, 'within': 4912, 'disaster': 1276, 'humor': 2192, 'yeah': 4977, 'candy': 668, 'brand': 565, 'headed': 2058, 'richard': 3686, 'obscure': 3068, 'print': 3399, 'searching': 3842, 'empty': 1465, 'search': 3841, 'knows': 2493, 'share': 3920, 'delivered': 1170, 'superior': 4300, 'stayed': 4167, 'pulp': 3465, 'noir': 3023, 'roots': 3738, 'magnificent': 2705, 'teenage': 4389, 'ups': 4686, 'land': 2511, 'range': 3516, 'vice': 4727, 'surprisingly': 4316, 'inside': 2297, 'homeless': 2143, 'losers': 2656, 'theme': 4433, 'environment': 1505, 'colors': 879, 'breaking': 570, 'personally': 3243, 'touching': 4536, 'built': 618, 'retarded': 3663, 'believes': 456, 'daughters': 1122, 'da': 1094, 'frustrated': 1842, 'gender': 1878, 'rings': 3699, 'false': 1641, 'bathroom': 412, 'football': 1783, 'shape': 3919, 'guarantee': 1987, 'seriously': 3892, 'disappointing': 1274, 'battle': 414, 'sounds': 4084, 'quality': 3484, 'trashy': 4566, 'included': 2262, 'leading': 2547, 'language': 2516, 'jay': 2386, 'finest': 1730, 'filmmakers': 1720, 'cannot': 670, 'spirit': 4113, 'propaganda': 3435, 'careful': 688, 'effort': 1432, 'scare': 3803, 'guilt': 1994, 'normal': 3033, 'government': 1948, 'concern': 931, 'sudden': 4272, 'therefore': 4439, 'subsequent': 4257, 'window': 4894, 'comic': 893, 'costumes': 1006, 'batman': 413, 'looked': 2647, 'exception': 1557, 'capturing': 679, 'likable': 2598, 'leo': 2571, 'learned': 2551, 'positive': 3346, 'essentially': 1523, 'react': 3540, 'tune': 4602, 'dealt': 1138, 'impressive': 2253, 'appealing': 272, 'hints': 2113, 'food': 1778, 'wanting': 4790, 'circle': 821, 'wish': 4904, 'theyd': 4443, 'entertained': 1498, 'disney': 1289, 'attraction': 350, 'dull': 1384, 'skip': 4016, 'canada': 666, 'altogether': 202, 'unless': 4669, 'eating': 1413, 'united': 4664, 'kingdom': 2480, 'gordon': 1940, 'shines': 3932, 'displays': 1293, 'beat': 423, 'training': 4558, 'wouldve': 4959, 'deadly': 1133, 'stunts': 4246, 'choreography': 802, 'creative': 1041, 'johnny': 2410, 'showdown': 3955, 'theyre': 4445, 'ruthless': 3764, 'tale': 4353, 'magical': 2704, 'loved': 2670, 'exotic': 1574, 'dancers': 1105, 'accompanied': 86, 'steel': 4173, 'win': 4892, 'inner': 2292, 'definite': 1161, 'aka': 168, 'spanish': 4092, 'clint': 850, 'italian': 2367, 'trilogy': 4586, 'hire': 2116, 'careers': 687, 'largely': 2518, 'voices': 4763, 'except': 1556, 'everyone': 1542, 'priest': 3392, 'subject': 4253, 'mayor': 2777, 'leader': 2546, 'justice': 2438, 'throw': 4479, 'widow': 4883, 'stevens': 4183, 'husbands': 2205, 'al': 170, 'colonel': 876, 'rebel': 3561, 'escapes': 1519, 'reveal': 3670, 'blind': 506, 'identify': 2216, 'trademark': 4548, 'ms': 2931, 'wasted': 4809, 'pre': 3365, 'craig': 1030, 'somewhere': 4069, 'westerns': 4854, 'villain': 4744, 'french': 1830, 'connection': 946, 'godfather': 1927, '1972': 18, 'extra': 1606, 'difference': 1246, 'avoid': 363, 'radio': 3504, 'taught': 4370, 'particular': 3194, 'coming': 896, 'mario': 2738, 'van': 4713, 'cameo': 657, 'glenn': 1918, 'lisa': 2616, 'projects': 3428, 'bobby': 525, 'west': 4852, 'asian': 314, 'kim': 2475, 'marie': 2737, 'dollars': 1315, 'army': 295, 'send': 3875, 'middle': 2833, 'pitch': 3279, 'thankfully': 4422, 'writers': 4969, 'explain': 1586, 'scientific': 3817, 'dated': 1119, 'imagine': 2238, 'subplots': 4256, 'arrival': 299, 'undoubtedly': 4648, 'modern': 2882, 'samurai': 3779, 'extras': 1608, 'foot': 1781, 'western': 4853, 'touches': 4535, 'influenced': 2287, 'hollywood': 2137, 'east': 1407, 'meets': 2795, 'melting': 2799, 'pot': 3354, 'exciting': 1563, 'makers': 2715, 'immensely': 2243, 'audiences': 353, 'traditional': 4550, 'higher': 2101, 'rock': 3720, 'songs': 4072, 'corny': 997, 'bullet': 620, 'flashbacks': 1747, 'hitting': 2126, 'clever': 841, 'superb': 4296, 'masterpiece': 2759, 'letters': 2582, 'jesus': 2399, 'forgotten': 1797, 'corner': 996, 'post': 3352, 'bright': 581, 'figures': 1713, 'letter': 2581, 'opposed': 3122, 'royal': 3746, 'mail': 2706, 'latter': 2528, 'equipment': 1511, 'alice': 182, 'alongside': 196, 'social': 4049, 'del': 1165, 'slowly': 4032, 'drawn': 1351, 'bringing': 586, 'contained': 963, 'reminded': 3619, 'horse': 2170, 'aint': 163, 'blatant': 502, 'symbolism': 4341, 'theyll': 4444, 'wrap': 4963, 'ie': 2221, 'speak': 4094, 'sadly': 3769, 'realism': 3549, 'stereotypes': 4179, 'everyones': 1543, 'taste': 4369, 'duty': 1390, 'major': 2711, 'laughs': 2534, 'passing': 3204, 'equivalent': 1512, 'cd': 728, 'listen': 2619, 'mini': 2854, 'ruined': 3751, '45': 50, 'desperately': 1209, 'pass': 3201, '16': 8, 'attack': 337, 'pearl': 3220, 'topic': 4526, 'unwatchable': 4682, 'wwii': 4975, 'global': 1920, 'dramas': 1347, 'intended': 2315, 'closed': 854, 'aging': 153, 'punk': 3468, 'critical': 1062, 'constant': 957, 'aspects': 322, 'chased': 770, 'hunting': 2201, 'dude': 1381, 'cliff': 847, 'whilst': 4869, 'sign': 3970, 'thoughts': 4464, 'upon': 4684, 'immediately': 2242, 'mentally': 2809, 'count': 1010, 'countryside': 1015, 'sleazy': 4023, 'dangerous': 1110, 'chicks': 787, 'forest': 1791, 'sports': 4130, 'writer': 4968, 'link': 2613, 'protagonist': 3441, 'leslie': 2574, 'private': 3404, 'remote': 3622, 'afford': 138, 'anymore': 258, 'friday': 1834, 'deceased': 1146, 'butler': 637, 'lousy': 2667, 'build': 614, 'sinister': 3998, 'useful': 4694, 'trap': 4563, 'exists': 1573, 'tiresome': 4502, 'intention': 2319, 'pal': 3177, 'thriller': 4472, 'inevitably': 2283, 'franco': 1820, 'regular': 3592, 'howard': 2182, 'zombie': 4997, 'surely': 4309, 'matthau': 2771, 'conversation': 980, 'waited': 4771, 'robbins': 3712, 'beautifully': 429, 'beauty': 430, 'beast': 422, 'surreal': 4317, 'concerns': 934, 'carrying': 701, 'ancient': 225, 'potentially': 3356, 'explaining': 1588, 'explicit': 1591, 'content': 966, 'remind': 3618, 'offended': 3085, 'jumps': 2432, 'wasting': 4810, 'stupidity': 4248, 'measure': 2786, 'routine': 3743, 'court': 1020, 'mall': 2720, 'purchase': 3469, 'fictional': 1703, 'boyfriend': 558, 'fire': 1734, 'site': 4005, 'owner': 3159, 'security': 3854, 'rob': 3710, 'upset': 4687, 'involves': 2348, 'named': 2961, 'phantom': 3251, 'duo': 1386, 'leads': 2548, 'relies': 3606, 'hiding': 2099, 'construction': 960, 'worker': 4942, 'note': 3044, 'celebrity': 729, 'skin': 4015, 'south': 4087, 'junk': 2436, 'proof': 3434, 'section': 3853, 'em': 1452, 'rated': 3527, 'male': 2719, 'columbo': 881, 'familiar': 1643, 'colorful': 878, 'somehow': 4063, 'match': 2762, 'episode': 1507, 'extreme': 1609, 'till': 4493, 'frankly': 1823, 'crisis': 1060, 'reactions': 3542, 'members': 2801, 'physically': 3263, 'flight': 1757, 'elvis': 1451, 'gang': 1867, 'costs': 1004, 'casting': 711, 'sucks': 4271, '20': 29, 'bucks': 606, 'hurts': 2203, 'wet': 4855, 'belongs': 460, 'buddies': 608, 'screaming': 3827, 'warning': 4800, 'mental': 2808, 'illness': 2230, 'convince': 983, 'mysterious': 2955, 'formula': 1802, 'devoted': 1231, '1950s': 14, 'needed': 2988, 'contrived': 976, 'mundane': 2938, 'hill': 2108, 'atmospheric': 334, 'pool': 3327, 'hudson': 2184, 'attempting': 342, 'hidden': 2096, 'clothes': 860, 'alex': 179, 'shocking': 3940, 'doors': 1329, 'jump': 2429, 'futuristic': 1857, 'ray': 3533, 'lights': 2597, 'tony': 4521, 'directs': 1267, 'baseball': 403, 'damn': 1100, 'niro': 3019, 'san': 3780, 'francisco': 1819, 'murderous': 2942, 'terror': 4412, 'natural': 2973, 'attractive': 351, 'species': 4098, '1996': 26, 'jonathan': 2417, 'international': 2326, 'terrorists': 4414, 'contain': 962, 'dinosaurs': 1256, 'gain': 1863, 'acceptable': 81, 'dressed': 1358, 'riding': 3695, '13th': 5, 'nightmare': 3014, 'brian': 576, 'gripping': 1976, 'intelligent': 2314, 'andrews': 229, 'arm': 292, 'methods': 2825, 'smooth': 4041, 'gary': 1873, 'push': 3477, 'asks': 319, 'discovery': 1282, 'hatred': 2049, 'criminals': 1058, 'illegal': 2229, 'pursuit': 3476, 'became': 431, 'spoiled': 4122, 'irony': 2357, 'gene': 1879, 'laura': 2536, 'romantic': 3733, 'beaten': 424, 'worthless': 4954, 'jail': 2376, 'knowledge': 2491, 'covers': 1024, 'larger': 2519, 'solution': 4059, '50s': 52, 'powerful': 3360, 'storytelling': 4209, 'technique': 4383, 'angles': 237, 'commented': 900, 'edited': 1420, 'legend': 2564, 'edition': 1422, 'added': 116, 'vhs': 4725, '1980': 20, 'visit': 4755, 'influence': 2286, 'paper': 3183, 'chases': 771, 'keeps': 2451, 'guessing': 1991, 'thrills': 4475, 'accents': 79, 'culture': 1079, 'besides': 468, 'industry': 2280, 'paced': 3162, 'cross': 1066, 'vampire': 4711, 'werewolf': 4850, 'plus': 3311, 'ghost': 1902, 'broke': 593, 'loss': 2659, 'intense': 2316, 'focus': 1766, 'driven': 1365, 'uneven': 4649, 'tone': 4517, 'thru': 4483, 'portrays': 3344, 'balance': 387, 'relatives': 3601, 'cried': 1054, 'cg': 739, 'baby': 376, 'visuals': 4759, 'visually': 4758, 'blue': 518, 'studios': 4241, 'eat': 1411, 'billy': 482, 'joe': 2407, 'decides': 1150, 'pants': 3182, 'bet': 470, 'respect': 3652, 'gross': 1978, 'messages': 2820, 'friendship': 1838, 'relate': 3593, 'easy': 1410, 'goal': 1925, 'emotion': 1458, 'childrens': 793, 'mood': 2898, 'plane': 3288, 'factor': 1622, 'falk': 1636, 'initially': 2291, 'andrew': 228, 'abysmal': 76, 'prepared': 3371, 'aforementioned': 139, '17': 9, 'anybody': 257, 'titles': 4506, 'whether': 4866, '2000': 30, 'americans': 214, 'goldberg': 1933, 'campbell': 663, 'denzel': 1181, 'washington': 4806, 'smith': 4038, 'et': 1526, 'grand': 1953, 'meet': 2793, 'grandfather': 1954, 'lacking': 2504, 'kinds': 2478, 'typical': 4623, 'offers': 3090, 'sincere': 3991, 'louis': 2665, 'steal': 4170, 'sunday': 4293, 'deaf': 1134, 'wit': 4908, 'visual': 4757, 'doc': 1303, 'carries': 699, 'matters': 2770, 'documentaries': 1306, 'toilet': 4512, 'pacino': 3164, 'similarly': 3980, 'medical': 2790, 'setting': 3900, 'paris': 3189, '3d': 46, 'computer': 927, 'ultra': 4629, 'slightly': 4029, 'level': 2584, 'presumably': 3380, 'painfully': 3172, 'unlike': 4670, 'originality': 3130, 'watchable': 4812, 'differences': 1247, 'russian': 3762, 'annoying': 249, 'direct': 1258, 'offensive': 3086, 'worked': 4941, 'bull': 619, 'central': 735, 'pushed': 3478, 'hollow': 2135, 'crappy': 1032, 'sucked': 4270, 'remotely': 3623, 'whatsoever': 4861, 'amounts': 220, 'holy': 2140, 'failed': 1626, 'miserably': 2864, 'crash': 1033, 'burn': 625, 'virgin': 4749, 'table': 4346, 'strip': 4228, 'pretending': 3382, 'justify': 2439, 'speaks': 4096, 'mouth': 2920, 'happens': 2029, 'blew': 505, 'accurate': 90, 'precious': 3366, 'racism': 3502, 'thus': 4486, 'fails': 1628, 'anti': 254, 'weapon': 4828, 'core': 995, 'portrayal': 3341, 'vincent': 4746, 'period': 3236, 'fate': 1665, 'vengeance': 4719, 'perform': 3227, 'trick': 4582, 'promising': 3433, 'solo': 4058, 'contract': 973, 'nose': 3037, 'property': 3438, 'beloved': 461, 'creating': 1039, 'amusing': 221, 'handful': 2017, 'remain': 3609, 'goofy': 1939, 'serve': 3893, 'hype': 2207, 'properly': 3437, 'evidence': 1546, 'reference': 3582, 'needless': 2989, 'price': 3389, 'absolute': 71, 'essential': 1522, 'triumph': 4590, 'depicts': 1186, 'gradually': 1952, 'further': 1853, 'pity': 3281, 'support': 4303, 'humble': 2191, 'opinion': 3118, 'falling': 1639, 'kidnapped': 2466, 'cash': 709, 'stated': 4161, 'depressing': 1188, 'happiness': 2031, 'korean': 2495, 'closest': 857, 'bar': 396, 'hat': 2045, 'sleeping': 4025, 'cousin': 1021, 'paul': 3214, 'karen': 2444, 'blair': 497, 'julia': 2427, 'lie': 2590, 'member': 2800, 'families': 1644, '14': 6, 'wedding': 4836, 'mixed': 2877, 'canadian': 667, 'fellow': 1691, 'butt': 638, 'sitcom': 4004, 'youd': 4987, 'hank': 2024, 'happen': 2026, 'serves': 3895, 'backdrop': 379, 'unhappy': 4656, 'homosexual': 2145, 'attend': 344, 'spite': 4117, 'meeting': 2794, 'hitler': 2124, 'iii': 2227, 'irritating': 2359, 'carried': 698, 'passionate': 3206, 'romance': 3732, 'splendid': 4119, 'sentimental': 3882, 'sensitive': 3879, 'golden': 1934, 'developing': 1224, 'semi': 3874, 'le': 2544, 'scenario': 3808, 'revolutionary': 3681, 'roman': 3731, 'marvelous': 2750, 'aired': 165, 'ron': 3734, 'moore': 2901, 'merits': 2817, 'performed': 3230, 'remake': 3612, 'universe': 4666, 'mysteries': 2954, 'opera': 3116, 'spoiler': 4123, 'ready': 3546, 'rules': 3754, 'humans': 2190, 'aliens': 184, 'travel': 4567, 'random': 3514, 'draw': 1349, 'began': 441, 'scale': 3802, 'heroes': 2089, 'faced': 1617, 'safe': 3771, 'turning': 4608, 'mindless': 2851, 'swear': 4334, '2003': 33, 'unfortunate': 4653, 'festival': 1697, 'indian': 2274, 'village': 4743, 'idiots': 2220, 'drinking': 1362, 'endless': 1473, 'alas': 172, 'red': 3576, 'bollywood': 530, 'handsome': 2021, 'connect': 944, 'convey': 982, 'anger': 235, 'loyal': 2679, 'rural': 3758, 'india': 2273, 'dances': 1106, 'faster': 1662, 'stewart': 4184, 'mann': 2728, 'six': 4010, 'cult': 1077, 'buffs': 612, 'curtis': 1087, 'conventional': 979, 'surface': 4310, 'collection': 874, 'stick': 4185, 'combine': 884, 'embarrassment': 1455, 'rip': 3700, 'cultural': 1078, 'muslim': 2949, 'basis': 408, 'fish': 1738, 'desperate': 1208, 'jokes': 2415, 'reaction': 3541, 'insulting': 2310, 'refreshing': 3586, 'introduce': 2336, 'subtle': 4260, 'significant': 3972, 'formulaic': 1803, 'pacing': 3163, 'map': 2733, 'saving': 3797, 'grace': 1950, 'derek': 1192, 'addition': 118, 'guest': 1992, 'served': 3894, 'street': 4216, 'farce': 1654, 'improvement': 2256, 'cynical': 1093, 'wounded': 4961, '2nd': 41, 'german': 1896, 'lively': 2627, 'viewed': 4737, 'hours': 2177, 'powell': 3358, 'heaven': 2068, 'context': 968, 'command': 897, 'fox': 1814, 'relative': 3599, 'conflict': 939, 'pilot': 3276, 'awe': 370, 'germany': 1898, 'nazis': 2978, 'carter': 703, 'political': 3324, 'empire': 1464, 'usa': 4691, 'composed': 926, 'contains': 964, 'abraham': 69, 'forces': 1788, 'britain': 588, 'poignant': 3315, '40': 48, 'soldier': 4053, 'iraq': 2351, 'unfunny': 4655, 'filled': 1715, 'trite': 4589, 'gay': 1876, 'dennis': 1179, 'richards': 3687, 'talents': 4356, 'hanks': 2025, 'eager': 1396, 'press': 3379, 'ham': 2011, 'ridden': 3691, 'standard': 4144, 'characterization': 759, 'exaggerated': 1552, 'unbelievable': 4634, 'hbo': 2055, 'lacked': 2503, 'credibility': 1047, 'described': 1195, 'perry': 3237, 'hunter': 2199, 'australia': 356, 'realizing': 3555, 'prequel': 3372, 'previously': 3388, 'hated': 2047, 'der': 1191, 'managed': 2723, 'witch': 4909, 'sick': 3963, 'suicide': 4283, 'manages': 2725, 'resemblance': 3645, 'segment': 3867, 'separate': 3883, 'fill': 1714, 'struggle': 4234, 'copies': 992, 'rush': 3759, 'mistaken': 2872, 'narrator': 2967, 'wait': 4770, 'studio': 4240, 'terribly': 4408, 'un': 4630, 'bottom': 551, 'shooting': 3943, 'inspiring': 2302, 'truth': 4599, 'lucy': 2684, 'walker': 4778, 'condition': 937, 'landscape': 2513, 'vs': 4767, 'tremendous': 4579, 'filmmaker': 1719, 'fascinated': 1657, 'passion': 3205, 'compelling': 916, 'intrigue': 2333, 'ii': 2226, 'soap': 4047, 'decisions': 1152, 'incident': 2260, 'nation': 2969, 'navy': 2976, 'competent': 917, 'dynamic': 1394, 'facts': 1624, 'drag': 1342, 'surrounding': 4319, 'financial': 1725, 'ideal': 2214, 'prince': 3396, 'albert': 174, 'base': 402, 'thanks': 4423, 'understated': 4646, 'slightest': 4028, 'slight': 4027, 'smile': 4036, 'nervous': 2999, 'expressions': 1603, 'namely': 2962, 'lord': 2652, 'greed': 1968, 'touched': 4534, 'disappointment': 1275, 'nail': 2957, 'excited': 1561, 'treated': 4573, 'proved': 3446, 'ridiculously': 3694, 'assume': 328, 'current': 1084, 'highlight': 2103, 'rabbit': 3498, 'imitation': 2241, 'danny': 1112, 'joke': 2414, 'angry': 238, 'bought': 552, 'fourth': 1813, 'antics': 255, 'sandler': 3781, 'board': 522, 'finished': 1733, 'davis': 1126, 'display': 1291, 'bold': 528, 'tiny': 4500, 'wisdom': 4902, 'relationships': 3598, 'affected': 137, 'noticed': 3049, 'promised': 3431, 'unintentional': 4658, 'surprised': 4313, 'sun': 4292, 'involve': 2345, 'dealing': 1136, 'hip': 2114, 'hop': 2154, 'everyday': 1541, 'ordinary': 3128, 'teens': 4392, 'heights': 2073, 'brooklyn': 595, 'excessive': 1560, 'portrait': 3339, 'anna': 245, 'simpson': 3987, 'maria': 2736, 'robinson': 3716, 'band': 391, 'provide': 3448, 'professional': 3421, 'student': 4238, 'singer': 3993, 'bedroom': 437, 'neighborhood': 2993, 'receive': 3563, 'afraid': 140, 'melodramatic': 2798, 'summer': 4291, 'recognition': 3568, 'hopes': 2159, 'negative': 2991, 'emotionally': 1460, 'growing': 1983, 'refuses': 3587, 'punch': 3466, 'wind': 4893, 'mixture': 2878, 'wide': 4880, 'eyed': 1612, 'appreciation': 281, 'pushing': 3479, 'kate': 2446, 'camp': 662, 'awake': 365, 'horrid': 2165, 'schools': 3814, 'proper': 3436, 'inane': 2258, 'alternate': 200, 'dentist': 1180, 'narration': 2965, 'hitchcock': 2123, 'realise': 3548, '24': 39, 'season': 3843, 'ended': 1470, 'digital': 1251, 'blockbuster': 509, 'signed': 3971, 'month': 2896, 'seasons': 3844, 'forty': 1807, 'mildly': 2840, 'cruel': 1070, 'los': 2653, 'angeles': 233, 'possibilities': 3348, 'hoping': 2160, 'arms': 294, 'succeed': 4262, 'nasty': 2968, 'hotel': 2175, 'arrives': 302, 'quest': 3486, 'spread': 4133, 'path': 3209, 'wishing': 4907, 'unable': 4631, 'occasionally': 3075, 'sends': 3876, 'magazine': 2701, 'helps': 2082, 'holds': 2131, 'coffee': 870, 'cold': 872, 'stronger': 4230, 'experienced': 1581, 'harder': 2035, 'chemistry': 782, 'raw': 3532, 'strength': 4219, 'faith': 1633, 'complicated': 925, 'suit': 4284, 'desire': 1205, 'embarrassed': 1453, 'grey': 1973, 'woody': 4936, 'allen': 188, 'fool': 1779, 'eastwood': 1409, 'imaginative': 2237, 'walked': 4776, 'lit': 2621, 'bands': 392, 'centers': 734, 'originally': 3131, 'excitement': 1562, 'larry': 2520, 'barely': 399, 'staring': 4152, 'theaters': 4428, 'bill': 481, 'sappy': 3784, 'shorts': 3948, 'julie': 2428, 'soldiers': 4054, 'thick': 4447, 'host': 2173, 'pathetic': 3210, 'twisted': 4618, 'disappeared': 1271, 'wealth': 4826, 'judy': 2426, '1984': 23, 'extended': 1604, 'morris': 2908, 'breasts': 572, 'recorded': 3574, 'warner': 4799, 'changed': 750, 'rank': 3518, 'incredible': 2269, 'chaos': 755, 'misery': 2865, 'nyc': 3065, 'riveting': 3708, 'accident': 84, 'trade': 4547, 'center': 732, 'account': 89, 'ground': 1979, 'doom': 1326, 'visible': 4753, 'trapped': 4564, 'witnessed': 4915, 'ourselves': 3140, 'amazingly': 210, 'event': 1535, 'witness': 4914, 'cost': 1003, 'safety': 3772, 'viewing': 4740, '2002': 32, 'oliver': 3102, 'stones': 4198, 'recent': 3566, 'survivors': 4325, 'transfer': 4559, 'motives': 2916, 'enter': 1494, 'worried': 4949, 'suspicious': 4332, 'generation': 1883, 'birthday': 487, 'causes': 725, 'fail': 1625, 'ultimately': 4628, 'huh': 2187, 'thirty': 4456, 'pet': 3246, 'hate': 2046, 'commentary': 899, 'solely': 4056, 'underrated': 4642, 'crush': 1072, 'stopped': 4202, 'nazi': 2977, 'lucas': 2680, 'repeated': 3631, 'considerable': 950, 'germans': 1897, 'california': 650, 'soviet': 4089, 'innocent': 2294, 'engaged': 1480, 'fathers': 1667, 'georges': 1894, 'green': 1971, 'dickens': 1240, 'persona': 3239, 'ambitious': 211, 'facing': 1620, 'painting': 3175, 'streets': 4217, 'rain': 3506, 'tommy': 4516, 'miscast': 2862, 'club': 863, 'drop': 1369, 'admittedly': 123, 'partly': 3197, 'shower': 3957, 'guts': 1999, 'shy': 3962, 'vulnerable': 4768, 'creep': 1051, 'choose': 799, 'changing': 752, 'improved': 2255, 'relief': 3605, 'dancer': 1104, 'wall': 4781, 'ballet': 389, 'sing': 3992, 'somebody': 4062, 'favorites': 1672, 'sounding': 4083, 'spoof': 4127, 'gangster': 1868, 'talks': 4361, 'alan': 171, 'gangsters': 1869, 'funnier': 1850, 'mafia': 2700, 'metal': 2823, 'burned': 626, 'manage': 2722, 'ideas': 2215, 'heroine': 2091, 'angle': 236, 'mike': 2838, 'hammer': 2014, 'climax': 849, 'exercise': 1568, 'breaks': 571, 'instance': 2304, 'road': 3709, 'lower': 2677, 'seconds': 3848, 'hero': 2088, 'closing': 859, 'threatening': 4468, 'willing': 4889, 'rage': 3505, 'alright': 198, 'loaded': 2632, 'nowadays': 3055, 'hardcore': 2034, 'rape': 3521, 'lengthy': 2570, 'chick': 786, 'generous': 1886, 'century': 736, 'paranoia': 3186, 'battles': 415, 'workers': 4943, 'dozen': 1338, 'landing': 2512, 'moon': 2900, 'cheese': 780, 'ugly': 4625, 'photographer': 3259, 'minds': 2852, 'conspiracy': 956, 'nostalgia': 3038, 'jazz': 2387, 'league': 2549, 'pulled': 3462, 'purchased': 3470, 'overlooked': 3154, 'user': 4696, 'truck': 4595, 'remarkable': 3613, 'format': 1799, 'cartoon': 704, 'foul': 1810, 'alcoholic': 177, 'irish': 2353, 'briefly': 580, 'domestic': 1318, 'sue': 4274, 'bob': 524, 'reflection': 3585, 'ad': 110, 'dollar': 1314, 'apes': 267, 'pseudo': 3454, 'unexpected': 4650, 'dvds': 1392, 'possibly': 3351, 'breathtaking': 574, 'anime': 243, 'castle': 712, '80s': 59, 'peoples': 3222, 'analysis': 224, 'leave': 2555, 'harsh': 2040, 'novels': 3053, 'fabulous': 1615, 'absence': 70, 'presence': 3373, 'debut': 1143, 'mainstream': 2709, 'toys': 4543, 'met': 2822, 'buying': 641, 'credible': 1048, 'held': 2074, 'onto': 3111, 'allowing': 191, 'beliefs': 452, 'allow': 189, 'website': 4834, 'counter': 1011, 'stress': 4220, 'describe': 1194, 'favourite': 1673, 'companion': 909, 'examples': 1554, 'props': 3439, 'equal': 1509, 'hollywoods': 2138, 'rushed': 3760, 'gabriel': 1859, 'conversations': 981, 'obsessed': 3069, 'tales': 4357, 'spooky': 4128, 'adding': 117, '1960s': 15, 'grew': 1972, 'farm': 1656, 'beach': 419, 'encounters': 1467, 'sake': 3775, 'susan': 4326, 'ignore': 2224, 'suffer': 4275, 'pan': 3180, 'sides': 3967, 'cuts': 1091, 'tradition': 4549, 'lyrics': 2692, 'decision': 1151, 'round': 3742, 'redeeming': 3577, 'cinematic': 818, 'states': 4163, 'generic': 1885, 'albeit': 173, 'native': 2972, 'questionable': 3488, 'burt': 629, 'reynolds': 3684, 'combined': 885, 'anderson': 227, 'advertising': 132, 'finger': 1731, 'praise': 3364, 'blacks': 494, 'menacing': 2807, 'nights': 3016, 'womans': 4922, 'burns': 628, 'struggling': 4236, 'revolution': 3680, 'garbo': 1871, 'mgm': 2828, 'wicked': 4879, 'spain': 4091, 'law': 2538, 'france': 1816, 'returns': 3668, 'causing': 726, 'brutally': 604, 'discussion': 1284, '20th': 38, 'remarkably': 3614, 'fitting': 1742, 'hits': 2125, '3rd': 47, 'graphics': 1959, 'forgive': 1795, '60': 53, 'christopher': 811, 'sounded': 4082, 'deals': 1137, 'asked': 317, 'opposite': 3123, 'proceeds': 3411, 'quiet': 3492, 'frame': 1815, 'valuable': 4708, 'ear': 1397, 'connected': 945, 'santa': 3783, 'closet': 858, 'senseless': 3878, 'porno': 3337, 'eva': 1531, 'beats': 426, 'arts': 310, 'minimal': 2855, 'excuse': 1564, 'ashamed': 312, '2006': 36, 'ship': 3934, 'daily': 1097, 'ships': 3935, 'cruise': 1071, 'signs': 3973, 'snow': 4045, 'holding': 2130, 'breath': 573, 'award': 366, 'exploitation': 1592, 'outer': 3143, 'awards': 367, 'sunshine': 4294, 'presentation': 3375, 'purple': 3473, 'shall': 3916, 'uninteresting': 4660, 'jackson': 2375, 'blown': 516, 'impressed': 2251, 'common': 906, 'planned': 3290, 'defined': 1160, 'transition': 4561, 'cooper': 990, '2004': 34, 'indians': 2275, 'ritter': 3705, '75': 57, 'delivering': 1171, 'noise': 3024, 'suck': 4269, 'card': 681, 'claire': 831, 'intimate': 2331, 'lips': 2615, 'teeth': 4393, 'hanging': 2023, 'viewings': 4741, 'evening': 1534, 'crucial': 1068, 'rarely': 3524, 'pages': 3168, 'silence': 3974, 'unconvincing': 4638, 'affair': 135, 'unreal': 4676, 'president': 3378, 'villains': 4745, 'douglas': 1334, 'sutherland': 4333, 'service': 3896, 'bleak': 503, 'mistake': 2871, 'bbc': 417, 'stone': 4197, 'product': 3418, 'joy': 2422, 'crew': 1053, 'ears': 1402, 'elegant': 1441, 'pie': 3271, 'angela': 232, 'artists': 309, 'achieved': 93, 'suits': 4287, 'bunch': 623, 'armed': 293, 'comics': 895, 'ignorant': 2223, 'cinemas': 817, 'flicks': 1755, 'staying': 4168, 'indie': 2276, 'polished': 3323, 'franchise': 1817, 'ass': 323, 'ticket': 4487, 'weapons': 4829, 'racist': 3503, 'complain': 919, 'temple': 4398, 'fighter': 1708, 'everywhere': 1545, 'yellow': 4981, 'pink': 3277, 'hadnt': 2004, 'stereotypical': 4180, 'tied': 4489, 'cops': 993, 'wearing': 4831, 'kirk': 2482, 'grasp': 1960, 'installment': 2303, 'captain': 674, 'ian': 2209, 'trio': 4587, 'paint': 3173, 'brenda': 575, 'desperation': 1210, 'freak': 1824, 'latin': 2527, 'drunk': 1375, 'button': 639, 'mass': 2753, 'trust': 4598, 'titanic': 4503, 'frequently': 1832, 'shallow': 3917, 'stinks': 4192, 'outfit': 3144, 'crying': 1074, 'kiss': 2483, 'block': 508, 'defense': 1159, 'surprises': 4314, 'speech': 4102, 'exposure': 1599, 'information': 2288, 'vicious': 4728, 'kicking': 2462, 'warned': 4798, 'intentionally': 2320, 'sentence': 3881, 'planning': 3291, 'paying': 3217, 'powers': 3361, 'wishes': 4906, 'cheating': 776, 'wonders': 4931, 'doll': 1313, 'steps': 4177, 'bore': 540, 'abuse': 74, 'hands': 2020, 'neighbor': 2992, 'jessica': 2398, 'forms': 1801, 'secrets': 3852, 'spirits': 4115, 'experiences': 1582, 'inevitable': 2282, 'photographed': 3258, 'awkward': 374, 'sloppy': 4030, 'reunion': 3669, 'chuck': 812, 'sexuality': 3909, '90': 60, 'edie': 1419, 'kitchen': 2485, 'cats': 721, 'reminds': 3620, '50': 51, 'decade': 1144, 'clean': 838, 'opportunities': 3120, 'comfortable': 892, 'considering': 952, 'mansion': 2731, 'gothic': 1945, 'mst3k': 2932, 'grave': 1962, 'manhattan': 2726, 'broadway': 592, 'rats': 3531, 'cook': 988, 'complaint': 920, 'rat': 3525, 'ninja': 3018, 'neck': 2985, 'rotten': 3740, 'degree': 1164, 'dozens': 1339, 'hong': 2149, 'kong': 2494, 'plausible': 3295, 'steven': 4182, '1970s': 17, '1980s': 21, 'broken': 594, 'biggest': 480, 'flaw': 1749, 'introduction': 2339, 'simon': 3982, '40s': 49, 'slap': 4018, 'mainly': 2708, 'prostitute': 3440, 'crowd': 1067, 'outstanding': 3147, 'poem': 3312, 'joan': 2404, 'nominated': 3025, 'ignored': 2225, 'nomination': 3026, 'tad': 4347, 'astaire': 330, 'overly': 3155, 'subplot': 4255, 'blond': 510, 'partner': 3198, 'poster': 3353, 'brilliantly': 584, 'lonely': 2643, 'shirley': 3936, 'innocence': 2293, 'torn': 4528, 'blowing': 515, 'smoke': 4039, 'puts': 3481, 'personalities': 3241, 'ironically': 2356, 'wear': 4830, 'corruption': 1002, 'dawson': 1128, 'hired': 2117, 'hang': 2022, 'purely': 3472, 'occurs': 3078, 'walks': 4780, 'cabin': 643, 'chair': 742, 'caring': 691, 'helping': 2081, 'cuba': 1075, 'shed': 3924, 'sadness': 3770, 'spielberg': 4110, 'jaws': 2385, 'intellectual': 2312, 'fare': 1655, 'specific': 4099, 'scope': 3821, 'academy': 77, 'travesty': 4570, 'glover': 1923, 'occasional': 3074, 'pg': 3250, 'parent': 3187, 'fields': 1705, 'reflect': 3584, 'nostalgic': 3039, 'hundred': 2195, 'performers': 3232, 'dressing': 1359, 'pleasantly': 3303, 'pleasure': 3306, 'urge': 4689, 'reviewer': 3677, 'cowboy': 1025, 'bush': 632, 'definition': 1163, 'appropriate': 283, 'describes': 1196, 'size': 4012, 'explosions': 1597, 'understood': 4647, 'hearing': 2063, 'experiments': 1584, 'horrendous': 2162, 'museum': 2945, 'military': 2844, 'alien': 183, 'attacked': 338, 'ho': 2127, 'explosion': 1596, 'fest': 1696, 'enemy': 1477, 'khan': 2459, 'impress': 2250, 'wake': 4774, 'sid': 3964, 'inappropriate': 2259, 'thumbs': 4485, 'buy': 640, 'program': 3424, 'spin': 4112, 'unnecessary': 4672, 'driving': 1368, 'laughably': 2531, 'placed': 3283, 'manner': 2729, 'ultimate': 4627, 'americas': 215, 'staff': 4138, 'twin': 4615, 'imagined': 2239, 'von': 4765, 'coherent': 871, 'ages': 152, 'dubbed': 1379, '1999': 27, 'locations': 2636, 'detailed': 1218, 'emotional': 1459, 'amanda': 205, 'burton': 630, 'screenwriter': 3833, 'masterful': 2758, 'prize': 3405, 'spider': 4109, 'arguably': 289, 'miller': 2846, 'nick': 3012, 'foster': 1809, 'arrested': 298, 'introduces': 2338, 'shake': 3914, 'strangers': 4214, 'mill': 2845, 'invisible': 2344, 'distance': 1294, 'hoped': 2156, 'drawing': 1350, 'strangely': 4212, 'disease': 1285, 'misses': 2868, 'doctors': 1305, 'ocean': 3079, 'mentioning': 2812, 'mothers': 2912, 'wished': 4905, 'focusing': 1769, 'brilliance': 582, 'showed': 3956, 'drug': 1373, 'honesty': 2148, 'disturbed': 1299, 'wound': 4960, 'bitter': 491, 'philip': 3252, 'ruins': 3752, 'interpretation': 2328, 'satisfy': 3790, 'object': 3066, 'compelled': 915, 'captures': 678, 'reasonable': 3558, 'stilted': 4190, 'nicely': 3009, 'deeper': 1155, 'wholly': 4874, 'continued': 970, 'taxi': 4371, 'driver': 1366, 'spike': 4111, 'feed': 1683, 'mob': 2879, 'citizen': 824, 'sub': 4252, 'useless': 4695, 'maggie': 2702, 'tape': 4365, 'timing': 4498, 'holiday': 2134, 'johnson': 2411, 'rental': 3627, 'troubled': 4593, 'orange': 3125, 'gag': 1861, 'elderly': 1440, 'disgusting': 1286, 'errors': 1516, 'exceptional': 1558, 'ensemble': 1492, 'centered': 733, 'atrocious': 335, 'target': 4366, 'catholic': 720, 'monk': 2889, 'investigate': 2342, 'danger': 1109, 'implausible': 2245, 'primarily': 3393, 'showcase': 3954, 'humour': 2194, 'mummy': 2937, 'ward': 4793, 'aid': 160, 'terrorist': 4413, 'hide': 2097, 'widely': 4881, 'alike': 185, 'zombies': 4998, 'spring': 4134, 'margaret': 2735, 'felix': 1689, 'kudos': 2497, 'failure': 1629, 'minor': 2857, 'stranger': 4213, 'stretch': 4221, 'engage': 1479, 'seemingly': 3863, 'similarities': 3979, 'lessons': 2578, 'personality': 3242, 'supernatural': 4302, 'veteran': 4724, 'convincingly': 986, 'miles': 2843, 'perfection': 3225, '1940s': 13, 'kay': 2447, 'africa': 141, 'professor': 3422, 'females': 1694, 'obnoxious': 3067, 'tend': 4400, 'requires': 3642, 'ford': 1789, 'lawyer': 2541, 'lincoln': 2608, 'reasonably': 3559, 'fonda': 1777, 'brady': 561, 'diamond': 1236, 'serial': 3889, 'patrick': 3213, 'psychic': 3456, 'understanding': 4645, 'continue': 969, 'access': 83, 'blade': 495, 'welcome': 4842, 'freeman': 1829, 'cup': 1080, 'sneak': 4043, 'religious': 3608, 'exposed': 1598, 'forth': 1804, 'chief': 788, 'punishment': 3467, '2005': 35, 'iran': 2350, 'deeply': 1156, 'march': 2734, 'sacrifice': 3766, 'horses': 2171, 'treats': 4575, 'lay': 2542, 'illogical': 2231, 'communist': 907, 'idiot': 2218, 'rid': 3690, 'todd': 4510, 'edgar': 1417, 'blonde': 511, 'performing': 3233, 'enters': 1496, 'fx': 1858, 'zone': 4999, 'approach': 282, 'shine': 3931, 'aged': 149, 'donna': 1323, 'cleverly': 842, 'lesson': 2577, 'testament': 4417, 'experiment': 1583, 'constantly': 958, 'fever': 1699, 'travels': 4569, 'struck': 4232, 'unrealistic': 4677, 'represented': 3638, 'clips': 852, 'mtv': 2933, 'persons': 3244, 'tap': 4364, 'airport': 167, 'wes': 4851, 'craven': 1034, 'murphy': 2944, 'wreck': 4965, 'rachel': 3500, 'quote': 3496, 'airplane': 166, 'witty': 4917, 'flawless': 1751, 'designed': 1203, 'emphasis': 1463, 'halloween': 2010, 'lesbian': 2573, 'online': 3109, 'controversial': 978, 'hysterical': 2208, 'worry': 4950, 'acid': 95, 'hopefully': 2157, 'dry': 1377, 'politically': 3325, 'giant': 1905, 'combat': 882, 'depicting': 1184, 'pays': 3218, 'ranks': 3519, 'loads': 2633, 'subtitles': 4259, 'boredom': 542, 'superficial': 4298, 'succeeded': 4263, 'bag': 384, 'hyde': 2206, 'regret': 3591, 'library': 2589, 'cary': 706, 'grant': 1956, 'turkey': 4604, 'ahead': 159, 'consistent': 953, 'criticism': 1063, 'understandable': 4644, 'parker': 3191, 'dignity': 1252, 'speaking': 4095, 'fu': 1844, 'assumed': 329, 'accent': 78, 'creators': 1044, 'method': 2824, 'creativity': 1042, 'practice': 3363, 'nuts': 3064, 'bird': 484, 'respected': 3653, 'bear': 420, 'videos': 4734, 'concert': 935, 'olivier': 3103, 'hamlet': 2013, 'lemmon': 2567, 'heston': 2094, 'intensity': 2317, 'branagh': 564, 'enjoys': 1489, 'unoriginal': 4673, '1st': 28, 'vietnam': 4735, 'brooks': 596, 'oddly': 3081, 'pro': 3406, 'distracting': 1297, 'teen': 4388, 'clumsy': 866, 'expert': 1585, 'sport': 4129, 'purposes': 3475, 'picked': 3266, 'ryan': 3765, 'transformation': 4560, 'fetched': 1698, 'theory': 4437, 'shock': 3938, 'loud': 2664, 'commercial': 902, 'happily': 2030, 'backgrounds': 381, 'wave': 4818, 'robots': 3718, 'paltrow': 3178, 'laws': 2540, '70': 55, 'jumping': 2431, 'shark': 3921, 'cgi': 740, 'walls': 4783, 'disagree': 1269, 'clothing': 861, 'aids': 161, 'spare': 4093, 'disbelief': 1277, 'moronic': 2907, 'wondered': 4927, 'sidney': 3968, 'jobs': 2406, 'rights': 3697, 'bo': 521, 'source': 4086, 'holmes': 2139, 'con': 928, 'redemption': 3578, 'jake': 2377, 'ego': 1435, 'gritty': 1977, 'crafted': 1029, 'fashion': 1659, 'occasion': 3073, 'merit': 2816, 'bay': 416, 'wood': 4933, 'honor': 2150, 'midnight': 2834, 'glass': 1917, 'wore': 4939, 'hamilton': 2012, 'womens': 4924, 'fresh': 1833, 'devoid': 1230, 'winters': 4901, 'neighbors': 2994, 'corporate': 998, 'stood': 4199, 'pig': 3274, 'winter': 4900, 'explore': 1594, 'explored': 1595, 'vast': 4716, 'mountains': 2918, 'dutch': 1389, 'buff': 611, 'intentions': 2321, 'superbly': 4297, 'portraying': 3343, 'dig': 1250, 'opinions': 3119, 'prom': 3429, 'unpredictable': 4675, 'guilty': 1995, 'rolling': 3730, 'stellar': 4174, 'cagney': 646, 'views': 4742, 'christian': 808, 'argument': 291, 'months': 2897, 'masters': 2761, 'interviews': 2330, 'pointed': 3317, 'weakest': 4825, 'rule': 3753, 'interview': 2329, 'demands': 1175, 'christians': 809, 'groups': 1981, 'stiff': 4187, 'sellers': 3872, 'upper': 4685, 'priceless': 3390, 'glorious': 1921, 'providing': 3451, 'akshay': 169, 'bride': 577, 'offering': 3089, 'noted': 3045, 'presents': 3377, 'southern': 4088, 'kennedy': 2454, 'bud': 607, 'demented': 1176, 'genres': 1889, 'narrative': 2966, 'incoherent': 2265, 'practically': 3362, 'deliberately': 1166, 'plastic': 3294, 'resembles': 3646, 'talked': 4359, 'dialogs': 1233, 'oil': 3097, 'prefer': 3368, 'cia': 814, 'eddie': 1416, 'elm': 1447, 'stretched': 4222, 'unpleasant': 4674, 'seeking': 3859, 'lifetime': 2594, 'afternoon': 144, 'lol': 2640, 'locked': 2637, 'firstly': 1737, '1973': 19, 'cusack': 1088, '1983': 22, 'rochester': 3719, 'matched': 2763, 'fit': 1740, 'occurred': 3077, 'trek': 4578, 'overdone': 3152, 'cartoons': 705, 'parody': 3192, 'performer': 3231, 'lifestyle': 2593, 'surfing': 4311, '35': 45, 'raise': 3507, 'slaughter': 4021, 'wrapped': 4964, 'roll': 3728, 'caine': 647, 'rubbish': 3748, 'dubbing': 1380, 'striking': 4226, 'designs': 1204, 'attacks': 339, 'generated': 1882, 'mel': 2796, 'university': 4667, 'disjointed': 1287, 'leonard': 2572, 'catches': 715, 'escaped': 1518, 'appearing': 277, 'encounter': 1466, 'builds': 617, 'benefit': 465, 'itll': 2369, 'classical': 836, 'journalist': 2420, 'writes': 4970, 'frightening': 1839, 'clichés': 846, 'blank': 501, 'bound': 553, 'resident': 3647, 'claim': 828, 'population': 3335, 'inept': 2281, 'shadows': 3913, 'brosnan': 597, 'jewish': 2401, 'slapstick': 4019, 'montage': 2894, 'arrogant': 303, 'afterwards': 145, 'jamie': 2379, 'hugh': 2186, 'proves': 3447, 'prisoner': 3402, 'saturday': 3792, 'competition': 918, 'demon': 1177, 'melodrama': 2797, 'river': 3707, 'hates': 2048, 'accused': 91, 'overrated': 3156, 'wannabe': 4787, 'wed': 4835, 'balls': 390, 'messed': 2821, 'appalling': 268, 'meaningful': 2781, 'profound': 3423, 'secondly': 3847, 'skill': 4013, 'inventive': 2341, 'listening': 2620, 'recording': 3575, 'blend': 504, 'stylish': 4251, 'thrilling': 4474, 'jeremy': 2394, 'wonderfully': 4929, 'author': 359, 'reads': 3545, 'instantly': 2306, 'watches': 4814, 'essence': 1521, 'blows': 517, 'scream': 3826, 'holly': 2136, 'worn': 4948, 'bone': 533, 'featured': 1679, 'multi': 2935, 'pit': 3278, 'alert': 178, 'uwe': 4703, 'boll': 529, 'tame': 4363, 'suffering': 4277, 'fulci': 1845, 'dawn': 1127, 'italy': 2368, 'ratings': 3530, 'media': 2789, 'dick': 1239, 'throat': 4476, 'flash': 1745, 'babe': 375, 'beatty': 427, 'remarks': 3615, 'directorial': 1265, 'destroyed': 1214, 'preview': 3386, 'race': 3499, 'stereotype': 4178, 'improve': 2254, 'typically': 4624, 'settle': 3902, 'troubles': 4594, 'devils': 1229, 'sophisticated': 4075, 'relatively': 3600, 'wayne': 4821, 'hal': 2006, 'wrestling': 4966, 'sisters': 4002, 'cake': 648, 'quotes': 3497, 'models': 2881, 'mine': 2853, 'advice': 133, 'contrary': 974, 'bridge': 578, 'enterprise': 1495, 'returning': 3667, 'kung': 2498, 'shelley': 3928, 'attempted': 341, 'mid': 2832, 'ned': 2986, 'liking': 2604, 'kubrick': 2496, 'matrix': 2767, 'cameron': 661, 'notorious': 3051, 'existed': 1570, 'scores': 3823, 'dracula': 1341, 'roy': 3745, 'audio': 354, 'vampires': 4712, 'suited': 4286, 'ruin': 3750, 'rocky': 3723, 'goodness': 1938, 'pretend': 3381, 'virus': 4752, 'bullets': 621, 'craft': 1028, 'fifteen': 1706, 'survival': 4320, 'meat': 2787, 'seeks': 3860, 'struggles': 4235, 'vaguely': 4706, 'network': 3000, 'vegas': 4717, 'china': 795, 'musicals': 2948, 'aunt': 355, 'attracted': 349, 'pamela': 3179, 'kissing': 2484, 'earned': 1401, 'factory': 1623, 'consistently': 954, 'overlook': 3153, 'miike': 2837, 'suitable': 4285, 'homage': 2141, 'creatures': 1046, 'junior': 2435, 'flesh': 1753, 'souls': 4080, 'motivation': 2914, 'beer': 439, 'masses': 2755, 'pokemon': 3320, 'arrived': 301, 'disappear': 1270, 'stale': 4141, 'worlds': 4947, 'fortune': 1806, 'mildred': 2841, 'ashley': 313, 'rough': 3741, 'teacher': 4375, 'selfish': 3870, 'sally': 3776, 'eccentric': 1414, 'operation': 3117, 'downhill': 1336, 'destroying': 1215, 'urban': 4688, 'philosophy': 3254, 'angels': 234, 'nonsensical': 3031, 'demand': 1174, 'advance': 127, 'valley': 4707, 'alfred': 181, 'amongst': 218, 'birds': 485, 'omen': 3104, 'faithful': 1634, 'outcome': 3142, 'unsettling': 4679, 'fears': 1677, 'streisand': 4218, 'tracy': 4546, 'couples': 1017, 'molly': 2884, 'cube': 1076, 'incompetent': 2266, 'uninspired': 4657, 'drew': 1360, 'flawed': 1750, 'intrigued': 2334, 'iron': 2354, 'teach': 4374, 'distant': 1295, 'contact': 961, 'wives': 4918, 'nightmares': 3015, 'defeat': 1157, 'surviving': 4323, 'kenneth': 2455, 'conservative': 948, 'challenge': 743, 'endearing': 1469, 'effectively': 1430, 'thoughtful': 4463, 'charlotte': 766, 'agrees': 157, 'ensues': 1493, 'dialogues': 1235, 'raped': 3522, 'ethan': 1528, 'broad': 590, 'gags': 1862, 'macy': 2695, 'destiny': 1212, 'rocks': 3722, 'scripts': 3836, 'reed': 3580, 'switch': 4339, 'ingredients': 2289, 'ripped': 3701, 'amy': 222, 'bakshi': 386, 'tie': 4488, 'lion': 2614, 'lane': 2515, 'cannibal': 669, 'orson': 3132, 'welles': 4844, 'kane': 2442, 'strictly': 4223, 'advanced': 128, 'distinct': 1296, 'regard': 3588, 'disappoint': 1272, 'dare': 1113, 'matches': 2764, 'commercials': 903, 'aimed': 162, 'frequent': 1831, 'invasion': 2340, 'strike': 4224, 'ghosts': 1903, 'warn': 4797, 'leg': 2562, 'dating': 1120, 'glimpse': 1919, 'chilling': 794, 'kings': 2481, 'ironic': 2355, 'dolph': 1317, 'dave': 1123, 'individual': 2277, 'timeless': 4496, 'integrity': 2311, 'bugs': 613, 'staged': 4140, 'disc': 1278, 'basketball': 409, 'coach': 868, 'nicholson': 3011, 'splatter': 4118, 'cameras': 660, 'streep': 4215, 'greek': 1970, 'progresses': 3426, 'bus': 631, 'folk': 1770, 'inferior': 2285, 'producing': 3417, 'kurt': 2499, 'claimed': 829, 'ps': 3453, 'photo': 3257, 'description': 1197, 'concerning': 933, 'louise': 2666, 'critic': 1061, 'dreadful': 1353, 'closely': 855, 'seed': 3856, 'crude': 1069, 'robbery': 3711, 'resources': 3651, 'loosely': 2651, 'fallen': 1638, 'lesser': 2576, 'square': 4136, 'dire': 1257, 'sir': 4000, 'crimes': 1056, 'horrors': 2169, 'lust': 2689, 'plague': 3285, 'north': 3036, 'spoke': 4125, 'michelle': 2830, 'lasted': 2522, 'performs': 3234, 'furthermore': 1854, 'ruth': 3763, 'mitchell': 2875, 'knock': 2488, 'mature': 2773, 'childhood': 790, 'resulting': 3661, 'disneys': 1290, 'toy': 4542, 'bank': 394, 'millions': 2848, 'relations': 3596, 'scottish': 3825, 'slave': 4022, 'depression': 1189, 'secretly': 3851, 'painted': 3174, 'kidding': 2465, 'swedish': 4335, 'unintentionally': 4659, 'godzilla': 1929, 'cox': 1026, 'appreciated': 280, 'voight': 4764, 'hoffman': 2128, 'tall': 4362, 'wandering': 4785, 'decades': 1145, 'horrifying': 2167, 'consists': 955, 'device': 1227, 'willis': 4890, 'cole': 873, 'brad': 560, 'pitt': 3280, 'twelve': 4611, '1990': 24, 'psychiatrist': 3455, 'fay': 1674, 'grim': 1974, 'newly': 3004, 'mile': 2842, 'instant': 2305, 'repetitive': 3633, 'sandra': 3782, 'eve': 1532, 'judging': 2425, 'convoluted': 987, 'unusual': 4681, 'reaches': 3538, 'poetry': 3314, 'seventies': 3904, 'shirt': 3937, 'hed': 2072, 'task': 4368, 'max': 2774, 'manipulative': 2727, 'chapter': 757, '1968': 16, 'noble': 3021, 'endure': 1475, 'carradine': 695, 'daring': 1114, 'caliber': 649, 'lazy': 2543, 'amazed': 208, 'borrowed': 545, 'frustration': 1843, 'jumped': 2430, 'bin': 483, 'cars': 702, 'shadow': 3912, 'creator': 1043, 'gotta': 1946, 'individuals': 2278, 'union': 4661, 'captivating': 675, 'flynn': 1765, 'depiction': 1185, 'progress': 3425, 'bergman': 466, 'tunes': 4603, 'popularity': 3334, 'bath': 411, 'highlights': 2104, 'tea': 4373, 'fury': 1855, 'eyre': 1614, 'subjects': 4254, 'snl': 4044, 'repeat': 3630, 'wallace': 4782, 'clown': 862, 'stolen': 4195, 'challenging': 744, 'slick': 4026, 'poetic': 3313, 'conflicts': 940, 'instinct': 2308, 'spirited': 4114, 'ludicrous': 2685, 'freddy': 1826, 'loser': 2655, 'contest': 967, 'scheme': 3812, 'failing': 1627, 'kapoor': 2443, 'responsibility': 3655, 'versus': 4722, 'civil': 826, 'elsewhere': 1449, 'ya': 4976, 'smoking': 4040, 'ramones': 3512, 'berlin': 467, 'nearby': 2980, 'belong': 459, 'parties': 3196, 'accepted': 82, 'jr': 2423, 'mere': 2814, 'smiling': 4037, 'discuss': 1283, 'shoes': 3941, 'mentions': 2813, 'witches': 4910, 'st': 4137, 'waves': 4819, 'expensive': 1579, 'heat': 2067, 'areas': 287, 'per': 3223, 'empathy': 1462, 'davies': 1125, 'successfully': 4267, 'divorce': 1301, 'amitabh': 216, 'agreed': 156, 'reminiscent': 3621, 'chess': 783, 'nonetheless': 3029, 'superhero': 4299, 'plant': 3293, 'photos': 3261, 'warriors': 4803, 'fooled': 1780, 'sword': 4340, 'mighty': 2836, 'string': 4227, 'frankenstein': 1822, 'stiller': 4189, 'proceedings': 3410, 'lena': 2568, 'rap': 3520, 'tiger': 4491, 'lily': 2605, 'mechanical': 2788, 'crack': 1027, 'officers': 3093, 'teaching': 4377, 'depressed': 1187, 'warrior': 4802, 'myers': 2952, 'drags': 1345, 'thrill': 4471, 'via': 4726, 'ireland': 2352, 'atlantis': 332, 'saga': 3773, 'provoking': 3452, 'doubts': 1333, 'corrupt': 1001, 'dreary': 1356, 'greatly': 1967, 'karloff': 2445, 'nelson': 2997, 'nuclear': 3057, 'modesty': 2883, 'promises': 3432, 'exceptionally': 1559, 'suffice': 4279, 'curiosity': 1082, 'drunken': 1376, 'vague': 4705, 'countless': 1012, 'carrie': 697, 'swim': 4337, 'naturally': 2974, 'ease': 1404, 'jesse': 2397, 'phony': 3256, 'assault': 324, 'liberal': 2588, 'entry': 1504, 'bela': 450, 'par': 3184, 'appearances': 275, 'fisher': 1739, 'earl': 1398, 'warmth': 4796, 'border': 539, 'maintain': 2710, 'innovative': 2295, 'bacall': 377, 'adapted': 114, 'household': 2179, 'conceived': 929, 'legal': 2563, 'weight': 4840, 'randomly': 3515, 'broadcast': 591, 'domino': 1319, 'sadistic': 3768, 'fatal': 1664, 'threw': 4470, 'elvira': 1450, 'hills': 2109, 'simplicity': 3984, 'killers': 2471, 'directions': 1262, 'lawrence': 2539, 'abc': 63, 'avoided': 364, 'hopeless': 2158, 'increasingly': 2268, 'carol': 693, 'abilities': 64, 'retired': 3664, 'reel': 3581, 'meaningless': 2782, 'distribution': 1298, 'buried': 624, 'anyways': 262, 'fix': 1744, 'reached': 3537, 'literature': 2623, 'linda': 2609, 'arnold': 296, 'spiritual': 4116, 'hippie': 2115, 'bible': 477, 'believing': 457, 'bargain': 400, 'interaction': 2322, 'hilariously': 2107, 'receives': 3565, 'complexity': 924, 'hart': 2041, 'official': 3094, 'timothy': 4499, 'checking': 778, 'blob': 507, 'represent': 3637, 'response': 3654, 'occur': 3076, 'climactic': 848, 'bears': 421, 'april': 284, 'marty': 2749, 'technically': 4382, 'mistress': 2874, 'medium': 2792, 'troops': 4591, 'bottle': 550, 'rex': 3683, 'scripted': 3835, 'desired': 1206, 'carpenter': 694, 'heavily': 2069, 'twins': 4616, 'yelling': 4980, 'funeral': 1849, 'clip': 851, 'displayed': 1292, 'doomed': 1327, 'rambo': 3511, 'importantly': 2248, 'kicked': 2461, 'adams': 112, 'pulling': 3463, 'lou': 2663, 'justin': 2440, 'faults': 1669, 'catchy': 717, 'francis': 1818, 'rick': 3689, 'annie': 247, 'protagonists': 3442, 'tends': 4402, 'scrooge': 3837, 'unaware': 4632, 'neo': 2998, 'neil': 2995, 'chain': 741, 'dropping': 1371, 'returned': 3666, 'jenny': 2393, 'serving': 3897, 'norman': 3035, 'exploration': 1593, 'plight': 3308, '3000': 43, 'chooses': 800, 'whale': 4857, 'cliche': 843, 'dedicated': 1153, 'tracks': 4545, 'paulie': 3215, 'greedy': 1969, 'executive': 1567, 'peters': 3248, 'artificial': 306, 'montana': 2895, 'nations': 2971, 'gandhi': 1866, 'portion': 3338, 'revealing': 3672, 'overwhelming': 3157, 'translation': 4562, 'silver': 3977, 'cheated': 775, 'someones': 4065, 'ruby': 3749, 'warren': 4801, 'morality': 2903, 'unfolds': 4651, 'danes': 1108, 'roberts': 3714, 'widmark': 4882, 'suggested': 4281, 'attorney': 348, 'rolled': 3729, 'overacting': 3149, 'seagal': 3839, 'rocket': 3721, 'jaw': 2384, 'protect': 3443, 'boom': 537, 'lumet': 2688, 'attitudes': 347, 'estate': 1525, 'trail': 4553, 'tomatoes': 4515, 'mickey': 2831, 'stan': 4142, 'enthusiasm': 1501, 'comparing': 913, 'nicholas': 3010, 'likewise': 2603, 'rising': 3703, 'reduced': 3579, 'capital': 673, 'lugosi': 2686, 'blah': 496, 'madonna': 2699, 'rangers': 3517, 'despair': 1207, 'polanski': 3321, 'join': 2412, 'che': 773, 'scarecrow': 3804, 'affect': 136, 'patients': 3212, 'sink': 3999, 'gundam': 1997, 'tag': 4348, 'icon': 2211, 'waters': 4817, 'championship': 745, 'generations': 1884, 'classes': 834, '2007': 37, 'voiced': 4762, 'gadget': 1860, 'joey': 2408, 'hopper': 2161, 'diana': 1237, 'bang': 393, 'crocodile': 1065, 'unseen': 4678, 'dalton': 1098, 'mars': 2746, 'bettie': 473, 'alexander': 180, 'grinch': 1975, 'stargate': 4151, 'wendy': 4846, 'petty': 3249, 'witnesses': 4916, 'bite': 489, 'marketing': 2741, 'virginia': 4750}\n"
     ]
    }
   ],
   "source": [
    "print(str(vocabulary))"
   ]
  },
  {
   "cell_type": "markdown",
   "metadata": {},
   "source": [
    "Once you have added the endpoint name to the Lambda function, click on **Save**. Your Lambda function is now up and running. Next we need to create a way for our web app to execute the Lambda function."
   ]
  },
  {
   "cell_type": "markdown",
   "metadata": {},
   "source": [
    "### Setting up API Gateway\n",
    "\n",
    "Now that our Lambda function is set up, it is time to create a new API using API Gateway that will trigger the Lambda function we have just created.\n",
    "\n",
    "Using AWS Console, navigate to **Amazon API Gateway** and then click on **Get started**.\n",
    "\n",
    "On the next page, make sure that **New API** is selected and give the new api a name, for example, `sentiment_analysis_web_app`. Then, click on **Create API**.\n",
    "\n",
    "Now we have created an API, however it doesn't currently do anything. What we want it to do is to trigger the Lambda function that we created earlier.\n",
    "\n",
    "Select the **Actions** dropdown menu and click **Create Method**. A new blank method will be created, select its dropdown menu and select **POST**, then click on the check mark beside it.\n",
    "\n",
    "For the integration point, make sure that **Lambda Function** is selected and click on the **Use Lambda Proxy integration**. This option makes sure that the data that is sent to the API is then sent directly to the Lambda function with no processing. It also means that the return value must be a proper response object as it will also not be processed by API Gateway.\n",
    "\n",
    "Type the name of the Lambda function you created earlier into the **Lambda Function** text entry box and then click on **Save**. Click on **OK** in the pop-up box that then appears, giving permission to API Gateway to invoke the Lambda function you created.\n",
    "\n",
    "The last step in creating the API Gateway is to select the **Actions** dropdown and click on **Deploy API**. You will need to create a new Deployment stage and name it anything you like, for example `prod`.\n",
    "\n",
    "You have now successfully set up a public API to access your SageMaker model. Make sure to copy or write down the URL provided to invoke your newly created public API as this will be needed in the next step. This URL can be found at the top of the page, highlighted in blue next to the text **Invoke URL**."
   ]
  },
  {
   "cell_type": "markdown",
   "metadata": {},
   "source": [
    "## Step 7: Deploying our web app\n",
    "\n",
    "Now that we have a publicly available API, we can start using it in a web app. For our purposes, we have provided a simple static html file which can make use of the public api you created earlier.\n",
    "\n",
    "In the `website` folder there should be a file called `index.html`. Download the file to your computer and open that file up in a text editor of your choice. There should be a line which contains **\\*\\*REPLACE WITH PUBLIC API URL\\*\\***. Replace this string with the url that you wrote down in the last step and then save the file.\n",
    "\n",
    "Now, if you open `index.html` on your local computer, your browser will behave as a local web server and you can use the provided site to interact with your SageMaker model.\n",
    "\n",
    "If you'd like to go further, you can host this html file anywhere you'd like, for example using github or hosting a static site on Amazon's S3. Once you have done this you can share the link with anyone you'd like and have them play with it too!\n",
    "\n",
    "> **Important Note** In order for the web app to communicate with the SageMaker endpoint, the endpoint has to actually be deployed and running. This means that you are paying for it. Make sure that the endpoint is running when you want to use the web app but that you shut it down when you don't need it, otherwise you will end up with a surprisingly large AWS bill."
   ]
  },
  {
   "cell_type": "markdown",
   "metadata": {},
   "source": [
    "### Delete the endpoint\n",
    "\n",
    "Remember to always shut down your endpoint if you are no longer using it. You are charged for the length of time that the endpoint is running so if you forget and leave it on you could end up with an unexpectedly large bill."
   ]
  },
  {
   "cell_type": "code",
   "execution_count": 50,
   "metadata": {},
   "outputs": [],
   "source": [
    "xgb_predictor.delete_endpoint()"
   ]
  },
  {
   "cell_type": "markdown",
   "metadata": {},
   "source": [
    "## Optional: Clean up\n",
    "\n",
    "The default notebook instance on SageMaker doesn't have a lot of excess disk space available. As you continue to complete and execute notebooks you will eventually fill up this disk space, leading to errors which can be difficult to diagnose. Once you are completely finished using a notebook it is a good idea to remove the files that you created along the way. Of course, you can do this from the terminal or from the notebook hub if you would like. The cell below contains some commands to clean up the created files from within the notebook."
   ]
  },
  {
   "cell_type": "code",
   "execution_count": 2,
   "metadata": {},
   "outputs": [
    {
     "name": "stdout",
     "output_type": "stream",
     "text": [
      "rm: cannot remove ‘/bin’: Is a directory\n",
      "rm: cannot remove ‘/boot’: Is a directory\n",
      "rm: cannot remove ‘/cgroup’: Is a directory\n",
      "rm: cannot remove ‘/dev’: Is a directory\n",
      "rm: cannot remove ‘/etc’: Is a directory\n",
      "rm: cannot remove ‘/home’: Is a directory\n",
      "rm: cannot remove ‘/include’: Is a directory\n",
      "rm: cannot remove ‘/lib’: Is a directory\n",
      "rm: cannot remove ‘/lib64’: Is a directory\n",
      "rm: cannot remove ‘/local’: Is a directory\n",
      "rm: cannot remove ‘/lost+found’: Is a directory\n",
      "rm: cannot remove ‘/media’: Is a directory\n",
      "rm: cannot remove ‘/mnt’: Is a directory\n",
      "rm: cannot remove ‘/opt’: Is a directory\n",
      "rm: cannot remove ‘/proc’: Is a directory\n",
      "rm: cannot remove ‘/root’: Is a directory\n",
      "rm: cannot remove ‘/run’: Is a directory\n",
      "rm: cannot remove ‘/sbin’: Is a directory\n",
      "rm: cannot remove ‘/selinux’: Is a directory\n",
      "rm: cannot remove ‘/srv’: Is a directory\n",
      "rm: cannot remove ‘/sys’: Is a directory\n",
      "rm: cannot remove ‘/tmp’: Is a directory\n",
      "rm: cannot remove ‘/usr’: Is a directory\n",
      "rm: cannot remove ‘/var’: Is a directory\n",
      "rmdir: missing operand\n",
      "Try 'rmdir --help' for more information.\n",
      "rm: cannot remove ‘/bin’: Is a directory\n",
      "rm: cannot remove ‘/boot’: Is a directory\n",
      "rm: cannot remove ‘/cgroup’: Is a directory\n",
      "rm: cannot remove ‘/dev’: Is a directory\n",
      "rm: cannot remove ‘/etc’: Is a directory\n",
      "rm: cannot remove ‘/home’: Is a directory\n",
      "rm: cannot remove ‘/include’: Is a directory\n",
      "rm: cannot remove ‘/lib’: Is a directory\n",
      "rm: cannot remove ‘/lib64’: Is a directory\n",
      "rm: cannot remove ‘/local’: Is a directory\n",
      "rm: cannot remove ‘/lost+found’: Is a directory\n",
      "rm: cannot remove ‘/media’: Is a directory\n",
      "rm: cannot remove ‘/mnt’: Is a directory\n",
      "rm: cannot remove ‘/opt’: Is a directory\n",
      "rm: cannot remove ‘/proc’: Is a directory\n",
      "rm: cannot remove ‘/root’: Is a directory\n",
      "rm: cannot remove ‘/run’: Is a directory\n",
      "rm: cannot remove ‘/sbin’: Is a directory\n",
      "rm: cannot remove ‘/selinux’: Is a directory\n",
      "rm: cannot remove ‘/srv’: Is a directory\n",
      "rm: cannot remove ‘/sys’: Is a directory\n",
      "rm: cannot remove ‘/tmp’: Is a directory\n",
      "rm: cannot remove ‘/usr’: Is a directory\n",
      "rm: cannot remove ‘/var’: Is a directory\n",
      "rmdir: missing operand\n",
      "Try 'rmdir --help' for more information.\n"
     ]
    }
   ],
   "source": [
    "# First we will remove all of the files contained in the data_dir directory\n",
    "!rm $data_dir/*\n",
    "\n",
    "# And then we delete the directory itself\n",
    "!rmdir $data_dir\n",
    "\n",
    "# Similarly we remove the files in the cache_dir directory and the directory itself\n",
    "!rm $cache_dir/*\n",
    "!rmdir $cache_dir"
   ]
  },
  {
   "cell_type": "code",
   "execution_count": null,
   "metadata": {},
   "outputs": [],
   "source": []
  }
 ],
 "metadata": {
  "kernelspec": {
   "display_name": "conda_python3",
   "language": "python",
   "name": "conda_python3"
  },
  "language_info": {
   "codemirror_mode": {
    "name": "ipython",
    "version": 3
   },
   "file_extension": ".py",
   "mimetype": "text/x-python",
   "name": "python",
   "nbconvert_exporter": "python",
   "pygments_lexer": "ipython3",
   "version": "3.6.5"
  }
 },
 "nbformat": 4,
 "nbformat_minor": 2
}
